{
 "cells": [
  {
   "cell_type": "code",
   "execution_count": 2,
   "metadata": {},
   "outputs": [],
   "source": [
    "from keras.datasets import imdb\n",
    "from keras.utils import pad_sequences\n",
    "from keras.models import Sequential\n",
    "from keras.layers import Embedding, SimpleRNN, Dense, LSTM\n",
    "from keras.callbacks import EarlyStopping\n",
    "#from keras.optimizers import RMSprop\n",
    "import matplotlib.pyplot as plt\n",
    "import numpy as np\n",
    "\n",
    "# Load IMDb dataset\n",
    "# This is a dataset of 25,000 movies reviews from IMDB, labeled by sentiment (positive/negative).\n",
    "# Reviews have been preprocessed, and each review is encoded as a list of word indexes (integers).\n",
    "# For convenience, words are indexed by overall frequency in the dataset,\n",
    "# so that for instance the integer \"3\" encodes the 3rd most frequent word in the data.\n",
    "\n",
    "(train_x, train_y), (test_x, test_y) = imdb.load_data(num_words=500) # 50'000 wäre typische Vokabgrösse, die viel einer Sprache abdeckt\n",
    "\n",
    "# num_words: integer. Words are ranked by how often they occur (in the training set)\n",
    "# and only the num_words most frequent words are kept.\n",
    "# Any less frequent word will appear as oov_char value in the sequence data.\n"
   ]
  },
  {
   "cell_type": "code",
   "execution_count": null,
   "metadata": {},
   "outputs": [],
   "source": [
    "# Padding sequences\n",
    "# Transforms a list (of length num_samples) of sequences (lists of integers)\n",
    "# into a 2D NumPy array of shape (num_samples, num_timesteps).\n",
    "# num_timesteps is either the maxlen argument if provided, or the length\n",
    "# of the longest sequence in the list.\n",
    "\n",
    "train_x = pad_sequences(train_x, maxlen=100)\n",
    "test_x = pad_sequences(test_x, maxlen=100)"
   ]
  },
  {
   "cell_type": "code",
   "execution_count": 7,
   "metadata": {},
   "outputs": [
    {
     "ename": "ValueError",
     "evalue": "Input 0 of layer \"simple_rnn_3\" is incompatible with the layer: expected ndim=3, found ndim=2. Full shape received: (None, 32)",
     "output_type": "error",
     "traceback": [
      "\u001b[0;31m---------------------------------------------------------------------------\u001b[0m",
      "\u001b[0;31mValueError\u001b[0m                                Traceback (most recent call last)",
      "Cell \u001b[0;32mIn[7], line 2\u001b[0m\n\u001b[1;32m      1\u001b[0m \u001b[38;5;66;03m# Model\u001b[39;00m\n\u001b[0;32m----> 2\u001b[0m model \u001b[38;5;241m=\u001b[39m \u001b[43mSequential\u001b[49m\u001b[43m(\u001b[49m\u001b[43m[\u001b[49m\n\u001b[1;32m      3\u001b[0m \u001b[43m    \u001b[49m\u001b[43mEmbedding\u001b[49m\u001b[43m(\u001b[49m\u001b[43minput_dim\u001b[49m\u001b[38;5;241;43m=\u001b[39;49m\u001b[38;5;241;43m500\u001b[39;49m\u001b[43m,\u001b[49m\u001b[43m \u001b[49m\u001b[43moutput_dim\u001b[49m\u001b[38;5;241;43m=\u001b[39;49m\u001b[38;5;241;43m32\u001b[39;49m\u001b[43m)\u001b[49m\u001b[43m,\u001b[49m\n\u001b[1;32m      4\u001b[0m \u001b[43m    \u001b[49m\u001b[43mSimpleRNN\u001b[49m\u001b[43m(\u001b[49m\u001b[43munits\u001b[49m\u001b[38;5;241;43m=\u001b[39;49m\u001b[38;5;241;43m32\u001b[39;49m\u001b[43m)\u001b[49m\u001b[43m,\u001b[49m\n\u001b[1;32m      5\u001b[0m \u001b[43m    \u001b[49m\u001b[43mSimpleRNN\u001b[49m\u001b[43m(\u001b[49m\u001b[43munits\u001b[49m\u001b[38;5;241;43m=\u001b[39;49m\u001b[38;5;241;43m32\u001b[39;49m\u001b[43m)\u001b[49m\u001b[43m,\u001b[49m\n\u001b[1;32m      6\u001b[0m \u001b[43m    \u001b[49m\u001b[43mSimpleRNN\u001b[49m\u001b[43m(\u001b[49m\u001b[43munits\u001b[49m\u001b[38;5;241;43m=\u001b[39;49m\u001b[38;5;241;43m32\u001b[39;49m\u001b[43m)\u001b[49m\u001b[43m,\u001b[49m\n\u001b[1;32m      7\u001b[0m \u001b[43m    \u001b[49m\u001b[43mSimpleRNN\u001b[49m\u001b[43m(\u001b[49m\u001b[43munits\u001b[49m\u001b[38;5;241;43m=\u001b[39;49m\u001b[38;5;241;43m32\u001b[39;49m\u001b[43m)\u001b[49m\u001b[43m,\u001b[49m\n\u001b[1;32m      8\u001b[0m \u001b[43m    \u001b[49m\u001b[43mDense\u001b[49m\u001b[43m(\u001b[49m\u001b[43munits\u001b[49m\u001b[38;5;241;43m=\u001b[39;49m\u001b[38;5;241;43m1\u001b[39;49m\u001b[43m,\u001b[49m\u001b[43m \u001b[49m\u001b[43mactivation\u001b[49m\u001b[38;5;241;43m=\u001b[39;49m\u001b[38;5;124;43m'\u001b[39;49m\u001b[38;5;124;43msigmoid\u001b[39;49m\u001b[38;5;124;43m'\u001b[39;49m\u001b[43m)\u001b[49m\n\u001b[1;32m      9\u001b[0m \u001b[43m]\u001b[49m\u001b[43m)\u001b[49m\n\u001b[1;32m     10\u001b[0m \u001b[38;5;66;03m# Compile\u001b[39;00m\n\u001b[1;32m     11\u001b[0m model\u001b[38;5;241m.\u001b[39mcompile(optimizer\u001b[38;5;241m=\u001b[39m\u001b[38;5;124m'\u001b[39m\u001b[38;5;124mrmsprop\u001b[39m\u001b[38;5;124m'\u001b[39m, loss\u001b[38;5;241m=\u001b[39m\u001b[38;5;124m'\u001b[39m\u001b[38;5;124mbinary_crossentropy\u001b[39m\u001b[38;5;124m'\u001b[39m, metrics\u001b[38;5;241m=\u001b[39m[\u001b[38;5;124m'\u001b[39m\u001b[38;5;124macc\u001b[39m\u001b[38;5;124m'\u001b[39m])\n",
      "File \u001b[0;32m~/miniconda3/envs/first-env/lib/python3.8/site-packages/tensorflow/python/trackable/base.py:205\u001b[0m, in \u001b[0;36mno_automatic_dependency_tracking.<locals>._method_wrapper\u001b[0;34m(self, *args, **kwargs)\u001b[0m\n\u001b[1;32m    203\u001b[0m \u001b[38;5;28mself\u001b[39m\u001b[38;5;241m.\u001b[39m_self_setattr_tracking \u001b[38;5;241m=\u001b[39m \u001b[38;5;28;01mFalse\u001b[39;00m  \u001b[38;5;66;03m# pylint: disable=protected-access\u001b[39;00m\n\u001b[1;32m    204\u001b[0m \u001b[38;5;28;01mtry\u001b[39;00m:\n\u001b[0;32m--> 205\u001b[0m   result \u001b[38;5;241m=\u001b[39m \u001b[43mmethod\u001b[49m\u001b[43m(\u001b[49m\u001b[38;5;28;43mself\u001b[39;49m\u001b[43m,\u001b[49m\u001b[43m \u001b[49m\u001b[38;5;241;43m*\u001b[39;49m\u001b[43margs\u001b[49m\u001b[43m,\u001b[49m\u001b[43m \u001b[49m\u001b[38;5;241;43m*\u001b[39;49m\u001b[38;5;241;43m*\u001b[39;49m\u001b[43mkwargs\u001b[49m\u001b[43m)\u001b[49m\n\u001b[1;32m    206\u001b[0m \u001b[38;5;28;01mfinally\u001b[39;00m:\n\u001b[1;32m    207\u001b[0m   \u001b[38;5;28mself\u001b[39m\u001b[38;5;241m.\u001b[39m_self_setattr_tracking \u001b[38;5;241m=\u001b[39m previous_value  \u001b[38;5;66;03m# pylint: disable=protected-access\u001b[39;00m\n",
      "File \u001b[0;32m~/miniconda3/envs/first-env/lib/python3.8/site-packages/keras/utils/traceback_utils.py:70\u001b[0m, in \u001b[0;36mfilter_traceback.<locals>.error_handler\u001b[0;34m(*args, **kwargs)\u001b[0m\n\u001b[1;32m     67\u001b[0m     filtered_tb \u001b[38;5;241m=\u001b[39m _process_traceback_frames(e\u001b[38;5;241m.\u001b[39m__traceback__)\n\u001b[1;32m     68\u001b[0m     \u001b[38;5;66;03m# To get the full stack trace, call:\u001b[39;00m\n\u001b[1;32m     69\u001b[0m     \u001b[38;5;66;03m# `tf.debugging.disable_traceback_filtering()`\u001b[39;00m\n\u001b[0;32m---> 70\u001b[0m     \u001b[38;5;28;01mraise\u001b[39;00m e\u001b[38;5;241m.\u001b[39mwith_traceback(filtered_tb) \u001b[38;5;28;01mfrom\u001b[39;00m \u001b[38;5;28;01mNone\u001b[39;00m\n\u001b[1;32m     71\u001b[0m \u001b[38;5;28;01mfinally\u001b[39;00m:\n\u001b[1;32m     72\u001b[0m     \u001b[38;5;28;01mdel\u001b[39;00m filtered_tb\n",
      "File \u001b[0;32m~/miniconda3/envs/first-env/lib/python3.8/site-packages/keras/engine/input_spec.py:232\u001b[0m, in \u001b[0;36massert_input_compatibility\u001b[0;34m(input_spec, inputs, layer_name)\u001b[0m\n\u001b[1;32m    230\u001b[0m     ndim \u001b[38;5;241m=\u001b[39m shape\u001b[38;5;241m.\u001b[39mrank\n\u001b[1;32m    231\u001b[0m     \u001b[38;5;28;01mif\u001b[39;00m ndim \u001b[38;5;241m!=\u001b[39m spec\u001b[38;5;241m.\u001b[39mndim:\n\u001b[0;32m--> 232\u001b[0m         \u001b[38;5;28;01mraise\u001b[39;00m \u001b[38;5;167;01mValueError\u001b[39;00m(\n\u001b[1;32m    233\u001b[0m             \u001b[38;5;124mf\u001b[39m\u001b[38;5;124m'\u001b[39m\u001b[38;5;124mInput \u001b[39m\u001b[38;5;132;01m{\u001b[39;00minput_index\u001b[38;5;132;01m}\u001b[39;00m\u001b[38;5;124m of layer \u001b[39m\u001b[38;5;124m\"\u001b[39m\u001b[38;5;132;01m{\u001b[39;00mlayer_name\u001b[38;5;132;01m}\u001b[39;00m\u001b[38;5;124m\"\u001b[39m\u001b[38;5;124m \u001b[39m\u001b[38;5;124m'\u001b[39m\n\u001b[1;32m    234\u001b[0m             \u001b[38;5;124m\"\u001b[39m\u001b[38;5;124mis incompatible with the layer: \u001b[39m\u001b[38;5;124m\"\u001b[39m\n\u001b[1;32m    235\u001b[0m             \u001b[38;5;124mf\u001b[39m\u001b[38;5;124m\"\u001b[39m\u001b[38;5;124mexpected ndim=\u001b[39m\u001b[38;5;132;01m{\u001b[39;00mspec\u001b[38;5;241m.\u001b[39mndim\u001b[38;5;132;01m}\u001b[39;00m\u001b[38;5;124m, found ndim=\u001b[39m\u001b[38;5;132;01m{\u001b[39;00mndim\u001b[38;5;132;01m}\u001b[39;00m\u001b[38;5;124m. \u001b[39m\u001b[38;5;124m\"\u001b[39m\n\u001b[1;32m    236\u001b[0m             \u001b[38;5;124mf\u001b[39m\u001b[38;5;124m\"\u001b[39m\u001b[38;5;124mFull shape received: \u001b[39m\u001b[38;5;132;01m{\u001b[39;00m\u001b[38;5;28mtuple\u001b[39m(shape)\u001b[38;5;132;01m}\u001b[39;00m\u001b[38;5;124m\"\u001b[39m\n\u001b[1;32m    237\u001b[0m         )\n\u001b[1;32m    238\u001b[0m \u001b[38;5;28;01mif\u001b[39;00m spec\u001b[38;5;241m.\u001b[39mmax_ndim \u001b[38;5;129;01mis\u001b[39;00m \u001b[38;5;129;01mnot\u001b[39;00m \u001b[38;5;28;01mNone\u001b[39;00m:\n\u001b[1;32m    239\u001b[0m     ndim \u001b[38;5;241m=\u001b[39m x\u001b[38;5;241m.\u001b[39mshape\u001b[38;5;241m.\u001b[39mrank\n",
      "\u001b[0;31mValueError\u001b[0m: Input 0 of layer \"simple_rnn_3\" is incompatible with the layer: expected ndim=3, found ndim=2. Full shape received: (None, 32)"
     ]
    }
   ],
   "source": [
    "# Model\n",
    "model = Sequential([\n",
    "    Embedding(input_dim=500, output_dim=32), # Vektorgrösse ist 32, die als input für das RNN weitergegeben wird\n",
    "    SimpleRNN(units=32),\n",
    "    Dense(units=1, activation='sigmoid')\n",
    "])\n",
    "# Compile\n",
    "model.compile(optimizer='rmsprop', loss='binary_crossentropy', metrics=['acc'])\n",
    "# Fit model (train)\n",
    "history = model.fit(train_x, train_y, epochs=25, batch_size=128, validation_split=0.2)"
   ]
  },
  {
   "cell_type": "code",
   "execution_count": 15,
   "metadata": {},
   "outputs": [
    {
     "name": "stdout",
     "output_type": "stream",
     "text": [
      "Epoch 1/10\n",
      "157/157 [==============================] - 20s 105ms/step - loss: 0.6986 - acc: 0.5066 - val_loss: 0.6995 - val_acc: 0.5070\n",
      "Epoch 2/10\n",
      "157/157 [==============================] - 16s 99ms/step - loss: 0.6074 - acc: 0.6700 - val_loss: 0.5909 - val_acc: 0.6960\n",
      "Epoch 3/10\n",
      "157/157 [==============================] - 16s 102ms/step - loss: 0.5178 - acc: 0.7494 - val_loss: 0.5079 - val_acc: 0.7544\n",
      "Epoch 4/10\n",
      "157/157 [==============================] - 16s 101ms/step - loss: 0.4881 - acc: 0.7718 - val_loss: 0.6257 - val_acc: 0.6484\n",
      "Epoch 5/10\n",
      "157/157 [==============================] - 16s 105ms/step - loss: 0.4749 - acc: 0.7783 - val_loss: 0.5239 - val_acc: 0.7498\n",
      "Epoch 6/10\n",
      "157/157 [==============================] - 15s 98ms/step - loss: 0.4416 - acc: 0.8033 - val_loss: 0.5982 - val_acc: 0.6848\n",
      "Epoch 7/10\n",
      "157/157 [==============================] - 16s 100ms/step - loss: 0.4190 - acc: 0.8148 - val_loss: 0.5933 - val_acc: 0.7110\n",
      "Epoch 8/10\n",
      "157/157 [==============================] - 15s 97ms/step - loss: 0.4025 - acc: 0.8237 - val_loss: 0.5759 - val_acc: 0.7690\n",
      "Epoch 9/10\n",
      "157/157 [==============================] - 15s 97ms/step - loss: 0.3804 - acc: 0.8385 - val_loss: 0.5526 - val_acc: 0.7336\n",
      "Epoch 10/10\n",
      "157/157 [==============================] - 15s 96ms/step - loss: 0.3594 - acc: 0.8474 - val_loss: 0.5610 - val_acc: 0.7638\n"
     ]
    }
   ],
   "source": [
    "# Model\n",
    "model = Sequential([\n",
    "    Embedding(input_dim=500, output_dim=32),\n",
    "    SimpleRNN(units=32, return_sequences=True),  # First SimpleRNN layer with return_sequences=True\n",
    "    SimpleRNN(units=32, return_sequences=True), \n",
    "    SimpleRNN(units=32, return_sequences=True), \n",
    "    SimpleRNN(units=32, return_sequences=True), \n",
    "    SimpleRNN(units=32),  # Second SimpleRNN layer\n",
    "    Dense(units=1, activation='sigmoid')\n",
    "])\n",
    "# Compile\n",
    "model.compile(optimizer='rmsprop', loss='binary_crossentropy', metrics=['acc'])\n",
    "callback = EarlyStopping(monitor='loss', patience=3)\n",
    "# Fit model (train)\n",
    "history = model.fit(train_x, train_y, epochs=10, batch_size=128, validation_split=0.2, callbacks=[callback])"
   ]
  },
  {
   "cell_type": "code",
   "execution_count": 18,
   "metadata": {},
   "outputs": [
    {
     "name": "stdout",
     "output_type": "stream",
     "text": [
      "Epoch 1/10\n",
      "157/157 [==============================] - 51s 275ms/step - loss: 0.6932 - acc: 0.5023 - val_loss: 0.6919 - val_acc: 0.5062\n",
      "Epoch 2/10\n",
      "157/157 [==============================] - 39s 248ms/step - loss: 0.5964 - acc: 0.6757 - val_loss: 0.5523 - val_acc: 0.7402\n",
      "Epoch 3/10\n",
      "157/157 [==============================] - 38s 245ms/step - loss: 0.4935 - acc: 0.7657 - val_loss: 0.4852 - val_acc: 0.7690\n",
      "Epoch 4/10\n",
      "157/157 [==============================] - 36s 226ms/step - loss: 0.4710 - acc: 0.7809 - val_loss: 0.5022 - val_acc: 0.7646\n",
      "Epoch 5/10\n",
      "157/157 [==============================] - 34s 219ms/step - loss: 0.4566 - acc: 0.7887 - val_loss: 0.4616 - val_acc: 0.7782\n",
      "Epoch 6/10\n",
      "157/157 [==============================] - 34s 219ms/step - loss: 0.4427 - acc: 0.7978 - val_loss: 0.4915 - val_acc: 0.7734\n",
      "Epoch 7/10\n",
      "157/157 [==============================] - 33s 213ms/step - loss: 0.4342 - acc: 0.7997 - val_loss: 0.4820 - val_acc: 0.7862\n",
      "Epoch 8/10\n",
      "157/157 [==============================] - 35s 224ms/step - loss: 0.4247 - acc: 0.8055 - val_loss: 0.4541 - val_acc: 0.7854\n",
      "Epoch 9/10\n",
      "157/157 [==============================] - 38s 245ms/step - loss: 0.4190 - acc: 0.8088 - val_loss: 0.4698 - val_acc: 0.7630\n",
      "Epoch 10/10\n",
      "157/157 [==============================] - 37s 235ms/step - loss: 0.4121 - acc: 0.8140 - val_loss: 0.4289 - val_acc: 0.7966\n"
     ]
    }
   ],
   "source": [
    "# Model\n",
    "model = Sequential([\n",
    "    Embedding(input_dim=500, output_dim=32),\n",
    "    LSTM(units=32, return_sequences=True),  # First SimpleRNN layer with return_sequences=True\n",
    "    LSTM(units=32, return_sequences=True), \n",
    "    LSTM(units=32, return_sequences=True), \n",
    "    LSTM(units=32, return_sequences=True), \n",
    "    LSTM(units=32),  # Second SimpleRNN layer\n",
    "    Dense(units=1, activation='sigmoid')\n",
    "])\n",
    "# Compile\n",
    "model.compile(optimizer='rmsprop', loss='binary_crossentropy', metrics=['acc'])\n",
    "callback = EarlyStopping(monitor='loss', patience=3)\n",
    "# Fit model (train)\n",
    "history = model.fit(train_x, train_y, epochs=10, batch_size=128, validation_split=0.2, callbacks=[callback])"
   ]
  },
  {
   "cell_type": "code",
   "execution_count": 19,
   "metadata": {},
   "outputs": [
    {
     "data": {
      "image/png": "[encoded data removed]",
      "text/plain": [
       "<Figure size 640x480 with 1 Axes>"
      ]
     },
     "metadata": {},
     "output_type": "display_data"
    }
   ],
   "source": [
    "# Plot training history\n",
    "plt.plot(history.history['acc'], label='Training accuracy')\n",
    "plt.plot(history.history['val_acc'], label='Validation accuracy')\n",
    "plt.xlabel('Epochs')\n",
    "plt.ylabel('Accuracy')\n",
    "plt.legend()\n",
    "plt.show()"
   ]
  },
  {
   "cell_type": "code",
   "execution_count": 10,
   "metadata": {},
   "outputs": [
    {
     "name": "stdout",
     "output_type": "stream",
     "text": [
      "782/782 [==============================] - 9s 11ms/step - loss: 0.3502 - acc: 0.8937\n",
      "Training loss: 0.3502238988876343\n",
      "Training accuracy: 0.8936799764633179\n",
      "782/782 [==============================] - 9s 11ms/step\n",
      "Confusion matrix (training set):\n",
      "[[1 1]\n",
      " [0 0]\n",
      " [0 0]\n",
      " ...\n",
      " [1 0]\n",
      " [1 1]\n",
      " [0 0]]\n",
      "782/782 [==============================] - 8s 10ms/step - loss: 1.1352 - acc: 0.7026\n",
      "Test loss: 1.1351513862609863\n",
      "Test accuracy: 0.7026399970054626\n",
      "782/782 [==============================] - 8s 10ms/step\n",
      "Confusion matrix (test set):\n",
      "[[1 0]\n",
      " [0 1]\n",
      " [0 1]\n",
      " ...\n",
      " [1 0]\n",
      " [0 0]\n",
      " [0 0]]\n"
     ]
    }
   ],
   "source": [
    "# Evaluation on training set\n",
    "train_loss, train_acc = model.evaluate(train_x, train_y)\n",
    "print(\"Training loss:\", train_loss)\n",
    "print(\"Training accuracy:\", train_acc)\n",
    "\n",
    "# Prediction and evaluation on training set\n",
    "pred_train = model.predict(train_x)\n",
    "pred_train = (pred_train > 0.5).astype('int32')\n",
    "print(\"Confusion matrix (training set):\")\n",
    "print(np.column_stack((pred_train.flatten(), train_y)))\n",
    "\n",
    "# Evaluation on test set\n",
    "test_loss, test_acc = model.evaluate(test_x, test_y)\n",
    "print(\"Test loss:\", test_loss)\n",
    "print(\"Test accuracy:\", test_acc)\n",
    "\n",
    "# Prediction and evaluation on test set\n",
    "pred_test = model.predict(test_x)\n",
    "pred_test = (pred_test > 0.5).astype('int32')\n",
    "print(\"Confusion matrix (test set):\")\n",
    "print(np.column_stack((pred_test.flatten(), test_y)))\n"
   ]
  }
 ],
 "metadata": {
  "kernelspec": {
   "display_name": "first-env",
   "language": "python",
   "name": "python3"
  },
  "language_info": {
   "codemirror_mode": {
    "name": "ipython",
    "version": 3
   },
   "file_extension": ".py",
   "mimetype": "text/x-python",
   "name": "python",
   "nbconvert_exporter": "python",
   "pygments_lexer": "ipython3",
   "version": "3.8.18"
  }
 },
 "nbformat": 4,
 "nbformat_minor": 2
}
