{
 "cells": [
  {
   "cell_type": "code",
   "execution_count": 4,
   "metadata": {},
   "outputs": [
    {
     "name": "stdout",
     "output_type": "stream",
     "text": [
      "Channels:\n",
      " - conda-forge\n",
      " - rapidsai\n",
      " - nvidia\n",
      " - defaults\n",
      "Platform: osx-64\n",
      "Collecting package metadata (repodata.json): done\n",
      "Solving environment: done\n",
      "\n",
      "## Package Plan ##\n",
      "\n",
      "  environment location: /Users/fabianburki/miniconda3\n",
      "\n",
      "  added / updated specs:\n",
      "    - mamba\n",
      "\n",
      "\n",
      "The following packages will be downloaded:\n",
      "\n",
      "    package                    |            build\n",
      "    ---------------------------|-----------------\n",
      "    archspec-0.2.3             |     pyhd8ed1ab_0          48 KB  conda-forge\n",
      "    c-ares-1.28.1              |       h10d778d_0         149 KB  conda-forge\n",
      "    conda-24.3.0               |  py312hb401068_0         1.1 MB  conda-forge\n",
      "    libcurl-8.7.1              |       h726d00d_0         369 KB  conda-forge\n",
      "    libmamba-1.5.8             |       ha449628_0         1.2 MB  conda-forge\n",
      "    libmambapy-1.5.8           |  py312h67f5953_0         266 KB  conda-forge\n",
      "    mamba-1.5.8                |  py312ha12221d_0          64 KB  conda-forge\n",
      "    openssl-3.3.0              |       hd75f5a5_0         2.4 MB  conda-forge\n",
      "    ------------------------------------------------------------\n",
      "                                           Total:         5.7 MB\n",
      "\n",
      "The following packages will be UPDATED:\n",
      "\n",
      "  archspec           pkgs/main::archspec-0.2.1-pyhd3eb1b0_0 --> conda-forge::archspec-0.2.3-pyhd8ed1ab_0 \n",
      "  c-ares                pkgs/main::c-ares-1.19.1-h6c40b1e_0 --> conda-forge::c-ares-1.28.1-h10d778d_0 \n",
      "  conda                             23.11.0-py312hb401068_1 --> 24.3.0-py312hb401068_0 \n",
      "  krb5                    pkgs/main::krb5-1.20.1-h428f121_1 --> conda-forge::krb5-1.21.2-hb884880_0 \n",
      "  libcurl               pkgs/main::libcurl-8.5.0-hf20ceda_0 --> conda-forge::libcurl-8.7.1-h726d00d_0 \n",
      "  libmamba                                 1.5.6-ha449628_0 --> 1.5.8-ha449628_0 \n",
      "  libmambapy                          1.5.6-py312h67f5953_0 --> 1.5.8-py312h67f5953_0 \n",
      "  libnghttp2         pkgs/main::libnghttp2-1.57.0-h9beae6a~ --> conda-forge::libnghttp2-1.58.0-h64cf6d3_1 \n",
      "  libssh2              pkgs/main::libssh2-1.10.0-h04015c4_2 --> conda-forge::libssh2-1.11.0-hd019ec5_0 \n",
      "  mamba                               1.5.6-py312ha12221d_0 --> 1.5.8-py312ha12221d_0 \n",
      "  openssl                                  3.2.1-hd75f5a5_0 --> 3.3.0-hd75f5a5_0 \n",
      "\n",
      "\n",
      "\n",
      "Downloading and Extracting Packages:\n",
      "openssl-3.3.0        | 2.4 MB    |                                       |   0% \n",
      "libmamba-1.5.8       | 1.2 MB    |                                       |   0% \u001b[A\n",
      "\n",
      "conda-24.3.0         | 1.1 MB    |                                       |   0% \u001b[A\u001b[A\n",
      "\n",
      "\n",
      "libcurl-8.7.1        | 369 KB    |                                       |   0% \u001b[A\u001b[A\u001b[A\n",
      "\n",
      "\n",
      "\n",
      "libmambapy-1.5.8     | 266 KB    |                                       |   0% \u001b[A\u001b[A\u001b[A\u001b[A\n",
      "\n",
      "\n",
      "\n",
      "\n",
      "c-ares-1.28.1        | 149 KB    |                                       |   0% \u001b[A\u001b[A\u001b[A\u001b[A\u001b[A\n",
      "\n",
      "\n",
      "\n",
      "\n",
      "\n",
      "mamba-1.5.8          | 64 KB     |                                       |   0% \u001b[A\u001b[A\u001b[A\u001b[A\u001b[A\u001b[A\n",
      "\n",
      "\n",
      "\n",
      "\n",
      "\n",
      "\n",
      "archspec-0.2.3       | 48 KB     |                                       |   0% \u001b[A\u001b[A\u001b[A\u001b[A\u001b[A\u001b[A\u001b[A\n",
      "\n",
      "\n",
      "libcurl-8.7.1        | 369 KB    | #6                                    |   4% \u001b[A\u001b[A\u001b[A\n",
      "\n",
      "conda-24.3.0         | 1.1 MB    | 5                                     |   1% \u001b[A\u001b[A\n",
      "libmamba-1.5.8       | 1.2 MB    | 4                                     |   1% \u001b[A\n",
      "\n",
      "\n",
      "\n",
      "openssl-3.3.0        | 2.4 MB    | 2                                     |   1% \u001b[A\u001b[A\u001b[A\u001b[A\n",
      "\n",
      "\n",
      "libcurl-8.7.1        | 369 KB    | ############8                         |  35% \u001b[A\u001b[A\u001b[A\n",
      "\n",
      "conda-24.3.0         | 1.1 MB    | ####                                  |  11% \u001b[A\u001b[A\n",
      "\n",
      "\n",
      "libcurl-8.7.1        | 369 KB    | ######################4               |  61% \u001b[A\u001b[A\u001b[A\n",
      "\n",
      "conda-24.3.0         | 1.1 MB    | #####5                                |  15% \u001b[A\u001b[A\n",
      "libmamba-1.5.8       | 1.2 MB    | ###7                                  |  10% \u001b[A\n",
      "\n",
      "\n",
      "\n",
      "openssl-3.3.0        | 2.4 MB    | #9                                    |   5% \u001b[A\u001b[A\u001b[A\u001b[A\n",
      "\n",
      "conda-24.3.0         | 1.1 MB    | ###############1                      |  41% \u001b[A\u001b[A\n",
      "\n",
      "\n",
      "libcurl-8.7.1        | 369 KB    | ##################################### | 100% \u001b[A\u001b[A\u001b[A\n",
      "\n",
      "\n",
      "libcurl-8.7.1        | 369 KB    | ##################################### | 100% \u001b[A\u001b[A\u001b[A\n",
      "libmamba-1.5.8       | 1.2 MB    | ##############                        |  38% \u001b[A\n",
      "\n",
      "\n",
      "\n",
      "libmambapy-1.5.8     | 266 KB    | ##################################### | 100% \u001b[A\u001b[A\u001b[A\u001b[A\n",
      "\n",
      "\n",
      "\n",
      "openssl-3.3.0        | 2.4 MB    | ####                                  |  11% \u001b[A\u001b[A\u001b[A\u001b[A\n",
      "\n",
      "conda-24.3.0         | 1.1 MB    | ###################7                  |  53% \u001b[A\u001b[A\n",
      "\n",
      "\n",
      "\n",
      "\n",
      "c-ares-1.28.1        | 149 KB    | ###9                                  |  11% \u001b[A\u001b[A\u001b[A\u001b[A\u001b[A\n",
      "libmamba-1.5.8       | 1.2 MB    | ###################1                  |  52% \u001b[A\n",
      "\n",
      "\n",
      "\n",
      "\n",
      "c-ares-1.28.1        | 149 KB    | ##################################### | 100% \u001b[A\u001b[A\u001b[A\u001b[A\u001b[A\n",
      "\n",
      "\n",
      "\n",
      "\n",
      "openssl-3.3.0        | 2.4 MB    | ########8                             |  24% \u001b[A\u001b[A\u001b[A\u001b[A\u001b[A\n",
      "libmamba-1.5.8       | 1.2 MB    | #######################8              |  64% \u001b[A\n",
      "\n",
      "\n",
      "\n",
      "\n",
      "\n",
      "mamba-1.5.8          | 64 KB     | #########3                            |  25% \u001b[A\u001b[A\u001b[A\u001b[A\u001b[A\u001b[A\n",
      "\n",
      "\n",
      "\n",
      "\n",
      "\n",
      "openssl-3.3.0        | 2.4 MB    | ############8                         |  35% \u001b[A\u001b[A\u001b[A\u001b[A\u001b[A\u001b[A\n",
      "\n",
      "conda-24.3.0         | 1.1 MB    | ############################8         |  78% \u001b[A\u001b[A\n",
      "libmamba-1.5.8       | 1.2 MB    | ############################4         |  77% \u001b[A\n",
      "\n",
      "\n",
      "\n",
      "\n",
      "\n",
      "\n",
      "openssl-3.3.0        | 2.4 MB    | ##############5                       |  39% \u001b[A\u001b[A\u001b[A\u001b[A\u001b[A\u001b[A\u001b[A\n",
      "libmamba-1.5.8       | 1.2 MB    | ####################################8 | 100% \u001b[A\n",
      "\n",
      "\n",
      "\n",
      "\n",
      "\n",
      "\n",
      "archspec-0.2.3       | 48 KB     | ##################################### | 100% \u001b[A\u001b[A\u001b[A\u001b[A\u001b[A\u001b[A\u001b[A\n",
      "\n",
      "\n",
      "\n",
      "\n",
      "\n",
      "\n",
      "openssl-3.3.0        | 2.4 MB    | #################4                    |  47% \u001b[A\u001b[A\u001b[A\u001b[A\u001b[A\u001b[A\u001b[A\n",
      "openssl-3.3.0        | 2.4 MB    | ########################3             |  66% \u001b[A\n",
      "\n",
      "conda-24.3.0         | 1.1 MB    | ##################################### | 100% \u001b[A\u001b[A\n",
      "\n",
      "                                                                                \u001b[A\u001b[A\n",
      "                                                                                \u001b[A\n",
      "\n",
      "                                                                                \u001b[A\u001b[A\n",
      "\n",
      "\n",
      "                                                                                \u001b[A\u001b[A\u001b[A\n",
      "\n",
      "\n",
      "\n",
      "                                                                                \u001b[A\u001b[A\u001b[A\u001b[A\n",
      "\n",
      "\n",
      "\n",
      "\n",
      "                                                                                \u001b[A\u001b[A\u001b[A\u001b[A\u001b[A\n",
      "\n",
      "\n",
      "\n",
      "\n",
      "\n",
      "                                                                                \u001b[A\u001b[A\u001b[A\u001b[A\u001b[A\u001b[A\n",
      "\n",
      "\n",
      "\n",
      "\n",
      "\n",
      "\n",
      "                                                                                \u001b[A\u001b[A\u001b[A\u001b[A\u001b[A\u001b[A\u001b[A\n",
      "Preparing transaction: done\n",
      "Verifying transaction: done\n",
      "Executing transaction: done\n",
      "\n",
      "Note: you may need to restart the kernel to use updated packages.\n"
     ]
    }
   ],
   "source": [
    "# commands for the terminal/console\n",
    "conda install mamba -n base -c conda-forge\n",
    "mamba create -n appendicitis_env python=3.10 pandas tensorflow seaborn scikit-learn\n",
    "conda activate appendicitis_env\n",
    "pip install ucimlrepo # for getting the uci data"
   ]
  },
  {
   "cell_type": "code",
   "execution_count": 11,
   "metadata": {},
   "outputs": [
    {
     "name": "stdout",
     "output_type": "stream",
     "text": [
      "Requirement already satisfied: simpletransformers in /Users/fabianburki/miniconda3/envs/appendicitis_env/lib/python3.10/site-packages (0.70.0)\n",
      "Requirement already satisfied: numpy in /Users/fabianburki/miniconda3/envs/appendicitis_env/lib/python3.10/site-packages (from simpletransformers) (1.26.4)\n",
      "Requirement already satisfied: requests in /Users/fabianburki/miniconda3/envs/appendicitis_env/lib/python3.10/site-packages (from simpletransformers) (2.31.0)\n",
      "Requirement already satisfied: tqdm>=4.47.0 in /Users/fabianburki/miniconda3/envs/appendicitis_env/lib/python3.10/site-packages (from simpletransformers) (4.66.4)\n",
      "Requirement already satisfied: regex in /Users/fabianburki/miniconda3/envs/appendicitis_env/lib/python3.10/site-packages (from simpletransformers) (2024.5.10)\n",
      "Requirement already satisfied: transformers>=4.31.0 in /Users/fabianburki/miniconda3/envs/appendicitis_env/lib/python3.10/site-packages (from simpletransformers) (4.40.2)\n",
      "Requirement already satisfied: datasets in /Users/fabianburki/miniconda3/envs/appendicitis_env/lib/python3.10/site-packages (from simpletransformers) (2.19.1)\n",
      "Requirement already satisfied: scipy in /Users/fabianburki/miniconda3/envs/appendicitis_env/lib/python3.10/site-packages (from simpletransformers) (1.13.0)\n",
      "Requirement already satisfied: scikit-learn in /Users/fabianburki/miniconda3/envs/appendicitis_env/lib/python3.10/site-packages (from simpletransformers) (1.4.2)\n",
      "Requirement already satisfied: seqeval in /Users/fabianburki/miniconda3/envs/appendicitis_env/lib/python3.10/site-packages (from simpletransformers) (1.2.2)\n",
      "Requirement already satisfied: tensorboard in /Users/fabianburki/miniconda3/envs/appendicitis_env/lib/python3.10/site-packages (from simpletransformers) (2.15.2)\n",
      "Requirement already satisfied: tensorboardx in /Users/fabianburki/miniconda3/envs/appendicitis_env/lib/python3.10/site-packages (from simpletransformers) (2.6.2.2)\n",
      "Requirement already satisfied: pandas in /Users/fabianburki/miniconda3/envs/appendicitis_env/lib/python3.10/site-packages (from simpletransformers) (2.2.2)\n",
      "Requirement already satisfied: tokenizers in /Users/fabianburki/miniconda3/envs/appendicitis_env/lib/python3.10/site-packages (from simpletransformers) (0.19.1)\n",
      "Requirement already satisfied: wandb>=0.10.32 in /Users/fabianburki/miniconda3/envs/appendicitis_env/lib/python3.10/site-packages (from simpletransformers) (0.17.0)\n",
      "Requirement already satisfied: streamlit in /Users/fabianburki/miniconda3/envs/appendicitis_env/lib/python3.10/site-packages (from simpletransformers) (1.34.0)\n",
      "Requirement already satisfied: sentencepiece in /Users/fabianburki/miniconda3/envs/appendicitis_env/lib/python3.10/site-packages (from simpletransformers) (0.2.0)\n",
      "Requirement already satisfied: filelock in /Users/fabianburki/miniconda3/envs/appendicitis_env/lib/python3.10/site-packages (from transformers>=4.31.0->simpletransformers) (3.14.0)\n",
      "Requirement already satisfied: huggingface-hub<1.0,>=0.19.3 in /Users/fabianburki/miniconda3/envs/appendicitis_env/lib/python3.10/site-packages (from transformers>=4.31.0->simpletransformers) (0.23.0)\n",
      "Requirement already satisfied: packaging>=20.0 in /Users/fabianburki/miniconda3/envs/appendicitis_env/lib/python3.10/site-packages (from transformers>=4.31.0->simpletransformers) (24.0)\n",
      "Requirement already satisfied: pyyaml>=5.1 in /Users/fabianburki/miniconda3/envs/appendicitis_env/lib/python3.10/site-packages (from transformers>=4.31.0->simpletransformers) (6.0.1)\n",
      "Requirement already satisfied: safetensors>=0.4.1 in /Users/fabianburki/miniconda3/envs/appendicitis_env/lib/python3.10/site-packages (from transformers>=4.31.0->simpletransformers) (0.4.3)\n",
      "Requirement already satisfied: click!=8.0.0,>=7.1 in /Users/fabianburki/miniconda3/envs/appendicitis_env/lib/python3.10/site-packages (from wandb>=0.10.32->simpletransformers) (8.1.7)\n",
      "Requirement already satisfied: docker-pycreds>=0.4.0 in /Users/fabianburki/miniconda3/envs/appendicitis_env/lib/python3.10/site-packages (from wandb>=0.10.32->simpletransformers) (0.4.0)\n",
      "Requirement already satisfied: gitpython!=3.1.29,>=1.0.0 in /Users/fabianburki/miniconda3/envs/appendicitis_env/lib/python3.10/site-packages (from wandb>=0.10.32->simpletransformers) (3.1.43)\n",
      "Requirement already satisfied: platformdirs in /Users/fabianburki/miniconda3/envs/appendicitis_env/lib/python3.10/site-packages (from wandb>=0.10.32->simpletransformers) (4.2.1)\n",
      "Requirement already satisfied: protobuf!=4.21.0,<5,>=3.19.0 in /Users/fabianburki/miniconda3/envs/appendicitis_env/lib/python3.10/site-packages (from wandb>=0.10.32->simpletransformers) (4.24.4)\n",
      "Requirement already satisfied: psutil>=5.0.0 in /Users/fabianburki/miniconda3/envs/appendicitis_env/lib/python3.10/site-packages (from wandb>=0.10.32->simpletransformers) (5.9.8)\n",
      "Requirement already satisfied: sentry-sdk>=1.0.0 in /Users/fabianburki/miniconda3/envs/appendicitis_env/lib/python3.10/site-packages (from wandb>=0.10.32->simpletransformers) (2.1.1)\n",
      "Requirement already satisfied: setproctitle in /Users/fabianburki/miniconda3/envs/appendicitis_env/lib/python3.10/site-packages (from wandb>=0.10.32->simpletransformers) (1.3.3)\n",
      "Requirement already satisfied: setuptools in /Users/fabianburki/miniconda3/envs/appendicitis_env/lib/python3.10/site-packages (from wandb>=0.10.32->simpletransformers) (69.5.1)\n",
      "Requirement already satisfied: charset-normalizer<4,>=2 in /Users/fabianburki/miniconda3/envs/appendicitis_env/lib/python3.10/site-packages (from requests->simpletransformers) (3.3.2)\n",
      "Requirement already satisfied: idna<4,>=2.5 in /Users/fabianburki/miniconda3/envs/appendicitis_env/lib/python3.10/site-packages (from requests->simpletransformers) (3.7)\n",
      "Requirement already satisfied: urllib3<3,>=1.21.1 in /Users/fabianburki/miniconda3/envs/appendicitis_env/lib/python3.10/site-packages (from requests->simpletransformers) (2.2.1)\n",
      "Requirement already satisfied: certifi>=2017.4.17 in /Users/fabianburki/miniconda3/envs/appendicitis_env/lib/python3.10/site-packages (from requests->simpletransformers) (2024.2.2)\n",
      "Requirement already satisfied: pyarrow>=12.0.0 in /Users/fabianburki/miniconda3/envs/appendicitis_env/lib/python3.10/site-packages (from datasets->simpletransformers) (16.0.0)\n",
      "Requirement already satisfied: pyarrow-hotfix in /Users/fabianburki/miniconda3/envs/appendicitis_env/lib/python3.10/site-packages (from datasets->simpletransformers) (0.6)\n",
      "Requirement already satisfied: dill<0.3.9,>=0.3.0 in /Users/fabianburki/miniconda3/envs/appendicitis_env/lib/python3.10/site-packages (from datasets->simpletransformers) (0.3.8)\n",
      "Requirement already satisfied: xxhash in /Users/fabianburki/miniconda3/envs/appendicitis_env/lib/python3.10/site-packages (from datasets->simpletransformers) (3.4.1)\n",
      "Requirement already satisfied: multiprocess in /Users/fabianburki/miniconda3/envs/appendicitis_env/lib/python3.10/site-packages (from datasets->simpletransformers) (0.70.16)\n",
      "Requirement already satisfied: fsspec<=2024.3.1,>=2023.1.0 in /Users/fabianburki/miniconda3/envs/appendicitis_env/lib/python3.10/site-packages (from fsspec[http]<=2024.3.1,>=2023.1.0->datasets->simpletransformers) (2024.3.1)\n",
      "Requirement already satisfied: aiohttp in /Users/fabianburki/miniconda3/envs/appendicitis_env/lib/python3.10/site-packages (from datasets->simpletransformers) (3.9.5)\n",
      "Requirement already satisfied: python-dateutil>=2.8.2 in /Users/fabianburki/miniconda3/envs/appendicitis_env/lib/python3.10/site-packages (from pandas->simpletransformers) (2.9.0)\n",
      "Requirement already satisfied: pytz>=2020.1 in /Users/fabianburki/miniconda3/envs/appendicitis_env/lib/python3.10/site-packages (from pandas->simpletransformers) (2024.1)\n",
      "Requirement already satisfied: tzdata>=2022.7 in /Users/fabianburki/miniconda3/envs/appendicitis_env/lib/python3.10/site-packages (from pandas->simpletransformers) (2024.1)\n",
      "Requirement already satisfied: joblib>=1.2.0 in /Users/fabianburki/miniconda3/envs/appendicitis_env/lib/python3.10/site-packages (from scikit-learn->simpletransformers) (1.4.2)\n",
      "Requirement already satisfied: threadpoolctl>=2.0.0 in /Users/fabianburki/miniconda3/envs/appendicitis_env/lib/python3.10/site-packages (from scikit-learn->simpletransformers) (3.5.0)\n",
      "Requirement already satisfied: altair<6,>=4.0 in /Users/fabianburki/miniconda3/envs/appendicitis_env/lib/python3.10/site-packages (from streamlit->simpletransformers) (5.3.0)\n",
      "Requirement already satisfied: blinker<2,>=1.0.0 in /Users/fabianburki/miniconda3/envs/appendicitis_env/lib/python3.10/site-packages (from streamlit->simpletransformers) (1.8.1)\n",
      "Requirement already satisfied: cachetools<6,>=4.0 in /Users/fabianburki/miniconda3/envs/appendicitis_env/lib/python3.10/site-packages (from streamlit->simpletransformers) (5.3.3)\n",
      "Requirement already satisfied: pillow<11,>=7.1.0 in /Users/fabianburki/miniconda3/envs/appendicitis_env/lib/python3.10/site-packages (from streamlit->simpletransformers) (10.3.0)\n",
      "Requirement already satisfied: rich<14,>=10.14.0 in /Users/fabianburki/miniconda3/envs/appendicitis_env/lib/python3.10/site-packages (from streamlit->simpletransformers) (13.7.1)\n",
      "Requirement already satisfied: tenacity<9,>=8.1.0 in /Users/fabianburki/miniconda3/envs/appendicitis_env/lib/python3.10/site-packages (from streamlit->simpletransformers) (8.3.0)\n",
      "Requirement already satisfied: toml<2,>=0.10.1 in /Users/fabianburki/miniconda3/envs/appendicitis_env/lib/python3.10/site-packages (from streamlit->simpletransformers) (0.10.2)\n",
      "Requirement already satisfied: typing-extensions<5,>=4.3.0 in /Users/fabianburki/miniconda3/envs/appendicitis_env/lib/python3.10/site-packages (from streamlit->simpletransformers) (4.11.0)\n",
      "Requirement already satisfied: pydeck<1,>=0.8.0b4 in /Users/fabianburki/miniconda3/envs/appendicitis_env/lib/python3.10/site-packages (from streamlit->simpletransformers) (0.9.1)\n",
      "Requirement already satisfied: tornado<7,>=6.0.3 in /Users/fabianburki/miniconda3/envs/appendicitis_env/lib/python3.10/site-packages (from streamlit->simpletransformers) (6.4)\n",
      "Requirement already satisfied: absl-py>=0.4 in /Users/fabianburki/miniconda3/envs/appendicitis_env/lib/python3.10/site-packages (from tensorboard->simpletransformers) (2.1.0)\n",
      "Requirement already satisfied: grpcio>=1.48.2 in /Users/fabianburki/miniconda3/envs/appendicitis_env/lib/python3.10/site-packages (from tensorboard->simpletransformers) (1.59.3)\n",
      "Requirement already satisfied: google-auth<3,>=1.6.3 in /Users/fabianburki/miniconda3/envs/appendicitis_env/lib/python3.10/site-packages (from tensorboard->simpletransformers) (2.29.0)\n",
      "Requirement already satisfied: google-auth-oauthlib<2,>=0.5 in /Users/fabianburki/miniconda3/envs/appendicitis_env/lib/python3.10/site-packages (from tensorboard->simpletransformers) (1.2.0)\n",
      "Requirement already satisfied: markdown>=2.6.8 in /Users/fabianburki/miniconda3/envs/appendicitis_env/lib/python3.10/site-packages (from tensorboard->simpletransformers) (3.6)\n",
      "Requirement already satisfied: six>1.9 in /Users/fabianburki/miniconda3/envs/appendicitis_env/lib/python3.10/site-packages (from tensorboard->simpletransformers) (1.16.0)\n",
      "Requirement already satisfied: tensorboard-data-server<0.8.0,>=0.7.0 in /Users/fabianburki/miniconda3/envs/appendicitis_env/lib/python3.10/site-packages (from tensorboard->simpletransformers) (0.7.0)\n",
      "Requirement already satisfied: werkzeug>=1.0.1 in /Users/fabianburki/miniconda3/envs/appendicitis_env/lib/python3.10/site-packages (from tensorboard->simpletransformers) (3.0.2)\n",
      "Requirement already satisfied: jinja2 in /Users/fabianburki/miniconda3/envs/appendicitis_env/lib/python3.10/site-packages (from altair<6,>=4.0->streamlit->simpletransformers) (3.1.4)\n",
      "Requirement already satisfied: jsonschema>=3.0 in /Users/fabianburki/miniconda3/envs/appendicitis_env/lib/python3.10/site-packages (from altair<6,>=4.0->streamlit->simpletransformers) (4.22.0)\n",
      "Requirement already satisfied: toolz in /Users/fabianburki/miniconda3/envs/appendicitis_env/lib/python3.10/site-packages (from altair<6,>=4.0->streamlit->simpletransformers) (0.12.1)\n",
      "Requirement already satisfied: aiosignal>=1.1.2 in /Users/fabianburki/miniconda3/envs/appendicitis_env/lib/python3.10/site-packages (from aiohttp->datasets->simpletransformers) (1.3.1)\n",
      "Requirement already satisfied: attrs>=17.3.0 in /Users/fabianburki/miniconda3/envs/appendicitis_env/lib/python3.10/site-packages (from aiohttp->datasets->simpletransformers) (23.2.0)\n",
      "Requirement already satisfied: frozenlist>=1.1.1 in /Users/fabianburki/miniconda3/envs/appendicitis_env/lib/python3.10/site-packages (from aiohttp->datasets->simpletransformers) (1.4.1)\n",
      "Requirement already satisfied: multidict<7.0,>=4.5 in /Users/fabianburki/miniconda3/envs/appendicitis_env/lib/python3.10/site-packages (from aiohttp->datasets->simpletransformers) (6.0.5)\n",
      "Requirement already satisfied: yarl<2.0,>=1.0 in /Users/fabianburki/miniconda3/envs/appendicitis_env/lib/python3.10/site-packages (from aiohttp->datasets->simpletransformers) (1.9.4)\n",
      "Requirement already satisfied: async-timeout<5.0,>=4.0 in /Users/fabianburki/miniconda3/envs/appendicitis_env/lib/python3.10/site-packages (from aiohttp->datasets->simpletransformers) (4.0.3)\n",
      "Requirement already satisfied: gitdb<5,>=4.0.1 in /Users/fabianburki/miniconda3/envs/appendicitis_env/lib/python3.10/site-packages (from gitpython!=3.1.29,>=1.0.0->wandb>=0.10.32->simpletransformers) (4.0.11)\n",
      "Requirement already satisfied: pyasn1-modules>=0.2.1 in /Users/fabianburki/miniconda3/envs/appendicitis_env/lib/python3.10/site-packages (from google-auth<3,>=1.6.3->tensorboard->simpletransformers) (0.4.0)\n",
      "Requirement already satisfied: rsa<5,>=3.1.4 in /Users/fabianburki/miniconda3/envs/appendicitis_env/lib/python3.10/site-packages (from google-auth<3,>=1.6.3->tensorboard->simpletransformers) (4.9)\n",
      "Requirement already satisfied: requests-oauthlib>=0.7.0 in /Users/fabianburki/miniconda3/envs/appendicitis_env/lib/python3.10/site-packages (from google-auth-oauthlib<2,>=0.5->tensorboard->simpletransformers) (2.0.0)\n",
      "Requirement already satisfied: markdown-it-py>=2.2.0 in /Users/fabianburki/miniconda3/envs/appendicitis_env/lib/python3.10/site-packages (from rich<14,>=10.14.0->streamlit->simpletransformers) (3.0.0)\n",
      "Requirement already satisfied: pygments<3.0.0,>=2.13.0 in /Users/fabianburki/miniconda3/envs/appendicitis_env/lib/python3.10/site-packages (from rich<14,>=10.14.0->streamlit->simpletransformers) (2.18.0)\n",
      "Requirement already satisfied: MarkupSafe>=2.1.1 in /Users/fabianburki/miniconda3/envs/appendicitis_env/lib/python3.10/site-packages (from werkzeug>=1.0.1->tensorboard->simpletransformers) (2.1.5)\n",
      "Requirement already satisfied: smmap<6,>=3.0.1 in /Users/fabianburki/miniconda3/envs/appendicitis_env/lib/python3.10/site-packages (from gitdb<5,>=4.0.1->gitpython!=3.1.29,>=1.0.0->wandb>=0.10.32->simpletransformers) (5.0.1)\n",
      "Requirement already satisfied: jsonschema-specifications>=2023.03.6 in /Users/fabianburki/miniconda3/envs/appendicitis_env/lib/python3.10/site-packages (from jsonschema>=3.0->altair<6,>=4.0->streamlit->simpletransformers) (2023.12.1)\n",
      "Requirement already satisfied: referencing>=0.28.4 in /Users/fabianburki/miniconda3/envs/appendicitis_env/lib/python3.10/site-packages (from jsonschema>=3.0->altair<6,>=4.0->streamlit->simpletransformers) (0.35.1)\n",
      "Requirement already satisfied: rpds-py>=0.7.1 in /Users/fabianburki/miniconda3/envs/appendicitis_env/lib/python3.10/site-packages (from jsonschema>=3.0->altair<6,>=4.0->streamlit->simpletransformers) (0.18.1)\n",
      "Requirement already satisfied: mdurl~=0.1 in /Users/fabianburki/miniconda3/envs/appendicitis_env/lib/python3.10/site-packages (from markdown-it-py>=2.2.0->rich<14,>=10.14.0->streamlit->simpletransformers) (0.1.2)\n",
      "Requirement already satisfied: pyasn1<0.7.0,>=0.4.6 in /Users/fabianburki/miniconda3/envs/appendicitis_env/lib/python3.10/site-packages (from pyasn1-modules>=0.2.1->google-auth<3,>=1.6.3->tensorboard->simpletransformers) (0.6.0)\n",
      "Requirement already satisfied: oauthlib>=3.0.0 in /Users/fabianburki/miniconda3/envs/appendicitis_env/lib/python3.10/site-packages (from requests-oauthlib>=0.7.0->google-auth-oauthlib<2,>=0.5->tensorboard->simpletransformers) (3.2.2)\n",
      "Requirement already satisfied: ucimlrepo in /Users/fabianburki/miniconda3/envs/appendicitis_env/lib/python3.10/site-packages (0.0.6)\n",
      "Requirement already satisfied: torch in /Users/fabianburki/miniconda3/envs/appendicitis_env/lib/python3.10/site-packages (2.2.2)\n",
      "Requirement already satisfied: torchvision in /Users/fabianburki/miniconda3/envs/appendicitis_env/lib/python3.10/site-packages (0.17.2)\n",
      "Requirement already satisfied: torchaudio in /Users/fabianburki/miniconda3/envs/appendicitis_env/lib/python3.10/site-packages (2.2.2)\n",
      "Requirement already satisfied: filelock in /Users/fabianburki/miniconda3/envs/appendicitis_env/lib/python3.10/site-packages (from torch) (3.14.0)\n",
      "Requirement already satisfied: typing-extensions>=4.8.0 in /Users/fabianburki/miniconda3/envs/appendicitis_env/lib/python3.10/site-packages (from torch) (4.11.0)\n",
      "Requirement already satisfied: sympy in /Users/fabianburki/miniconda3/envs/appendicitis_env/lib/python3.10/site-packages (from torch) (1.12)\n",
      "Requirement already satisfied: networkx in /Users/fabianburki/miniconda3/envs/appendicitis_env/lib/python3.10/site-packages (from torch) (3.3)\n",
      "Requirement already satisfied: jinja2 in /Users/fabianburki/miniconda3/envs/appendicitis_env/lib/python3.10/site-packages (from torch) (3.1.4)\n",
      "Requirement already satisfied: fsspec in /Users/fabianburki/miniconda3/envs/appendicitis_env/lib/python3.10/site-packages (from torch) (2024.3.1)\n",
      "Requirement already satisfied: numpy in /Users/fabianburki/miniconda3/envs/appendicitis_env/lib/python3.10/site-packages (from torchvision) (1.26.4)\n",
      "Requirement already satisfied: pillow!=8.3.*,>=5.3.0 in /Users/fabianburki/miniconda3/envs/appendicitis_env/lib/python3.10/site-packages (from torchvision) (10.3.0)\n",
      "Requirement already satisfied: MarkupSafe>=2.0 in /Users/fabianburki/miniconda3/envs/appendicitis_env/lib/python3.10/site-packages (from jinja2->torch) (2.1.5)\n",
      "Requirement already satisfied: mpmath>=0.19 in /Users/fabianburki/miniconda3/envs/appendicitis_env/lib/python3.10/site-packages (from sympy->torch) (1.3.0)\n",
      "Requirement already satisfied: python-dotenv in /Users/fabianburki/miniconda3/envs/appendicitis_env/lib/python3.10/site-packages (1.0.1)\n",
      "Collecting openpyxl\n",
      "  Downloading openpyxl-3.1.2-py2.py3-none-any.whl.metadata (2.5 kB)\n",
      "Collecting et-xmlfile (from openpyxl)\n",
      "  Downloading et_xmlfile-1.1.0-py3-none-any.whl.metadata (1.8 kB)\n",
      "Downloading openpyxl-3.1.2-py2.py3-none-any.whl (249 kB)\n",
      "\u001b[2K   \u001b[90m━━━━━━━━━━━━━━━━━━━━━━━━━━━━━━━━━━━━━━━━\u001b[0m \u001b[32m250.0/250.0 kB\u001b[0m \u001b[31m2.2 MB/s\u001b[0m eta \u001b[36m0:00:00\u001b[0m00:01\u001b[0m00:01\u001b[0m\n",
      "\u001b[?25hDownloading et_xmlfile-1.1.0-py3-none-any.whl (4.7 kB)\n",
      "Installing collected packages: et-xmlfile, openpyxl\n",
      "Successfully installed et-xmlfile-1.1.0 openpyxl-3.1.2\n"
     ]
    }
   ],
   "source": [
    "!pip install simpletransformers\n",
    "!pip install ucimlrepo\n",
    "!pip3 install torch torchvision torchaudio\n",
    "!pip install python-dotenv # to read for .env file\n",
    "!pip install openpyxl # for reading xls file\n",
    "!pip install xlrd\n"
   ]
  },
  {
   "cell_type": "code",
   "execution_count": 7,
   "metadata": {},
   "outputs": [
    {
     "name": "stdout",
     "output_type": "stream",
     "text": [
      "# packages in environment at /Users/fabianburki/miniconda3/envs/appendicitis_env:\n",
      "#\n",
      "# Name                    Version                   Build  Channel\n",
      "absl-py                   2.1.0              pyhd8ed1ab_0    conda-forge\n",
      "aiohttp                   3.9.5           py310hb372a2b_0    conda-forge\n",
      "aiosignal                 1.3.1              pyhd8ed1ab_0    conda-forge\n",
      "appnope                   0.1.4              pyhd8ed1ab_0    conda-forge\n",
      "asttokens                 2.4.1              pyhd8ed1ab_0    conda-forge\n",
      "astunparse                1.6.3              pyhd8ed1ab_0    conda-forge\n",
      "async-timeout             4.0.3              pyhd8ed1ab_0    conda-forge\n",
      "attrs                     23.2.0             pyh71513ae_0    conda-forge\n",
      "blinker                   1.8.1              pyhd8ed1ab_0    conda-forge\n",
      "brotli                    1.1.0                h0dc2134_1    conda-forge\n",
      "brotli-bin                1.1.0                h0dc2134_1    conda-forge\n",
      "brotli-python             1.1.0           py310h9e9d8ca_1    conda-forge\n",
      "bzip2                     1.0.8                h10d778d_5    conda-forge\n",
      "c-ares                    1.28.1               h10d778d_0    conda-forge\n",
      "ca-certificates           2024.2.2             h8857fd0_0    conda-forge\n",
      "cached-property           1.5.2                hd8ed1ab_1    conda-forge\n",
      "cached_property           1.5.2              pyha770c72_1    conda-forge\n",
      "cachetools                5.3.3              pyhd8ed1ab_0    conda-forge\n",
      "certifi                   2024.2.2           pyhd8ed1ab_0    conda-forge\n",
      "cffi                      1.16.0          py310hdca579f_0    conda-forge\n",
      "charset-normalizer        3.3.2              pyhd8ed1ab_0    conda-forge\n",
      "click                     8.1.7           unix_pyh707e725_0    conda-forge\n",
      "comm                      0.2.2              pyhd8ed1ab_0    conda-forge\n",
      "contourpy                 1.2.1           py310hb3b189b_0    conda-forge\n",
      "cryptography              42.0.5          py310hdcfe97c_0    conda-forge\n",
      "cycler                    0.12.1             pyhd8ed1ab_0    conda-forge\n",
      "debugpy                   1.8.1           py310h5daac23_0    conda-forge\n",
      "decorator                 5.1.1              pyhd8ed1ab_0    conda-forge\n",
      "exceptiongroup            1.2.0              pyhd8ed1ab_2    conda-forge\n",
      "executing                 2.0.1              pyhd8ed1ab_0    conda-forge\n",
      "flatbuffers               23.5.26              he965462_1    conda-forge\n",
      "fonttools                 4.51.0          py310hb372a2b_0    conda-forge\n",
      "freetype                  2.12.1               h60636b9_2    conda-forge\n",
      "frozenlist                1.4.1           py310hb372a2b_0    conda-forge\n",
      "gast                      0.5.4              pyhd8ed1ab_0    conda-forge\n",
      "giflib                    5.2.2                h10d778d_0    conda-forge\n",
      "google-auth               2.29.0             pyhca7485f_0    conda-forge\n",
      "google-auth-oauthlib      1.2.0              pyhd8ed1ab_0    conda-forge\n",
      "google-pasta              0.2.0              pyh8c360ce_0    conda-forge\n",
      "grpcio                    1.59.3          py310h271164d_0    conda-forge\n",
      "h5py                      3.11.0          nompi_py310h9b28fce_100    conda-forge\n",
      "hdf5                      1.14.3          nompi_hb512a33_101    conda-forge\n",
      "icu                       73.2                 hf5e326d_0    conda-forge\n",
      "idna                      3.7                pyhd8ed1ab_0    conda-forge\n",
      "importlib-metadata        7.1.0              pyha770c72_0    conda-forge\n",
      "importlib_metadata        7.1.0                hd8ed1ab_0    conda-forge\n",
      "ipykernel                 6.29.3             pyh3cd1d5f_0    conda-forge\n",
      "ipython                   8.22.2             pyh707e725_0    conda-forge\n",
      "jedi                      0.19.1             pyhd8ed1ab_0    conda-forge\n",
      "joblib                    1.4.2              pyhd8ed1ab_0    conda-forge\n",
      "jupyter_client            8.6.1              pyhd8ed1ab_0    conda-forge\n",
      "jupyter_core              5.7.2           py310h2ec42d9_0    conda-forge\n",
      "keras                     2.15.0             pyhd8ed1ab_0    conda-forge\n",
      "kiwisolver                1.4.5           py310h88cfcbd_1    conda-forge\n",
      "krb5                      1.21.2               hb884880_0    conda-forge\n",
      "lcms2                     2.16                 ha2f27b4_0    conda-forge\n",
      "lerc                      4.0.0                hb486fe8_0    conda-forge\n",
      "libabseil                 20230802.1      cxx17_h048a20a_0    conda-forge\n",
      "libaec                    1.1.3                h73e2aa4_0    conda-forge\n",
      "libblas                   3.9.0           22_osx64_openblas    conda-forge\n",
      "libbrotlicommon           1.1.0                h0dc2134_1    conda-forge\n",
      "libbrotlidec              1.1.0                h0dc2134_1    conda-forge\n",
      "libbrotlienc              1.1.0                h0dc2134_1    conda-forge\n",
      "libcblas                  3.9.0           22_osx64_openblas    conda-forge\n",
      "libcurl                   8.7.1                h726d00d_0    conda-forge\n",
      "libcxx                    16.0.6               hd57cbcb_0    conda-forge\n",
      "libdeflate                1.20                 h49d49c5_0    conda-forge\n",
      "libedit                   3.1.20191231         h0678c8f_2    conda-forge\n",
      "libev                     4.33                 h10d778d_2    conda-forge\n",
      "libffi                    3.4.2                h0d85af4_5    conda-forge\n",
      "libgfortran               5.0.0           13_2_0_h97931a8_3    conda-forge\n",
      "libgfortran5              13.2.0               h2873a65_3    conda-forge\n",
      "libgrpc                   1.59.3               ha7f534c_0    conda-forge\n",
      "libjpeg-turbo             3.0.0                h0dc2134_1    conda-forge\n",
      "liblapack                 3.9.0           22_osx64_openblas    conda-forge\n",
      "libnghttp2                1.58.0               h64cf6d3_1    conda-forge\n",
      "libopenblas               0.3.27          openmp_hfef2a42_0    conda-forge\n",
      "libpng                    1.6.43               h92b6c6a_0    conda-forge\n",
      "libprotobuf               4.24.4               hc4f2305_0    conda-forge\n",
      "libre2-11                 2023.09.01           h4694dbf_1    conda-forge\n",
      "libsodium                 1.0.18               hbcb3906_1    conda-forge\n",
      "libsqlite                 3.45.3               h92b6c6a_0    conda-forge\n",
      "libssh2                   1.11.0               hd019ec5_0    conda-forge\n",
      "libtiff                   4.6.0                h129831d_3    conda-forge\n",
      "libwebp-base              1.4.0                h10d778d_0    conda-forge\n",
      "libxcb                    1.15                 hb7f2c08_0    conda-forge\n",
      "libzlib                   1.2.13               h8a1eda9_5    conda-forge\n",
      "llvm-openmp               18.1.4               h2c61cee_0    conda-forge\n",
      "markdown                  3.6                pyhd8ed1ab_0    conda-forge\n",
      "markupsafe                2.1.5           py310hb372a2b_0    conda-forge\n",
      "matplotlib-base           3.8.4           py310hec49e92_0    conda-forge\n",
      "matplotlib-inline         0.1.7              pyhd8ed1ab_0    conda-forge\n",
      "ml_dtypes                 0.2.0           py310h5262a37_2    conda-forge\n",
      "multidict                 6.0.5           py310h90acd4f_0    conda-forge\n",
      "munkres                   1.1.4              pyh9f0ad1d_0    conda-forge\n",
      "ncurses                   6.4.20240210         h73e2aa4_0    conda-forge\n",
      "nest-asyncio              1.6.0              pyhd8ed1ab_0    conda-forge\n",
      "numpy                     1.26.4          py310h4bfa8fc_0    conda-forge\n",
      "oauthlib                  3.2.2              pyhd8ed1ab_0    conda-forge\n",
      "openjpeg                  2.5.2                h7310d3a_0    conda-forge\n",
      "openssl                   3.3.0                hd75f5a5_0    conda-forge\n",
      "opt_einsum                3.3.0              pyhc1e730c_2    conda-forge\n",
      "packaging                 24.0               pyhd8ed1ab_0    conda-forge\n",
      "pandas                    2.2.2           py310h276d7da_0    conda-forge\n",
      "parso                     0.8.4              pyhd8ed1ab_0    conda-forge\n",
      "patsy                     0.5.6              pyhd8ed1ab_0    conda-forge\n",
      "pexpect                   4.9.0              pyhd8ed1ab_0    conda-forge\n",
      "pickleshare               0.7.5                   py_1003    conda-forge\n",
      "pillow                    10.3.0          py310h99295b8_0    conda-forge\n",
      "pip                       24.0               pyhd8ed1ab_0    conda-forge\n",
      "platformdirs              4.2.1              pyhd8ed1ab_0    conda-forge\n",
      "prompt-toolkit            3.0.42             pyha770c72_0    conda-forge\n",
      "protobuf                  4.24.4          py310h8e05f20_0    conda-forge\n",
      "psutil                    5.9.8           py310hb372a2b_0    conda-forge\n",
      "pthread-stubs             0.4               hc929b4f_1001    conda-forge\n",
      "ptyprocess                0.7.0              pyhd3deb0d_0    conda-forge\n",
      "pure_eval                 0.2.2              pyhd8ed1ab_0    conda-forge\n",
      "pyasn1                    0.6.0              pyhd8ed1ab_0    conda-forge\n",
      "pyasn1-modules            0.4.0              pyhd8ed1ab_0    conda-forge\n",
      "pycparser                 2.22               pyhd8ed1ab_0    conda-forge\n",
      "pygments                  2.17.2             pyhd8ed1ab_0    conda-forge\n",
      "pyjwt                     2.8.0              pyhd8ed1ab_1    conda-forge\n",
      "pyopenssl                 24.0.0             pyhd8ed1ab_0    conda-forge\n",
      "pyparsing                 3.1.2              pyhd8ed1ab_0    conda-forge\n",
      "pysocks                   1.7.1              pyha2e5f31_6    conda-forge\n",
      "python                    3.10.14         h00d2728_0_cpython    conda-forge\n",
      "python-dateutil           2.9.0              pyhd8ed1ab_0    conda-forge\n",
      "python-flatbuffers        24.3.25            pyh59ac667_0    conda-forge\n",
      "python-tzdata             2024.1             pyhd8ed1ab_0    conda-forge\n",
      "python_abi                3.10                    4_cp310    conda-forge\n",
      "pytz                      2024.1             pyhd8ed1ab_0    conda-forge\n",
      "pyu2f                     0.1.5              pyhd8ed1ab_0    conda-forge\n",
      "pyzmq                     26.0.2          py310hdd8d2da_0    conda-forge\n",
      "re2                       2023.09.01           hb168e87_1    conda-forge\n",
      "readline                  8.2                  h9e318b2_1    conda-forge\n",
      "requests                  2.31.0             pyhd8ed1ab_0    conda-forge\n",
      "requests-oauthlib         2.0.0              pyhd8ed1ab_0    conda-forge\n",
      "rsa                       4.9                pyhd8ed1ab_0    conda-forge\n",
      "scikit-learn              1.4.2           py310h38ce860_0    conda-forge\n",
      "scipy                     1.13.0          py310hdfaad59_0    conda-forge\n",
      "seaborn                   0.13.2               hd8ed1ab_2    conda-forge\n",
      "seaborn-base              0.13.2             pyhd8ed1ab_2    conda-forge\n",
      "setuptools                69.5.1             pyhd8ed1ab_0    conda-forge\n",
      "six                       1.16.0             pyh6c4a22f_0    conda-forge\n",
      "snappy                    1.1.10               h6dc393e_1    conda-forge\n",
      "stack_data                0.6.2              pyhd8ed1ab_0    conda-forge\n",
      "statsmodels               0.14.1          py310h91862f5_0    conda-forge\n",
      "tensorboard               2.15.2             pyhd8ed1ab_0    conda-forge\n",
      "tensorboard-data-server   0.7.0           py310ha1817de_1    conda-forge\n",
      "tensorflow                2.15.0          cpu_py310hf8a41f7_2    conda-forge\n",
      "tensorflow-base           2.15.0          cpu_py310hc0a61e3_2    conda-forge\n",
      "tensorflow-estimator      2.15.0          cpu_py310h0265abe_2    conda-forge\n",
      "termcolor                 2.4.0              pyhd8ed1ab_0    conda-forge\n",
      "threadpoolctl             3.5.0              pyhc1e730c_0    conda-forge\n",
      "tk                        8.6.13               h1abcd95_1    conda-forge\n",
      "tornado                   6.4             py310hb372a2b_0    conda-forge\n",
      "traitlets                 5.14.3             pyhd8ed1ab_0    conda-forge\n",
      "typing-extensions         4.11.0               hd8ed1ab_0    conda-forge\n",
      "typing_extensions         4.11.0             pyha770c72_0    conda-forge\n",
      "tzdata                    2024a                h0c530f3_0    conda-forge\n",
      "ucimlrepo                 0.0.6                    pypi_0    pypi\n",
      "unicodedata2              15.1.0          py310h6729b98_0    conda-forge\n",
      "urllib3                   2.2.1              pyhd8ed1ab_0    conda-forge\n",
      "wcwidth                   0.2.13             pyhd8ed1ab_0    conda-forge\n",
      "werkzeug                  3.0.2              pyhd8ed1ab_0    conda-forge\n",
      "wheel                     0.43.0             pyhd8ed1ab_1    conda-forge\n",
      "wrapt                     1.14.1          py310h90acd4f_1    conda-forge\n",
      "xorg-libxau               1.0.11               h0dc2134_0    conda-forge\n",
      "xorg-libxdmcp             1.1.3                h35c211d_0    conda-forge\n",
      "xz                        5.2.6                h775f41a_0    conda-forge\n",
      "yarl                      1.9.4           py310hb372a2b_0    conda-forge\n",
      "zeromq                    4.3.5                h8d87b8b_3    conda-forge\n",
      "zipp                      3.17.0             pyhd8ed1ab_0    conda-forge\n",
      "zstd                      1.5.5                h829000d_0    conda-forge\n",
      "\n",
      "Note: you may need to restart the kernel to use updated packages.\n"
     ]
    }
   ],
   "source": [
    "conda list"
   ]
  },
  {
   "cell_type": "code",
   "execution_count": 2,
   "metadata": {},
   "outputs": [
    {
     "name": "stderr",
     "output_type": "stream",
     "text": [
      "2024-05-17 23:40:37.638547: I tensorflow/core/platform/cpu_feature_guard.cc:182] This TensorFlow binary is optimized to use available CPU instructions in performance-critical operations.\n",
      "To enable the following instructions: SSE4.1 SSE4.2 AVX AVX2 FMA, in other operations, rebuild TensorFlow with the appropriate compiler flags.\n"
     ]
    }
   ],
   "source": [
    "import tensorflow as tf\n",
    "from tensorflow.keras import datasets, layers, models\n",
    "import numpy as np\n",
    "\n",
    "\n",
    "from tensorflow.keras.utils import to_categorical\n",
    "from tensorflow.keras.layers import Conv2D, Flatten, Dense, MaxPooling2D\n",
    "from tensorflow.keras.models import Sequential\n",
    "from tensorflow.keras.layers import Dense, Dropout\n",
    "import matplotlib.pyplot as plt"
   ]
  },
  {
   "cell_type": "code",
   "execution_count": 3,
   "metadata": {},
   "outputs": [
    {
     "name": "stdout",
     "output_type": "stream",
     "text": [
      "{'uci_id': 938, 'name': 'Regensburg Pediatric Appendicitis', 'repository_url': 'https://archive.ics.uci.edu/dataset/938/regensburg+pediatric+appendicitis', 'data_url': 'https://archive.ics.uci.edu/static/public/938/data.csv', 'abstract': 'This repository holds the data from a cohort of pediatric patients with suspected appendicitis admitted with abdominal pain to Children’s Hospital St. Hedwig in Regensburg, Germany, between 2016 and 2021. Each patient has (potentially multiple) ultrasound (US) images, aka views, tabular data comprising laboratory, physical examination, scoring results and ultrasonographic findings extracted manually by the experts, and three target variables, namely, diagnosis, management and severity.', 'area': 'Health and Medicine', 'tasks': ['Classification'], 'characteristics': ['Tabular', 'Image'], 'num_instances': 782, 'num_features': 53, 'feature_types': ['Real', 'Categorical', 'Integer'], 'demographics': ['Age', 'Sex'], 'target_col': ['Management', 'Severity', 'Diagnosis'], 'index_col': None, 'has_missing_values': 'yes', 'missing_values_symbol': 'NaN', 'year_of_dataset_creation': 2023, 'last_updated': 'Tue Feb 06 2024', 'dataset_doi': '10.5281/zenodo.7669442', 'creators': ['Ricards Marcinkevics', 'Patricia Reis', 'Ugne Klimiene', 'Ece Ozkan', 'Kieran Chin-Cheong', 'Alyssia Paschke', 'Julia Zerres', 'Markus Denzinger', 'David Niederberger', 'S. Wellmann', 'C. Knorr', 'Julia E.'], 'intro_paper': {'title': 'Interpretable and Intervenable Ultrasonography-based Machine Learning Models for Pediatric Appendicitis', 'authors': 'Ricards Marcinkevics, Patricia Reis Wolfertstetter, Ugne Klimiene, Ece Ozkan, Kieran Chin-Cheong, Alyssia Paschke, Julia Zerres, Markus Denzinger, David Niederberger, S. Wellmann, C. Knorr, Julia E. Vogt', 'published_in': 'Medical Image Analysis', 'year': 2023, 'url': 'https://arxiv.org/abs/2302.14460v2', 'doi': None}, 'additional_info': {'summary': 'This dataset was acquired in a retrospective study from a cohort of pediatric patients admitted with abdominal pain to Children’s Hospital St. Hedwig in Regensburg, Germany. Multiple abdominal B-mode ultrasound images were acquired for most patients, with the number of views varying from 1 to 15. The images depict various regions of interest, such as the abdomen’s right lower quadrant, appendix, intestines, lymph nodes and reproductive organs. Alongside multiple US images for each subject, the dataset includes information encompassing laboratory tests, physical examination results, clinical scores, such as Alvarado and pediatric appendicitis scores, and expert-produced ultrasonographic findings. Lastly, the subjects were labeled w.r.t. three target variables: diagnosis (appendicitis vs. no appendicitis), management (surgical vs. conservative) and severity (complicated vs. uncomplicated or no appendicitis). The study was approved by the Ethics Committee of the University of Regensburg (no. 18-1063-101, 18-1063_1-101 and 18-1063_2-101) and was performed following applicable guidelines and regulations.', 'purpose': None, 'funded_by': None, 'instances_represent': None, 'recommended_data_splits': None, 'sensitive_data': None, 'preprocessing_description': None, 'variable_info': None, 'citation': None}, 'external_url': 'https://zenodo.org/records/7669442'}\n",
      "                                name     role         type demographic  \\\n",
      "0                                Age  Feature   Continuous         Age   \n",
      "1                                BMI  Feature   Continuous        None   \n",
      "2                                Sex  Feature  Categorical         Sex   \n",
      "3                             Height  Feature   Continuous        None   \n",
      "4                             Weight  Feature      Integer        None   \n",
      "5                     Length_of_Stay  Feature      Integer        None   \n",
      "6                         Management   Target  Categorical        None   \n",
      "7                           Severity   Target  Categorical        None   \n",
      "8              Diagnosis_Presumptive    Other       Binary        None   \n",
      "9                          Diagnosis   Target       Binary        None   \n",
      "10                    Alvarado_Score  Feature      Integer        None   \n",
      "11     Paedriatic_Appendicitis_Score  Feature      Integer        None   \n",
      "12                    Appendix_on_US  Feature       Binary        None   \n",
      "13                 Appendix_Diameter  Feature      Integer        None   \n",
      "14                    Migratory_Pain  Feature       Binary        None   \n",
      "15              Lower_Right_Abd_Pain  Feature       Binary        None   \n",
      "16  Contralateral_Rebound_Tenderness  Feature       Binary        None   \n",
      "17                     Coughing_Pain  Feature       Binary        None   \n",
      "18                            Nausea  Feature       Binary        None   \n",
      "19                  Loss_of_Appetite  Feature       Binary        None   \n",
      "20                  Body_Temperature  Feature   Continuous        None   \n",
      "21                         WBC_Count  Feature   Continuous        None   \n",
      "22             Neutrophil_Percentage  Feature      Integer        None   \n",
      "23             Segmented_Neutrophils  Feature      Integer        None   \n",
      "24                      Neutrophilia  Feature  Categorical        None   \n",
      "25                         RBC_Count  Feature   Continuous        None   \n",
      "26                        Hemoglobin  Feature   Continuous        None   \n",
      "27                               RDW  Feature   Continuous        None   \n",
      "28                 Thrombocyte_Count  Feature      Integer        None   \n",
      "29                  Ketones_in_Urine  Feature  Categorical        None   \n",
      "30                      RBC_in_Urine  Feature  Categorical        None   \n",
      "31                      WBC_in_Urine  Feature  Categorical        None   \n",
      "32                               CRP  Feature      Integer        None   \n",
      "33                           Dysuria  Feature       Binary        None   \n",
      "34                             Stool  Feature  Categorical        None   \n",
      "35                       Peritonitis  Feature  Categorical        None   \n",
      "36                        Psoas_Sign  Feature  Categorical        None   \n",
      "37    Ipsilateral_Rebound_Tenderness  Feature  Categorical        None   \n",
      "38                      US_Performed  Feature  Categorical        None   \n",
      "39                         US_Number    Other      Integer        None   \n",
      "40                       Free_Fluids  Feature  Categorical        None   \n",
      "41              Appendix_Wall_Layers  Feature  Categorical        None   \n",
      "42                       Target_Sign  Feature  Categorical        None   \n",
      "43                     Appendicolith  Feature  Categorical        None   \n",
      "44                         Perfusion  Feature  Categorical        None   \n",
      "45                       Perforation  Feature  Categorical        None   \n",
      "46       Surrounding_Tissue_Reaction  Feature  Categorical        None   \n",
      "47              Appendicular_Abscess  Feature  Categorical        None   \n",
      "48                  Abscess_Location  Feature  Categorical        None   \n",
      "49          Pathological_Lymph_Nodes  Feature       Binary        None   \n",
      "50              Lymph_Nodes_Location  Feature  Categorical        None   \n",
      "51             Bowel_Wall_Thickening  Feature       Binary        None   \n",
      "52       Conglomerate_of_Bowel_Loops  Feature       Binary        None   \n",
      "53                             Ileus  Feature  Categorical        None   \n",
      "54                       Coprostasis  Feature  Categorical        None   \n",
      "55                         Meteorism  Feature  Categorical        None   \n",
      "56                         Enteritis  Feature  Categorical        None   \n",
      "57            Gynecological_Findings  Feature  Categorical        None   \n",
      "\n",
      "                                          description  units missing_values  \n",
      "0                     Obtained from the date of birth  years            yes  \n",
      "1   Measures body fat; patient's weight divided by...   None            yes  \n",
      "2                                   Registered gender   None            yes  \n",
      "3                                    Patient's height   None            yes  \n",
      "4                                    Patient's weight   None            yes  \n",
      "5                  Length of the stay in the hospital   None            yes  \n",
      "6   (conservative, primary surgical, secondary sur...   None            yes  \n",
      "7   (uncomplicated, complicated) Severity of appen...   None            yes  \n",
      "8                       Patient's suspected diagnosis   None            yes  \n",
      "9   Patient's diagnosis, histologically confirmed ...   None            yes  \n",
      "10    Patient's score according to the scoring system   None            yes  \n",
      "11    Patient's score according to the scoring system   None            yes  \n",
      "12  Detectability of the vermiform appendix during...   None            yes  \n",
      "13             Maximal outer diameter of the appendix   None            yes  \n",
      "14  Abdominal pain; usually starts in epigastrium ...   None            yes  \n",
      "15       Right iliac fossa pain detected on palpation   None            yes  \n",
      "16  A state in which pain of the contralateral sid...   None            yes  \n",
      "17                     Abdominal pain by forced cough   None            yes  \n",
      "18  Feeling of sickness/ejection of contents from ...   None            yes  \n",
      "19                                               None   None            yes  \n",
      "20  Measured by a thermometer placed in the rectum...   None            yes  \n",
      "21  The number of leucocytes in a unit volume of b...   None            yes  \n",
      "22              Mature WBC in the granulocytic series   None            yes  \n",
      "23  Most mature neutrophilic granulocytes present ...   None            yes  \n",
      "24  Relative neutrophilic leucocytosis, often a re...   None            yes  \n",
      "25  The number of erythrocytes in a unit volume of...   None            yes  \n",
      "26  Hemoglobin level; a red protein in the red blo...   None            yes  \n",
      "27  A blood test that measures the differences in ...   None            yes  \n",
      "28  The number of platelets in a unit volume of blood   None            yes  \n",
      "29  Presence of ketone bodies in urine, e.g. in ca...   None            yes  \n",
      "30                                     Blood in urine   None            yes  \n",
      "31    Leucocytes in urine, e.g., in case of infection   None            yes  \n",
      "32  Protein produced by the liver, elevated in cas...   None            yes  \n",
      "33          Pain or other difficulty during urination   None            yes  \n",
      "34                 Characteristics of bowel movements   None            yes  \n",
      "35  Spasm of abdominal wall muscles detected on pa...   None            yes  \n",
      "36    Abdominal pain produced by extension of the hip   None            yes  \n",
      "37  A state in which pain of the ipsilateral side ...   None            yes  \n",
      "38  If an abdominal ultrasonography was performed ...   None            yes  \n",
      "39                                               None   None            yes  \n",
      "40                     Free fluids inside the abdomen   None            yes  \n",
      "41  Distribution and characteristics of appendix l...   None            yes  \n",
      "42  Axial image of appendix with a fluid-filled ce...   None            yes  \n",
      "43  Presence of fecalith in the appendix, e.g. aco...   None            yes  \n",
      "44                    Blood flow to the appendix wall   None            yes  \n",
      "45                Signs of appendix perforation in US   None            yes  \n",
      "46  Inflammation signs in tissue (i.a. in omentum/...   None            yes  \n",
      "47                                   Appendiceal mass   None            yes  \n",
      "48             Location of the abcess intraperitoneal   None            yes  \n",
      "49  Enlarged and inflamed intra-abdominal lymph nodes   None            yes  \n",
      "50  The location of pathological lymph nodes in th...   None            yes  \n",
      "51  Edema of the intestinal wall, > 2-3 mm for sma...   None            yes  \n",
      "52  Small intestine conglomerate as sign of intrap...   None            yes  \n",
      "53  Sonographic signs of paralytic ileus (e.g., di...   None            yes  \n",
      "54                       Fecal impaction in the colon   None            yes  \n",
      "55               Accumulation of gas in the intestine   None            yes  \n",
      "56  Sonographic features of gastroenteritis, e.g. ...   None            yes  \n",
      "57  Gynaecological abnormalities, e.g. cysts, ovar...   None            yes  \n"
     ]
    }
   ],
   "source": [
    "from ucimlrepo import fetch_ucirepo \n",
    "  \n",
    "# fetch dataset \n",
    "regensburg_pediatric_appendicitis = fetch_ucirepo(id=938) \n",
    "\n",
    "# metadata \n",
    "print(regensburg_pediatric_appendicitis.metadata) \n",
    "  \n",
    "# variable information \n",
    "print(regensburg_pediatric_appendicitis.variables) \n"
   ]
  },
  {
   "cell_type": "code",
   "execution_count": 4,
   "metadata": {},
   "outputs": [],
   "source": [
    "# data (as pandas dataframes) \n",
    "import pandas as pd\n",
    "rpa_features = pd.DataFrame(regensburg_pediatric_appendicitis.data.features)\n",
    "rpa_targets = regensburg_pediatric_appendicitis.data.targets "
   ]
  },
  {
   "cell_type": "code",
   "execution_count": 38,
   "metadata": {},
   "outputs": [
    {
     "data": {
      "text/html": [
       "<div>\n",
       "<style scoped>\n",
       "    .dataframe tbody tr th:only-of-type {\n",
       "        vertical-align: middle;\n",
       "    }\n",
       "\n",
       "    .dataframe tbody tr th {\n",
       "        vertical-align: top;\n",
       "    }\n",
       "\n",
       "    .dataframe thead th {\n",
       "        text-align: right;\n",
       "    }\n",
       "</style>\n",
       "<table border=\"1\" class=\"dataframe\">\n",
       "  <thead>\n",
       "    <tr style=\"text-align: right;\">\n",
       "      <th></th>\n",
       "      <th>Age</th>\n",
       "      <th>BMI</th>\n",
       "      <th>Sex</th>\n",
       "      <th>Height</th>\n",
       "      <th>Weight</th>\n",
       "      <th>Length_of_Stay</th>\n",
       "      <th>Alvarado_Score</th>\n",
       "      <th>Paedriatic_Appendicitis_Score</th>\n",
       "      <th>Appendix_on_US</th>\n",
       "      <th>Appendix_Diameter</th>\n",
       "      <th>...</th>\n",
       "      <th>Abscess_Location</th>\n",
       "      <th>Pathological_Lymph_Nodes</th>\n",
       "      <th>Lymph_Nodes_Location</th>\n",
       "      <th>Bowel_Wall_Thickening</th>\n",
       "      <th>Conglomerate_of_Bowel_Loops</th>\n",
       "      <th>Ileus</th>\n",
       "      <th>Coprostasis</th>\n",
       "      <th>Meteorism</th>\n",
       "      <th>Enteritis</th>\n",
       "      <th>Gynecological_Findings</th>\n",
       "    </tr>\n",
       "  </thead>\n",
       "  <tbody>\n",
       "    <tr>\n",
       "      <th>0</th>\n",
       "      <td>12.68</td>\n",
       "      <td>16.9</td>\n",
       "      <td>female</td>\n",
       "      <td>148.0</td>\n",
       "      <td>37.0</td>\n",
       "      <td>3.0</td>\n",
       "      <td>4.0</td>\n",
       "      <td>3.0</td>\n",
       "      <td>yes</td>\n",
       "      <td>7.1</td>\n",
       "      <td>...</td>\n",
       "      <td>NaN</td>\n",
       "      <td>yes</td>\n",
       "      <td>reUB</td>\n",
       "      <td>NaN</td>\n",
       "      <td>NaN</td>\n",
       "      <td>NaN</td>\n",
       "      <td>NaN</td>\n",
       "      <td>NaN</td>\n",
       "      <td>NaN</td>\n",
       "      <td>NaN</td>\n",
       "    </tr>\n",
       "    <tr>\n",
       "      <th>1</th>\n",
       "      <td>14.10</td>\n",
       "      <td>31.9</td>\n",
       "      <td>male</td>\n",
       "      <td>147.0</td>\n",
       "      <td>69.5</td>\n",
       "      <td>2.0</td>\n",
       "      <td>5.0</td>\n",
       "      <td>4.0</td>\n",
       "      <td>no</td>\n",
       "      <td>NaN</td>\n",
       "      <td>...</td>\n",
       "      <td>NaN</td>\n",
       "      <td>NaN</td>\n",
       "      <td>NaN</td>\n",
       "      <td>NaN</td>\n",
       "      <td>NaN</td>\n",
       "      <td>NaN</td>\n",
       "      <td>NaN</td>\n",
       "      <td>yes</td>\n",
       "      <td>NaN</td>\n",
       "      <td>NaN</td>\n",
       "    </tr>\n",
       "    <tr>\n",
       "      <th>2</th>\n",
       "      <td>14.14</td>\n",
       "      <td>23.3</td>\n",
       "      <td>female</td>\n",
       "      <td>163.0</td>\n",
       "      <td>62.0</td>\n",
       "      <td>4.0</td>\n",
       "      <td>5.0</td>\n",
       "      <td>3.0</td>\n",
       "      <td>no</td>\n",
       "      <td>NaN</td>\n",
       "      <td>...</td>\n",
       "      <td>NaN</td>\n",
       "      <td>NaN</td>\n",
       "      <td>NaN</td>\n",
       "      <td>NaN</td>\n",
       "      <td>NaN</td>\n",
       "      <td>NaN</td>\n",
       "      <td>NaN</td>\n",
       "      <td>yes</td>\n",
       "      <td>yes</td>\n",
       "      <td>NaN</td>\n",
       "    </tr>\n",
       "    <tr>\n",
       "      <th>3</th>\n",
       "      <td>16.37</td>\n",
       "      <td>20.6</td>\n",
       "      <td>female</td>\n",
       "      <td>165.0</td>\n",
       "      <td>56.0</td>\n",
       "      <td>3.0</td>\n",
       "      <td>7.0</td>\n",
       "      <td>6.0</td>\n",
       "      <td>no</td>\n",
       "      <td>NaN</td>\n",
       "      <td>...</td>\n",
       "      <td>NaN</td>\n",
       "      <td>yes</td>\n",
       "      <td>reUB</td>\n",
       "      <td>NaN</td>\n",
       "      <td>NaN</td>\n",
       "      <td>NaN</td>\n",
       "      <td>NaN</td>\n",
       "      <td>NaN</td>\n",
       "      <td>yes</td>\n",
       "      <td>NaN</td>\n",
       "    </tr>\n",
       "    <tr>\n",
       "      <th>4</th>\n",
       "      <td>11.08</td>\n",
       "      <td>16.9</td>\n",
       "      <td>female</td>\n",
       "      <td>163.0</td>\n",
       "      <td>45.0</td>\n",
       "      <td>3.0</td>\n",
       "      <td>5.0</td>\n",
       "      <td>6.0</td>\n",
       "      <td>yes</td>\n",
       "      <td>7.0</td>\n",
       "      <td>...</td>\n",
       "      <td>NaN</td>\n",
       "      <td>yes</td>\n",
       "      <td>reUB</td>\n",
       "      <td>NaN</td>\n",
       "      <td>NaN</td>\n",
       "      <td>NaN</td>\n",
       "      <td>NaN</td>\n",
       "      <td>NaN</td>\n",
       "      <td>yes</td>\n",
       "      <td>NaN</td>\n",
       "    </tr>\n",
       "  </tbody>\n",
       "</table>\n",
       "<p>5 rows × 53 columns</p>\n",
       "</div>"
      ],
      "text/plain": [
       "     Age   BMI     Sex  Height  Weight  Length_of_Stay  Alvarado_Score  \\\n",
       "0  12.68  16.9  female   148.0    37.0             3.0             4.0   \n",
       "1  14.10  31.9    male   147.0    69.5             2.0             5.0   \n",
       "2  14.14  23.3  female   163.0    62.0             4.0             5.0   \n",
       "3  16.37  20.6  female   165.0    56.0             3.0             7.0   \n",
       "4  11.08  16.9  female   163.0    45.0             3.0             5.0   \n",
       "\n",
       "   Paedriatic_Appendicitis_Score Appendix_on_US  Appendix_Diameter  ...  \\\n",
       "0                            3.0            yes                7.1  ...   \n",
       "1                            4.0             no                NaN  ...   \n",
       "2                            3.0             no                NaN  ...   \n",
       "3                            6.0             no                NaN  ...   \n",
       "4                            6.0            yes                7.0  ...   \n",
       "\n",
       "  Abscess_Location Pathological_Lymph_Nodes Lymph_Nodes_Location  \\\n",
       "0              NaN                      yes                 reUB   \n",
       "1              NaN                      NaN                  NaN   \n",
       "2              NaN                      NaN                  NaN   \n",
       "3              NaN                      yes                 reUB   \n",
       "4              NaN                      yes                 reUB   \n",
       "\n",
       "  Bowel_Wall_Thickening Conglomerate_of_Bowel_Loops Ileus  Coprostasis  \\\n",
       "0                   NaN                         NaN   NaN          NaN   \n",
       "1                   NaN                         NaN   NaN          NaN   \n",
       "2                   NaN                         NaN   NaN          NaN   \n",
       "3                   NaN                         NaN   NaN          NaN   \n",
       "4                   NaN                         NaN   NaN          NaN   \n",
       "\n",
       "   Meteorism  Enteritis  Gynecological_Findings  \n",
       "0        NaN        NaN                     NaN  \n",
       "1        yes        NaN                     NaN  \n",
       "2        yes        yes                     NaN  \n",
       "3        NaN        yes                     NaN  \n",
       "4        NaN        yes                     NaN  \n",
       "\n",
       "[5 rows x 53 columns]"
      ]
     },
     "execution_count": 38,
     "metadata": {},
     "output_type": "execute_result"
    }
   ],
   "source": [
    "rpa_features.head()"
   ]
  },
  {
   "cell_type": "code",
   "execution_count": 5,
   "metadata": {},
   "outputs": [
    {
     "data": {
      "text/html": [
       "<div>\n",
       "<style scoped>\n",
       "    .dataframe tbody tr th:only-of-type {\n",
       "        vertical-align: middle;\n",
       "    }\n",
       "\n",
       "    .dataframe tbody tr th {\n",
       "        vertical-align: top;\n",
       "    }\n",
       "\n",
       "    .dataframe thead th {\n",
       "        text-align: right;\n",
       "    }\n",
       "</style>\n",
       "<table border=\"1\" class=\"dataframe\">\n",
       "  <thead>\n",
       "    <tr style=\"text-align: right;\">\n",
       "      <th></th>\n",
       "      <th>Management</th>\n",
       "      <th>Severity</th>\n",
       "      <th>Diagnosis</th>\n",
       "    </tr>\n",
       "  </thead>\n",
       "  <tbody>\n",
       "    <tr>\n",
       "      <th>0</th>\n",
       "      <td>conservative</td>\n",
       "      <td>uncomplicated</td>\n",
       "      <td>appendicitis</td>\n",
       "    </tr>\n",
       "    <tr>\n",
       "      <th>1</th>\n",
       "      <td>conservative</td>\n",
       "      <td>uncomplicated</td>\n",
       "      <td>no appendicitis</td>\n",
       "    </tr>\n",
       "    <tr>\n",
       "      <th>2</th>\n",
       "      <td>conservative</td>\n",
       "      <td>uncomplicated</td>\n",
       "      <td>no appendicitis</td>\n",
       "    </tr>\n",
       "    <tr>\n",
       "      <th>3</th>\n",
       "      <td>conservative</td>\n",
       "      <td>uncomplicated</td>\n",
       "      <td>no appendicitis</td>\n",
       "    </tr>\n",
       "    <tr>\n",
       "      <th>4</th>\n",
       "      <td>conservative</td>\n",
       "      <td>uncomplicated</td>\n",
       "      <td>appendicitis</td>\n",
       "    </tr>\n",
       "  </tbody>\n",
       "</table>\n",
       "</div>"
      ],
      "text/plain": [
       "     Management       Severity        Diagnosis\n",
       "0  conservative  uncomplicated     appendicitis\n",
       "1  conservative  uncomplicated  no appendicitis\n",
       "2  conservative  uncomplicated  no appendicitis\n",
       "3  conservative  uncomplicated  no appendicitis\n",
       "4  conservative  uncomplicated     appendicitis"
      ]
     },
     "execution_count": 5,
     "metadata": {},
     "output_type": "execute_result"
    }
   ],
   "source": [
    "rpa_targets.head()"
   ]
  },
  {
   "cell_type": "code",
   "execution_count": null,
   "metadata": {},
   "outputs": [],
   "source": [
    "rpa_features.info()"
   ]
  },
  {
   "cell_type": "code",
   "execution_count": 9,
   "metadata": {},
   "outputs": [
    {
     "data": {
      "text/html": [
       "<div>\n",
       "<style scoped>\n",
       "    .dataframe tbody tr th:only-of-type {\n",
       "        vertical-align: middle;\n",
       "    }\n",
       "\n",
       "    .dataframe tbody tr th {\n",
       "        vertical-align: top;\n",
       "    }\n",
       "\n",
       "    .dataframe thead th {\n",
       "        text-align: right;\n",
       "    }\n",
       "</style>\n",
       "<table border=\"1\" class=\"dataframe\">\n",
       "  <thead>\n",
       "    <tr style=\"text-align: right;\">\n",
       "      <th></th>\n",
       "      <th>Age</th>\n",
       "      <th>BMI</th>\n",
       "      <th>Height</th>\n",
       "      <th>Weight</th>\n",
       "      <th>Length_of_Stay</th>\n",
       "      <th>Alvarado_Score</th>\n",
       "      <th>Paedriatic_Appendicitis_Score</th>\n",
       "      <th>Appendix_Diameter</th>\n",
       "      <th>Body_Temperature</th>\n",
       "      <th>WBC_Count</th>\n",
       "      <th>Neutrophil_Percentage</th>\n",
       "      <th>Segmented_Neutrophils</th>\n",
       "      <th>RBC_Count</th>\n",
       "      <th>Hemoglobin</th>\n",
       "      <th>RDW</th>\n",
       "      <th>Thrombocyte_Count</th>\n",
       "      <th>CRP</th>\n",
       "    </tr>\n",
       "  </thead>\n",
       "  <tbody>\n",
       "    <tr>\n",
       "      <th>count</th>\n",
       "      <td>781.000000</td>\n",
       "      <td>755.000000</td>\n",
       "      <td>756.000000</td>\n",
       "      <td>779.000000</td>\n",
       "      <td>778.000000</td>\n",
       "      <td>730.000000</td>\n",
       "      <td>730.000000</td>\n",
       "      <td>498.000000</td>\n",
       "      <td>775.000000</td>\n",
       "      <td>776.000000</td>\n",
       "      <td>679.000000</td>\n",
       "      <td>54.000000</td>\n",
       "      <td>764.000000</td>\n",
       "      <td>764.000000</td>\n",
       "      <td>756.000000</td>\n",
       "      <td>764.000000</td>\n",
       "      <td>771.000000</td>\n",
       "    </tr>\n",
       "    <tr>\n",
       "      <th>mean</th>\n",
       "      <td>11.346451</td>\n",
       "      <td>18.907012</td>\n",
       "      <td>148.017460</td>\n",
       "      <td>43.172542</td>\n",
       "      <td>4.284062</td>\n",
       "      <td>5.921918</td>\n",
       "      <td>5.253425</td>\n",
       "      <td>7.762651</td>\n",
       "      <td>37.404516</td>\n",
       "      <td>12.670683</td>\n",
       "      <td>71.791163</td>\n",
       "      <td>64.929630</td>\n",
       "      <td>4.799490</td>\n",
       "      <td>13.380497</td>\n",
       "      <td>13.180291</td>\n",
       "      <td>285.252618</td>\n",
       "      <td>31.386900</td>\n",
       "    </tr>\n",
       "    <tr>\n",
       "      <th>std</th>\n",
       "      <td>3.529909</td>\n",
       "      <td>4.385331</td>\n",
       "      <td>19.732016</td>\n",
       "      <td>17.390984</td>\n",
       "      <td>2.574057</td>\n",
       "      <td>2.155972</td>\n",
       "      <td>1.958456</td>\n",
       "      <td>2.536671</td>\n",
       "      <td>0.903678</td>\n",
       "      <td>5.366525</td>\n",
       "      <td>14.463656</td>\n",
       "      <td>15.085025</td>\n",
       "      <td>0.499012</td>\n",
       "      <td>1.393271</td>\n",
       "      <td>4.538774</td>\n",
       "      <td>72.494373</td>\n",
       "      <td>57.433854</td>\n",
       "    </tr>\n",
       "    <tr>\n",
       "      <th>min</th>\n",
       "      <td>0.000000</td>\n",
       "      <td>7.830000</td>\n",
       "      <td>53.000000</td>\n",
       "      <td>3.960000</td>\n",
       "      <td>1.000000</td>\n",
       "      <td>0.000000</td>\n",
       "      <td>0.000000</td>\n",
       "      <td>2.700000</td>\n",
       "      <td>26.900000</td>\n",
       "      <td>2.600000</td>\n",
       "      <td>27.200000</td>\n",
       "      <td>32.000000</td>\n",
       "      <td>3.620000</td>\n",
       "      <td>8.200000</td>\n",
       "      <td>11.200000</td>\n",
       "      <td>91.000000</td>\n",
       "      <td>0.000000</td>\n",
       "    </tr>\n",
       "    <tr>\n",
       "      <th>25%</th>\n",
       "      <td>9.200000</td>\n",
       "      <td>15.725000</td>\n",
       "      <td>137.000000</td>\n",
       "      <td>29.500000</td>\n",
       "      <td>3.000000</td>\n",
       "      <td>4.000000</td>\n",
       "      <td>4.000000</td>\n",
       "      <td>6.000000</td>\n",
       "      <td>36.800000</td>\n",
       "      <td>8.200000</td>\n",
       "      <td>61.400000</td>\n",
       "      <td>54.500000</td>\n",
       "      <td>4.537500</td>\n",
       "      <td>12.600000</td>\n",
       "      <td>12.300000</td>\n",
       "      <td>236.000000</td>\n",
       "      <td>1.000000</td>\n",
       "    </tr>\n",
       "    <tr>\n",
       "      <th>50%</th>\n",
       "      <td>11.440000</td>\n",
       "      <td>18.060000</td>\n",
       "      <td>149.650000</td>\n",
       "      <td>41.400000</td>\n",
       "      <td>3.000000</td>\n",
       "      <td>6.000000</td>\n",
       "      <td>5.000000</td>\n",
       "      <td>7.500000</td>\n",
       "      <td>37.200000</td>\n",
       "      <td>12.000000</td>\n",
       "      <td>75.500000</td>\n",
       "      <td>64.500000</td>\n",
       "      <td>4.780000</td>\n",
       "      <td>13.300000</td>\n",
       "      <td>12.700000</td>\n",
       "      <td>276.000000</td>\n",
       "      <td>7.000000</td>\n",
       "    </tr>\n",
       "    <tr>\n",
       "      <th>75%</th>\n",
       "      <td>14.100000</td>\n",
       "      <td>21.180000</td>\n",
       "      <td>163.000000</td>\n",
       "      <td>54.000000</td>\n",
       "      <td>5.000000</td>\n",
       "      <td>8.000000</td>\n",
       "      <td>7.000000</td>\n",
       "      <td>9.100000</td>\n",
       "      <td>37.900000</td>\n",
       "      <td>16.200000</td>\n",
       "      <td>83.600000</td>\n",
       "      <td>77.500000</td>\n",
       "      <td>5.020000</td>\n",
       "      <td>14.000000</td>\n",
       "      <td>13.300000</td>\n",
       "      <td>330.000000</td>\n",
       "      <td>33.000000</td>\n",
       "    </tr>\n",
       "    <tr>\n",
       "      <th>max</th>\n",
       "      <td>18.360000</td>\n",
       "      <td>38.160000</td>\n",
       "      <td>192.000000</td>\n",
       "      <td>103.000000</td>\n",
       "      <td>28.000000</td>\n",
       "      <td>10.000000</td>\n",
       "      <td>10.000000</td>\n",
       "      <td>17.000000</td>\n",
       "      <td>40.200000</td>\n",
       "      <td>37.700000</td>\n",
       "      <td>97.700000</td>\n",
       "      <td>91.000000</td>\n",
       "      <td>14.000000</td>\n",
       "      <td>36.000000</td>\n",
       "      <td>86.900000</td>\n",
       "      <td>708.000000</td>\n",
       "      <td>365.000000</td>\n",
       "    </tr>\n",
       "  </tbody>\n",
       "</table>\n",
       "</div>"
      ],
      "text/plain": [
       "              Age         BMI      Height      Weight  Length_of_Stay  \\\n",
       "count  781.000000  755.000000  756.000000  779.000000      778.000000   \n",
       "mean    11.346451   18.907012  148.017460   43.172542        4.284062   \n",
       "std      3.529909    4.385331   19.732016   17.390984        2.574057   \n",
       "min      0.000000    7.830000   53.000000    3.960000        1.000000   \n",
       "25%      9.200000   15.725000  137.000000   29.500000        3.000000   \n",
       "50%     11.440000   18.060000  149.650000   41.400000        3.000000   \n",
       "75%     14.100000   21.180000  163.000000   54.000000        5.000000   \n",
       "max     18.360000   38.160000  192.000000  103.000000       28.000000   \n",
       "\n",
       "       Alvarado_Score  Paedriatic_Appendicitis_Score  Appendix_Diameter  \\\n",
       "count      730.000000                     730.000000         498.000000   \n",
       "mean         5.921918                       5.253425           7.762651   \n",
       "std          2.155972                       1.958456           2.536671   \n",
       "min          0.000000                       0.000000           2.700000   \n",
       "25%          4.000000                       4.000000           6.000000   \n",
       "50%          6.000000                       5.000000           7.500000   \n",
       "75%          8.000000                       7.000000           9.100000   \n",
       "max         10.000000                      10.000000          17.000000   \n",
       "\n",
       "       Body_Temperature   WBC_Count  Neutrophil_Percentage  \\\n",
       "count        775.000000  776.000000             679.000000   \n",
       "mean          37.404516   12.670683              71.791163   \n",
       "std            0.903678    5.366525              14.463656   \n",
       "min           26.900000    2.600000              27.200000   \n",
       "25%           36.800000    8.200000              61.400000   \n",
       "50%           37.200000   12.000000              75.500000   \n",
       "75%           37.900000   16.200000              83.600000   \n",
       "max           40.200000   37.700000              97.700000   \n",
       "\n",
       "       Segmented_Neutrophils   RBC_Count  Hemoglobin         RDW  \\\n",
       "count              54.000000  764.000000  764.000000  756.000000   \n",
       "mean               64.929630    4.799490   13.380497   13.180291   \n",
       "std                15.085025    0.499012    1.393271    4.538774   \n",
       "min                32.000000    3.620000    8.200000   11.200000   \n",
       "25%                54.500000    4.537500   12.600000   12.300000   \n",
       "50%                64.500000    4.780000   13.300000   12.700000   \n",
       "75%                77.500000    5.020000   14.000000   13.300000   \n",
       "max                91.000000   14.000000   36.000000   86.900000   \n",
       "\n",
       "       Thrombocyte_Count         CRP  \n",
       "count         764.000000  771.000000  \n",
       "mean          285.252618   31.386900  \n",
       "std            72.494373   57.433854  \n",
       "min            91.000000    0.000000  \n",
       "25%           236.000000    1.000000  \n",
       "50%           276.000000    7.000000  \n",
       "75%           330.000000   33.000000  \n",
       "max           708.000000  365.000000  "
      ]
     },
     "execution_count": 9,
     "metadata": {},
     "output_type": "execute_result"
    }
   ],
   "source": [
    "rpa_features.describe()"
   ]
  },
  {
   "cell_type": "code",
   "execution_count": 172,
   "metadata": {},
   "outputs": [
    {
     "name": "stdout",
     "output_type": "stream",
     "text": [
      "Non-Numeric columns:\n",
      "Sex\n",
      "Appendix_on_US\n",
      "Migratory_Pain\n",
      "Lower_Right_Abd_Pain\n",
      "Contralateral_Rebound_Tenderness\n",
      "Coughing_Pain\n",
      "Nausea\n",
      "Loss_of_Appetite\n",
      "Neutrophilia\n",
      "Ketones_in_Urine\n",
      "RBC_in_Urine\n",
      "WBC_in_Urine\n",
      "Dysuria\n",
      "Stool\n",
      "Peritonitis\n",
      "Psoas_Sign\n",
      "Ipsilateral_Rebound_Tenderness\n",
      "US_Performed\n",
      "Free_Fluids\n",
      "Appendix_Wall_Layers\n",
      "Target_Sign\n",
      "Appendicolith\n",
      "Perfusion\n",
      "Perforation\n",
      "Surrounding_Tissue_Reaction\n",
      "Appendicular_Abscess\n",
      "Abscess_Location\n",
      "Pathological_Lymph_Nodes\n",
      "Lymph_Nodes_Location\n",
      "Bowel_Wall_Thickening\n",
      "Conglomerate_of_Bowel_Loops\n",
      "Ileus\n",
      "Coprostasis\n",
      "Meteorism\n",
      "Enteritis\n",
      "Gynecological_Findings\n",
      "\n",
      "Numeric columns:\n",
      "Age\n",
      "BMI\n",
      "Height\n",
      "Weight\n",
      "Length_of_Stay\n",
      "Alvarado_Score\n",
      "Paedriatic_Appendicitis_Score\n",
      "Appendix_Diameter\n",
      "Body_Temperature\n",
      "WBC_Count\n",
      "Neutrophil_Percentage\n",
      "Segmented_Neutrophils\n",
      "RBC_Count\n",
      "Hemoglobin\n",
      "RDW\n",
      "Thrombocyte_Count\n",
      "CRP\n"
     ]
    }
   ],
   "source": [
    "# from https://medium.com/bitgrit-data-science-publication/data-cleaning-with-python-f6bc3da64e45:\n",
    "cat_df = rpa_features.select_dtypes(include=['object'])\n",
    "num_df = rpa_features.select_dtypes(exclude=['object'])\n",
    "\n",
    "def printColumnTypes(non_numeric_df, numeric_df):\n",
    "    '''separates non-numeric and numeric columns'''\n",
    "    print(\"Non-Numeric columns:\")\n",
    "    for col in non_numeric_df:\n",
    "        print(f\"{col}\")\n",
    "    print(\"\")\n",
    "    print(\"Numeric columns:\")\n",
    "    for col in numeric_df:\n",
    "        print(f\"{col}\")\n",
    "        \n",
    "printColumnTypes(cat_df, num_df)"
   ]
  },
  {
   "cell_type": "markdown",
   "metadata": {},
   "source": [
    "Check for missing values"
   ]
  },
  {
   "cell_type": "code",
   "execution_count": 173,
   "metadata": {},
   "outputs": [
    {
     "name": "stdout",
     "output_type": "stream",
     "text": [
      "Age => 1\n",
      "BMI => 27\n",
      "Sex => 2\n",
      "Height => 26\n",
      "Weight => 3\n",
      "Length_of_Stay => 4\n",
      "Alvarado_Score => 52\n",
      "Paedriatic_Appendicitis_Score => 52\n",
      "Appendix_on_US => 5\n",
      "Appendix_Diameter => 284\n",
      "Migratory_Pain => 9\n",
      "Lower_Right_Abd_Pain => 8\n",
      "Contralateral_Rebound_Tenderness => 15\n",
      "Coughing_Pain => 16\n",
      "Nausea => 8\n",
      "Loss_of_Appetite => 10\n",
      "Body_Temperature => 7\n",
      "WBC_Count => 6\n",
      "Neutrophil_Percentage => 103\n",
      "Segmented_Neutrophils => 728\n",
      "Neutrophilia => 50\n",
      "RBC_Count => 18\n",
      "Hemoglobin => 18\n",
      "RDW => 26\n",
      "Thrombocyte_Count => 18\n",
      "Ketones_in_Urine => 200\n",
      "RBC_in_Urine => 206\n",
      "WBC_in_Urine => 199\n",
      "CRP => 11\n",
      "Dysuria => 29\n",
      "Stool => 17\n",
      "Peritonitis => 9\n",
      "Psoas_Sign => 37\n",
      "Ipsilateral_Rebound_Tenderness => 163\n",
      "US_Performed => 4\n",
      "Free_Fluids => 63\n",
      "Appendix_Wall_Layers => 564\n",
      "Target_Sign => 644\n",
      "Appendicolith => 713\n",
      "Perfusion => 719\n",
      "Perforation => 701\n",
      "Surrounding_Tissue_Reaction => 530\n",
      "Appendicular_Abscess => 697\n",
      "Abscess_Location => 769\n",
      "Pathological_Lymph_Nodes => 579\n",
      "Lymph_Nodes_Location => 661\n",
      "Bowel_Wall_Thickening => 683\n",
      "Conglomerate_of_Bowel_Loops => 739\n",
      "Ileus => 722\n",
      "Coprostasis => 711\n",
      "Meteorism => 642\n",
      "Enteritis => 716\n",
      "Gynecological_Findings => 756\n"
     ]
    }
   ],
   "source": [
    "# from https://medium.com/bitgrit-data-science-publication/data-cleaning-with-python-f6bc3da64e45:\n",
    "def missing_cols(df):\n",
    "    '''prints out columns with its amount of missing values'''\n",
    "    total = 0\n",
    "    for col in df.columns:\n",
    "        missing_vals = df[col].isnull().sum()\n",
    "        total += missing_vals\n",
    "        if missing_vals != 0:\n",
    "            print(f\"{col} => {df[col].isnull().sum()}\")\n",
    "    \n",
    "    if total == 0:\n",
    "        print(\"no missing values left\")\n",
    "            \n",
    "missing_cols(rpa_features)"
   ]
  },
  {
   "cell_type": "markdown",
   "metadata": {},
   "source": [
    "### Data Cleaning"
   ]
  },
  {
   "cell_type": "code",
   "execution_count": 174,
   "metadata": {},
   "outputs": [],
   "source": [
    "# join features and targets for data cleaning\n",
    "rpa_combined = rpa_features.join(rpa_targets)\n",
    "# copy the data frame to restore mistakes\n",
    "# (if not copied the the new variable references the SAME data frame)\n",
    "rpa_combined_cleaning = rpa_combined.copy()\n",
    "\n"
   ]
  },
  {
   "cell_type": "code",
   "execution_count": 176,
   "metadata": {},
   "outputs": [],
   "source": [
    "# define the variable groups (as defined by the data originaters)\n",
    "clinical_group = ['Peritonitis', 'Migratory_Pain', 'Lower_Right_Abd_Pain', 'Contralateral_Rebound_Tenderness', 'Ipsilateral_Rebound_Tenderness', 'Coughing_Pain', 'Psoas_Sign', 'Nausea', 'Loss_of_Appetite', 'Body_Temperature', 'Dysuria', 'Stool']\n",
    "laboratory_group = ['WBC_Count', 'RBC_Count', 'Hemoglobin', 'RDW', 'Thrombocyte_Count', 'Neutrophil_Percentage', 'Neutrophilia', 'Segmented_Neutrophils', 'CRP', 'Ketones_in_Urine', 'RBC_in_Urine', 'WBC_in_Urine']\n",
    "ultrasound_group = ['US_Performed', 'Appendix_on_US', 'Appendix_Diameter', 'Free_Fluids', 'Appendix_Wall_Layers', 'Target_Sign', 'Perfusion', 'Surrounding_Tissue_Reaction', 'Pathological_Lymph_Nodes', 'Lymph_Nodes_Location', 'Bowel_Wall_Thickening', 'Ileus', 'Coprostasis', 'Meteorism', 'Enteritis', 'Appendicolith', 'Perforation', 'Appendicular_Abscess', 'Abscess_Location', 'Conglomerate_of_Bowel_Loops', 'Gynecological_Findings']\n",
    "demographic_group = ['Age', 'Sex', 'Height', 'Weight', 'BMI', 'Length_of_Stay']"
   ]
  },
  {
   "cell_type": "markdown",
   "metadata": {},
   "source": [
    "Renaming values"
   ]
  },
  {
   "cell_type": "code",
   "execution_count": 177,
   "metadata": {},
   "outputs": [],
   "source": [
    "# convert 'NaN' strings to actual nan\n",
    "rpa_combined_cleaning.replace('NaN', np.nan, inplace=True)"
   ]
  },
  {
   "cell_type": "markdown",
   "metadata": {},
   "source": [
    "Look at outliers"
   ]
  },
  {
   "cell_type": "code",
   "execution_count": 178,
   "metadata": {},
   "outputs": [
    {
     "data": {
      "image/png": "[encoded data removed]",
      "text/plain": [
       "<Figure size 400x400 with 1 Axes>"
      ]
     },
     "metadata": {},
     "output_type": "display_data"
    },
    {
     "data": {
      "image/png": "[encoded data removed]",
      "text/plain": [
       "<Figure size 400x400 with 1 Axes>"
      ]
     },
     "metadata": {},
     "output_type": "display_data"
    },
    {
     "data": {
      "image/png": "[encoded data removed]",
      "text/plain": [
       "<Figure size 400x400 with 1 Axes>"
      ]
     },
     "metadata": {},
     "output_type": "display_data"
    },
    {
     "data": {
      "image/png": "[encoded data removed]",
      "text/plain": [
       "<Figure size 400x400 with 1 Axes>"
      ]
     },
     "metadata": {},
     "output_type": "display_data"
    },
    {
     "data": {
      "image/png": "[encoded data removed]",
      "text/plain": [
       "<Figure size 400x400 with 1 Axes>"
      ]
     },
     "metadata": {},
     "output_type": "display_data"
    },
    {
     "data": {
      "image/png": "[encoded data removed]",
      "text/plain": [
       "<Figure size 400x400 with 1 Axes>"
      ]
     },
     "metadata": {},
     "output_type": "display_data"
    },
    {
     "data": {
      "image/png": "[encoded data removed]",
      "text/plain": [
       "<Figure size 400x400 with 1 Axes>"
      ]
     },
     "metadata": {},
     "output_type": "display_data"
    },
    {
     "data": {
      "image/png": "[encoded data removed]",
      "text/plain": [
       "<Figure size 400x400 with 1 Axes>"
      ]
     },
     "metadata": {},
     "output_type": "display_data"
    },
    {
     "data": {
      "image/png": "[encoded data removed]",
      "text/plain": [
       "<Figure size 400x400 with 1 Axes>"
      ]
     },
     "metadata": {},
     "output_type": "display_data"
    },
    {
     "data": {
      "image/png": "[encoded data removed]",
      "text/plain": [
       "<Figure size 400x400 with 1 Axes>"
      ]
     },
     "metadata": {},
     "output_type": "display_data"
    },
    {
     "data": {
      "image/png": "[encoded data removed]",
      "text/plain": [
       "<Figure size 400x400 with 1 Axes>"
      ]
     },
     "metadata": {},
     "output_type": "display_data"
    },
    {
     "data": {
      "image/png": "[encoded data removed]",
      "text/plain": [
       "<Figure size 400x400 with 1 Axes>"
      ]
     },
     "metadata": {},
     "output_type": "display_data"
    },
    {
     "data": {
      "image/png": "[encoded data removed]",
      "text/plain": [
       "<Figure size 400x400 with 1 Axes>"
      ]
     },
     "metadata": {},
     "output_type": "display_data"
    },
    {
     "data": {
      "image/png": "[encoded data removed]",
      "text/plain": [
       "<Figure size 400x400 with 1 Axes>"
      ]
     },
     "metadata": {},
     "output_type": "display_data"
    },
    {
     "data": {
      "image/png": "[encoded data removed]",
      "text/plain": [
       "<Figure size 400x400 with 1 Axes>"
      ]
     },
     "metadata": {},
     "output_type": "display_data"
    },
    {
     "data": {
      "image/png": "[encoded data removed]",
      "text/plain": [
       "<Figure size 400x400 with 1 Axes>"
      ]
     },
     "metadata": {},
     "output_type": "display_data"
    },
    {
     "data": {
      "image/png": "[encoded data removed]",
      "text/plain": [
       "<Figure size 400x400 with 1 Axes>"
      ]
     },
     "metadata": {},
     "output_type": "display_data"
    }
   ],
   "source": [
    "# find outliers\n",
    "import seaborn as sns \n",
    "# select only numeric columns\n",
    "numeric_columns = rpa_combined_cleaning.select_dtypes(include='number').columns\n",
    "# create a boxplot for each numeric column\n",
    "for column in numeric_columns:\n",
    "    plt.figure(figsize=(4, 4))\n",
    "    sns.boxplot(y=rpa_combined_cleaning[column])\n",
    "    plt.title(f'Boxplot of {column}')\n",
    "    plt.show()"
   ]
  },
  {
   "cell_type": "code",
   "execution_count": 179,
   "metadata": {},
   "outputs": [],
   "source": [
    "# handle outliers\n",
    "rpa_combined_cleaning = rpa_combined_cleaning.drop([221]) # body_temperature 26.9 celsius degree not viable\n",
    "rpa_combined_cleaning = rpa_combined_cleaning.drop([203]) # RBC_Count 14 G/L massive outlier\n",
    "rpa_combined_cleaning = rpa_combined_cleaning.drop([564]) # hemoglobin 34 g/L not plausible"
   ]
  },
  {
   "cell_type": "markdown",
   "metadata": {},
   "source": [
    "### Remove NAs"
   ]
  },
  {
   "cell_type": "markdown",
   "metadata": {},
   "source": [
    "Set NAs to zero"
   ]
  },
  {
   "cell_type": "code",
   "execution_count": 180,
   "metadata": {},
   "outputs": [],
   "source": [
    "\"\"\" not suitable for neural network since data in collumn becomes strings: \n",
    "# rename the appendix_diameter entries to 'not_found_on_us' if Appendix_on_US is 'no' (almost all NA) \n",
    "rpa_combined_cleaning.loc[rpa_combined_cleaning['Appendix_on_US'] == 'no', 'Appendix_Diameter'] = 'not_found_on_us'\n",
    "\"\"\"\n",
    "# set appendix_diameter entries to zero if Appendix_on_US is 'no' (almost all NA)\n",
    "rpa_combined_cleaning.loc[rpa_combined_cleaning['Appendix_on_US'] == 'no', 'Appendix_Diameter'] = 0\n",
    "\n",
    "# reconsider this while evaluating the model"
   ]
  },
  {
   "cell_type": "markdown",
   "metadata": {},
   "source": [
    "Calculate missing values"
   ]
  },
  {
   "cell_type": "code",
   "execution_count": 181,
   "metadata": {},
   "outputs": [],
   "source": [
    "# calculate missing BMI in one row\n",
    "rpa_combined_cleaning.loc[550, 'BMI'] = rpa_combined_cleaning.loc[550, 'Weight'] / ((rpa_combined_cleaning.loc[550, 'Height']/100) * (rpa_combined_cleaning.loc[550, 'Height']/100))"
   ]
  },
  {
   "cell_type": "markdown",
   "metadata": {},
   "source": [
    "Convert NAs in clinical group to \"unknown\""
   ]
  },
  {
   "cell_type": "code",
   "execution_count": 182,
   "metadata": {},
   "outputs": [],
   "source": [
    "clinical_group_mod = clinical_group.remove('Body_Temperature') # remove numeric collumns from group\n",
    "# create dictionary to map each prefixed column name to the replacement value 'unknown'\n",
    "fill_clin_na_dict = {col: 'unknown' for col in clinical_group}\n",
    "# replace NAs in findings with 'Unknown'\n",
    "rpa_combined_cleaning.fillna(fill_clin_na_dict, inplace=True)"
   ]
  },
  {
   "cell_type": "markdown",
   "metadata": {},
   "source": [
    "Convert NAs in ultrasound group to \"no_us_finding\""
   ]
  },
  {
   "cell_type": "code",
   "execution_count": 183,
   "metadata": {},
   "outputs": [],
   "source": [
    "# select non-numeric columns\n",
    "non_numeric_columns = rpa_combined_cleaning.select_dtypes(exclude='number').columns\n",
    "# create dictionary to map non-numeric column to 'no_us_finding'\n",
    "fill_us_na_dict = {col: 'no_us_finding' for col in non_numeric_columns if col in ultrasound_group}\n",
    "# replace NAs in the non-numeric columns with 'no_us_finding'\n",
    "rpa_combined_cleaning.fillna(fill_us_na_dict, inplace=True)"
   ]
  },
  {
   "cell_type": "markdown",
   "metadata": {},
   "source": [
    "Remove rows"
   ]
  },
  {
   "cell_type": "code",
   "execution_count": 184,
   "metadata": {},
   "outputs": [],
   "source": [
    "# remove rows with few missing NAs (use loc!!)\n",
    "# cols = ['Age', 'Sex', 'Length_of_Stay', 'US_Performed', 'Body_Temperature', 'Height', 'Appendix_Diameter', 'Migratory_Pain', 'Lower_Right_Abd_Pain', 'Contralateral_Rebound_Tenderness', 'Coughing_Pain', 'Nausea', 'Loss_of_Appetite', 'WBC_Count', 'RBC_Count', 'Hemoglobin', 'Thrombocyte_Count', 'CRP']\n",
    "cols = ['Age', 'Sex', 'Length_of_Stay', 'US_Performed', 'Body_Temperature', 'Height', 'Appendix_Diameter', 'WBC_Count', 'RBC_Count', 'Hemoglobin', 'Thrombocyte_Count', 'CRP']\n",
    "for col in cols:\n",
    "    rpa_combined_cleaning = rpa_combined_cleaning.loc[rpa_combined_cleaning[col].notna()] # use .loc to access the row!!"
   ]
  },
  {
   "cell_type": "code",
   "execution_count": 13,
   "metadata": {},
   "outputs": [],
   "source": [
    "\"\"\" not suitable for neural network since data in collumn become strings: \n",
    "\n",
    "# create dictionary to map each prefixed column name to the replacement value 'no_lab_result'\n",
    "fill_lab_na_dict = {col: 'no_lab_result' for col in laboratory_group}\n",
    "# replace NAs in findings with 'Unknown'\n",
    "rpa_combined_cleaning.fillna(fill_lab_na_dict, inplace=True)\n",
    "\n",
    "\"\"\""
   ]
  },
  {
   "cell_type": "markdown",
   "metadata": {},
   "source": [
    "Drop collumns with too many NAs"
   ]
  },
  {
   "cell_type": "code",
   "execution_count": 185,
   "metadata": {},
   "outputs": [],
   "source": [
    "#  Alvarado_Score & Paedriatic_Appendicitis_Score: 6% missing (45); Neutrophil_Percentage: 13% missing (96); Segmented_Neutrophils 93% missing; Neutrophilia 6% missing; RDW 3% missing and prob no relevant; Ketones_in_Urine, RBC_in_Urine & WBC_in_Urine 25% missing; Dysuria 3% missing and 91% no; Psoas_Sign 4% missing; Ipsilateral_Rebound_Tenderness 20% missing; Free_Fluids 7% missing; \n",
    "rpa_combined_cleaning = rpa_combined_cleaning.drop(columns=['Alvarado_Score', 'Paedriatic_Appendicitis_Score', 'Neutrophil_Percentage', 'Segmented_Neutrophils', 'Neutrophilia', 'RDW', 'Ketones_in_Urine', 'RBC_in_Urine', 'WBC_in_Urine'])"
   ]
  },
  {
   "cell_type": "markdown",
   "metadata": {},
   "source": [
    "Remove faulty data"
   ]
  },
  {
   "cell_type": "code",
   "execution_count": 186,
   "metadata": {},
   "outputs": [],
   "source": [
    "# select rows via labeled index like rpa_combined_cleaning.loc[[656, 638, 405]])\n",
    "# drop these rows directly via drop method\n",
    "rpa_combined_cleaning = rpa_combined_cleaning.drop([656, 638]) # cases with height > 140 cm, but age < 1 -> faulty data"
   ]
  },
  {
   "cell_type": "markdown",
   "metadata": {},
   "source": [
    "For better overview rename collumns based on variable group"
   ]
  },
  {
   "cell_type": "code",
   "execution_count": 19,
   "metadata": {},
   "outputs": [],
   "source": [
    "\"\"\"\n",
    "# add prefix to column names based on variable group (as stated in app_data.xlsx)\n",
    "def add_prefix_to_colgroup_in_df(prefix, colgroup, df):\n",
    "    # create dict to map col names\n",
    "    column_map = {col: prefix + col for col in colgroup}\n",
    "    # rename col using the dict\n",
    "    df.rename(columns=column_map, inplace=True)\n",
    "\n",
    "add_prefix_to_colgroup_in_df('CLIN_',clinical_group,rpa_combined_cleaning)\n",
    "add_prefix_to_colgroup_in_df('LAB_',laboratory_group,rpa_combined_cleaning)\n",
    "add_prefix_to_colgroup_in_df('US_',ultrasound_group,rpa_combined_cleaning)\n",
    "add_prefix_to_colgroup_in_df('DEM_',demographic_group,rpa_combined_cleaning)\n",
    "\n",
    "# create new lists with prefixes for later filtering purposes \n",
    "clinical_group_prefixed = ['CLIN_' + item for item in clinical_group]\n",
    "laboratory_group_prefixed = ['LAB_' + item for item in laboratory_group]\n",
    "ultrasound_group_prefixed = ['US_' + item for item in ultrasound_group]\n",
    "demographic_group_prefixed = ['DEM_' + item for item in ultrasound_group]\n",
    "\"\"\""
   ]
  },
  {
   "cell_type": "markdown",
   "metadata": {},
   "source": [
    "After cleaning"
   ]
  },
  {
   "cell_type": "code",
   "execution_count": 187,
   "metadata": {},
   "outputs": [
    {
     "name": "stdout",
     "output_type": "stream",
     "text": [
      "no missing values left\n"
     ]
    }
   ],
   "source": [
    "# after cleaning\n",
    "def missing_cols(df):\n",
    "    '''prints out columns with its amount of missing values'''\n",
    "    total = 0\n",
    "    for col in df.columns:\n",
    "        missing_vals = df[col].isnull().sum()\n",
    "        total += missing_vals\n",
    "        if missing_vals != 0:\n",
    "            print(f\"{col} => {df[col].isnull().sum()}\")\n",
    "    \n",
    "    if total == 0:\n",
    "        print(\"no missing values left\")\n",
    "            \n",
    "missing_cols(rpa_combined_cleaning)"
   ]
  },
  {
   "cell_type": "markdown",
   "metadata": {},
   "source": [
    "Separate features & labels again"
   ]
  },
  {
   "cell_type": "code",
   "execution_count": 188,
   "metadata": {},
   "outputs": [],
   "source": [
    "# after cleaning, separate features and targets again\n",
    "rpa_combined_cleaned = rpa_combined_cleaning.copy()\n",
    "rpa_targets_cleaned = rpa_combined_cleaned[[\"Management\", \"Severity\", \"Diagnosis\"]]\n",
    "rpa_features_cleaned = rpa_combined_cleaned.drop(columns=[\"Management\", \"Severity\", \"Diagnosis\"])"
   ]
  },
  {
   "cell_type": "markdown",
   "metadata": {},
   "source": [
    "## Training preparation"
   ]
  },
  {
   "cell_type": "markdown",
   "metadata": {},
   "source": [
    "Transform data"
   ]
  },
  {
   "cell_type": "code",
   "execution_count": 189,
   "metadata": {},
   "outputs": [],
   "source": [
    "rpa_targets_transforming = rpa_targets_cleaned.copy()\n",
    "rpa_features_transforming = rpa_features_cleaned.copy()"
   ]
  },
  {
   "cell_type": "markdown",
   "metadata": {},
   "source": [
    "One-hot encode the target labels"
   ]
  },
  {
   "cell_type": "code",
   "execution_count": 190,
   "metadata": {},
   "outputs": [],
   "source": [
    "# one-hot encode each column\n",
    "rpa_targets_transformed = pd.get_dummies(rpa_targets_transforming)"
   ]
  },
  {
   "cell_type": "markdown",
   "metadata": {},
   "source": [
    "One-hot encode the features"
   ]
  },
  {
   "cell_type": "code",
   "execution_count": 191,
   "metadata": {},
   "outputs": [],
   "source": [
    "# select categorical columns\n",
    "categorical_columns = rpa_features_transforming.select_dtypes(include='object').columns\n",
    "\n",
    "# one-hot encode categorical columns\n",
    "rpa_features_transforming = pd.get_dummies(rpa_features_transforming, columns=categorical_columns)"
   ]
  },
  {
   "cell_type": "markdown",
   "metadata": {},
   "source": [
    "Scale numeric data between 0 and 1"
   ]
  },
  {
   "cell_type": "code",
   "execution_count": 192,
   "metadata": {},
   "outputs": [],
   "source": [
    "# scale numerical data for the neural network to function correctly\n",
    "from sklearn.preprocessing import MinMaxScaler \n",
    "scaler = MinMaxScaler()\n",
    " \n",
    "# select numeric columns\n",
    "numeric_columns = rpa_features_transforming.select_dtypes(include='number').columns\n",
    "\n",
    "# scale the numeric columns\n",
    "rpa_features_transforming[numeric_columns] = scaler.fit_transform(rpa_features_transforming[numeric_columns])"
   ]
  },
  {
   "cell_type": "code",
   "execution_count": 193,
   "metadata": {},
   "outputs": [],
   "source": [
    "rpa_features_transformed = rpa_features_transforming.copy()"
   ]
  },
  {
   "cell_type": "code",
   "execution_count": 200,
   "metadata": {},
   "outputs": [
    {
     "data": {
      "text/plain": [
       "'\\n# Check shapes\\nprint(f\"x_train shape: {rpa_features_transformed.shape}\")\\nprint(f\"y_train shape: {rpa_targets_transformed.shape}\")\\n'"
      ]
     },
     "execution_count": 200,
     "metadata": {},
     "output_type": "execute_result"
    }
   ],
   "source": [
    "\n",
    "# Example data, replace with your actual data\n",
    "# x_train and y_train should be numpy arrays\n",
    "rpa_features_transformed = np.array(rpa_features_transformed).astype('float32')\n",
    "rpa_targets_transformed = np.array(rpa_targets_transformed).astype('float32')\n",
    "\"\"\"\n",
    "# Check shapes\n",
    "print(f\"x_train shape: {rpa_features_transformed.shape}\")\n",
    "print(f\"y_train shape: {rpa_targets_transformed.shape}\")\n",
    "\"\"\""
   ]
  },
  {
   "cell_type": "markdown",
   "metadata": {},
   "source": [
    "Split into train & test data"
   ]
  },
  {
   "cell_type": "code",
   "execution_count": 201,
   "metadata": {},
   "outputs": [],
   "source": [
    "from sklearn.model_selection import train_test_split\n",
    "x_train, x_test, y_train, y_test = train_test_split(rpa_features_transformed, rpa_targets_transformed, test_size = 0.2)"
   ]
  },
  {
   "cell_type": "markdown",
   "metadata": {},
   "source": [
    "Model training"
   ]
  },
  {
   "cell_type": "code",
   "execution_count": 195,
   "metadata": {},
   "outputs": [],
   "source": [
    "from simpletransformers.classification import ClassificationModel, ClassificationArgs"
   ]
  },
  {
   "cell_type": "code",
   "execution_count": 219,
   "metadata": {},
   "outputs": [],
   "source": [
    "model_args = ClassificationArgs()\n",
    "model_args.num_train_epochs = 5\n",
    "model_args.learning_rate = 1e-4"
   ]
  },
  {
   "cell_type": "markdown",
   "metadata": {},
   "source": [
    "Model 1 (extremely bad)"
   ]
  },
  {
   "cell_type": "code",
   "execution_count": 203,
   "metadata": {},
   "outputs": [
    {
     "name": "stdout",
     "output_type": "stream",
     "text": [
      "Model: \"sequential_6\"\n",
      "_________________________________________________________________\n",
      " Layer (type)                Output Shape              Param #   \n",
      "=================================================================\n",
      " dense_18 (Dense)            (None, 256)               37888     \n",
      "                                                                 \n",
      " dropout_12 (Dropout)        (None, 256)               0         \n",
      "                                                                 \n",
      " dense_19 (Dense)            (None, 128)               32896     \n",
      "                                                                 \n",
      " dropout_13 (Dropout)        (None, 128)               0         \n",
      "                                                                 \n",
      " dense_20 (Dense)            (None, 8)                 1032      \n",
      "                                                                 \n",
      "=================================================================\n",
      "Total params: 71816 (280.53 KB)\n",
      "Trainable params: 71816 (280.53 KB)\n",
      "Non-trainable params: 0 (0.00 Byte)\n",
      "_________________________________________________________________\n"
     ]
    }
   ],
   "source": [
    "# Define the model\n",
    "model = Sequential([\n",
    "    Dense(units=256, activation='relu', input_shape=(147,)),\n",
    "    Dropout(rate=0.4),\n",
    "    Dense(units=128, activation='relu'),\n",
    "    Dropout(rate=0.3),\n",
    "    Dense(units=8, activation='softmax')\n",
    "])\n",
    "# densle layer has to have as many units as the target data collumns\n",
    "\n",
    "# Print model summary\n",
    "model.summary()"
   ]
  },
  {
   "cell_type": "markdown",
   "metadata": {},
   "source": [
    "Model 2 - with batch norm. and bigger (bit better)"
   ]
  },
  {
   "cell_type": "code",
   "execution_count": 220,
   "metadata": {},
   "outputs": [
    {
     "name": "stdout",
     "output_type": "stream",
     "text": [
      "Model: \"sequential_11\"\n",
      "_________________________________________________________________\n",
      " Layer (type)                Output Shape              Param #   \n",
      "=================================================================\n",
      " dense_37 (Dense)            (None, 512)               75776     \n",
      "                                                                 \n",
      " batch_normalization_12 (Ba  (None, 512)               2048      \n",
      " tchNormalization)                                               \n",
      "                                                                 \n",
      " dropout_26 (Dropout)        (None, 512)               0         \n",
      "                                                                 \n",
      " dense_38 (Dense)            (None, 256)               131328    \n",
      "                                                                 \n",
      " batch_normalization_13 (Ba  (None, 256)               1024      \n",
      " tchNormalization)                                               \n",
      "                                                                 \n",
      " dropout_27 (Dropout)        (None, 256)               0         \n",
      "                                                                 \n",
      " dense_39 (Dense)            (None, 128)               32896     \n",
      "                                                                 \n",
      " batch_normalization_14 (Ba  (None, 128)               512       \n",
      " tchNormalization)                                               \n",
      "                                                                 \n",
      " dropout_28 (Dropout)        (None, 128)               0         \n",
      "                                                                 \n",
      " dense_40 (Dense)            (None, 8)                 1032      \n",
      "                                                                 \n",
      "=================================================================\n",
      "Total params: 244616 (955.53 KB)\n",
      "Trainable params: 242824 (948.53 KB)\n",
      "Non-trainable params: 1792 (7.00 KB)\n",
      "_________________________________________________________________\n"
     ]
    }
   ],
   "source": [
    "from tensorflow.keras.layers import Dense, Dropout, BatchNormalization\n",
    "model = Sequential([\n",
    "    Dense(units=512, activation='relu', input_shape=(x_train.shape[1],)),\n",
    "    BatchNormalization(),\n",
    "    Dropout(rate=0.5),\n",
    "    Dense(units=256, activation='relu'),\n",
    "    BatchNormalization(),\n",
    "    Dropout(rate=0.4),\n",
    "    Dense(units=128, activation='relu'),\n",
    "    BatchNormalization(),\n",
    "    Dropout(rate=0.3),\n",
    "    Dense(units=y_train.shape[1], activation='softmax')  # Match this to the number of classes in y_train\n",
    "])\n",
    "model.summary()"
   ]
  },
  {
   "cell_type": "code",
   "execution_count": 221,
   "metadata": {},
   "outputs": [],
   "source": [
    "# Compile the model\n",
    "model.compile(loss='categorical_crossentropy',\n",
    "              optimizer=tf.keras.optimizers.Adam(),\n",
    "              metrics=['accuracy'])"
   ]
  },
  {
   "cell_type": "code",
   "execution_count": 222,
   "metadata": {},
   "outputs": [
    {
     "name": "stdout",
     "output_type": "stream",
     "text": [
      "Epoch 1/30\n",
      "4/4 [==============================] - 2s 91ms/step - loss: 8.6166 - accuracy: 0.1503 - val_loss: 6.0288 - val_accuracy: 0.6000\n",
      "Epoch 2/30\n",
      "4/4 [==============================] - 0s 18ms/step - loss: 7.6361 - accuracy: 0.2462 - val_loss: 5.8219 - val_accuracy: 0.5739\n",
      "Epoch 3/30\n",
      "4/4 [==============================] - 0s 18ms/step - loss: 7.5325 - accuracy: 0.3094 - val_loss: 5.6036 - val_accuracy: 0.4957\n",
      "Epoch 4/30\n",
      "4/4 [==============================] - 0s 17ms/step - loss: 7.6268 - accuracy: 0.3682 - val_loss: 5.4221 - val_accuracy: 0.4696\n",
      "Epoch 5/30\n",
      "4/4 [==============================] - 0s 18ms/step - loss: 7.5202 - accuracy: 0.4466 - val_loss: 5.3135 - val_accuracy: 0.4870\n",
      "Epoch 6/30\n",
      "4/4 [==============================] - 0s 17ms/step - loss: 7.8280 - accuracy: 0.3791 - val_loss: 5.3009 - val_accuracy: 0.4957\n",
      "Epoch 7/30\n",
      "4/4 [==============================] - 0s 17ms/step - loss: 7.8642 - accuracy: 0.4357 - val_loss: 5.3880 - val_accuracy: 0.4870\n",
      "Epoch 8/30\n",
      "4/4 [==============================] - 0s 18ms/step - loss: 8.0598 - accuracy: 0.4575 - val_loss: 5.5594 - val_accuracy: 0.4696\n",
      "Epoch 9/30\n",
      "4/4 [==============================] - 0s 18ms/step - loss: 8.1080 - accuracy: 0.5272 - val_loss: 5.8280 - val_accuracy: 0.4261\n",
      "Epoch 10/30\n",
      "4/4 [==============================] - 0s 18ms/step - loss: 8.4380 - accuracy: 0.5142 - val_loss: 6.1362 - val_accuracy: 0.3565\n",
      "Epoch 11/30\n",
      "4/4 [==============================] - 0s 18ms/step - loss: 8.6827 - accuracy: 0.4924 - val_loss: 6.3586 - val_accuracy: 0.3565\n",
      "Epoch 12/30\n",
      "4/4 [==============================] - 0s 18ms/step - loss: 9.0162 - accuracy: 0.4815 - val_loss: 6.6141 - val_accuracy: 0.4000\n",
      "Epoch 13/30\n",
      "4/4 [==============================] - 0s 17ms/step - loss: 8.9566 - accuracy: 0.4989 - val_loss: 6.8595 - val_accuracy: 0.4609\n",
      "Epoch 14/30\n",
      "4/4 [==============================] - 0s 20ms/step - loss: 9.1931 - accuracy: 0.5207 - val_loss: 7.1223 - val_accuracy: 0.4696\n",
      "Epoch 15/30\n",
      "4/4 [==============================] - 0s 20ms/step - loss: 9.5313 - accuracy: 0.5359 - val_loss: 7.3381 - val_accuracy: 0.4957\n",
      "Epoch 16/30\n",
      "4/4 [==============================] - 0s 20ms/step - loss: 9.6938 - accuracy: 0.5229 - val_loss: 7.5143 - val_accuracy: 0.5304\n",
      "Epoch 17/30\n",
      "4/4 [==============================] - 0s 19ms/step - loss: 9.9894 - accuracy: 0.4924 - val_loss: 7.6291 - val_accuracy: 0.5652\n",
      "Epoch 18/30\n",
      "4/4 [==============================] - 0s 20ms/step - loss: 10.0789 - accuracy: 0.5425 - val_loss: 7.7950 - val_accuracy: 0.5739\n",
      "Epoch 19/30\n",
      "4/4 [==============================] - 0s 19ms/step - loss: 10.5233 - accuracy: 0.5381 - val_loss: 8.0335 - val_accuracy: 0.5826\n",
      "Epoch 20/30\n",
      "4/4 [==============================] - 0s 19ms/step - loss: 10.8723 - accuracy: 0.5272 - val_loss: 8.3157 - val_accuracy: 0.5826\n",
      "Epoch 21/30\n",
      "4/4 [==============================] - 0s 19ms/step - loss: 11.0340 - accuracy: 0.5338 - val_loss: 8.8005 - val_accuracy: 0.5739\n",
      "Epoch 22/30\n",
      "4/4 [==============================] - 0s 21ms/step - loss: 11.4333 - accuracy: 0.5468 - val_loss: 9.2785 - val_accuracy: 0.5478\n",
      "Epoch 23/30\n",
      "4/4 [==============================] - 0s 22ms/step - loss: 11.8773 - accuracy: 0.5098 - val_loss: 9.5401 - val_accuracy: 0.5478\n",
      "Epoch 24/30\n",
      "4/4 [==============================] - 0s 19ms/step - loss: 12.0111 - accuracy: 0.5207 - val_loss: 9.8851 - val_accuracy: 0.5391\n",
      "Epoch 25/30\n",
      "4/4 [==============================] - 0s 30ms/step - loss: 12.5734 - accuracy: 0.5098 - val_loss: 10.1178 - val_accuracy: 0.5565\n",
      "Epoch 26/30\n",
      "4/4 [==============================] - 0s 30ms/step - loss: 12.8149 - accuracy: 0.4989 - val_loss: 10.4138 - val_accuracy: 0.5565\n",
      "Epoch 27/30\n",
      "4/4 [==============================] - 0s 28ms/step - loss: 13.0524 - accuracy: 0.5054 - val_loss: 10.8170 - val_accuracy: 0.5565\n",
      "Epoch 28/30\n",
      "4/4 [==============================] - 0s 18ms/step - loss: 13.9861 - accuracy: 0.5185 - val_loss: 11.3958 - val_accuracy: 0.5565\n",
      "Epoch 29/30\n",
      "4/4 [==============================] - 0s 17ms/step - loss: 14.4480 - accuracy: 0.5011 - val_loss: 11.7400 - val_accuracy: 0.5391\n",
      "Epoch 30/30\n",
      "4/4 [==============================] - 0s 18ms/step - loss: 14.5573 - accuracy: 0.4662 - val_loss: 12.0865 - val_accuracy: 0.5913\n"
     ]
    },
    {
     "data": {
      "image/png": "[encoded data removed]",
      "text/plain": [
       "<Figure size 640x480 with 1 Axes>"
      ]
     },
     "metadata": {},
     "output_type": "display_data"
    }
   ],
   "source": [
    "# Train the model\n",
    "history = model.fit(x_train, y_train, epochs=30, batch_size=128, validation_split=0.2)\n",
    "\n",
    "# Plot training history\n",
    "plt.plot(history.history['accuracy'], label='accuracy')\n",
    "plt.plot(history.history['val_accuracy'], label='val_accuracy')\n",
    "plt.xlabel('Epoch')\n",
    "plt.ylabel('Accuracy')\n",
    "plt.legend(loc='lower right')\n",
    "plt.show()"
   ]
  },
  {
   "cell_type": "markdown",
   "metadata": {},
   "source": [
    "## Image processing with CNN"
   ]
  },
  {
   "cell_type": "markdown",
   "metadata": {},
   "source": [
    "Perpare mapping of images to patients and targets"
   ]
  },
  {
   "cell_type": "code",
   "execution_count": 13,
   "metadata": {},
   "outputs": [
    {
     "name": "stdout",
     "output_type": "stream",
     "text": [
      "0      882.0\n",
      "1      883.0\n",
      "2      884.0\n",
      "3      886.0\n",
      "4      887.0\n",
      "       ...  \n",
      "777    126.0\n",
      "778      NaN\n",
      "779    127.0\n",
      "780    128.0\n",
      "781    129.0\n",
      "Name: US_Number, Length: 782, dtype: float64\n"
     ]
    }
   ],
   "source": [
    "import pandas as pd\n",
    "\n",
    "df = pd.read_excel('appendicitis_data/app_data.xlsx')\n",
    "print(df['US_Number'])"
   ]
  },
  {
   "cell_type": "markdown",
   "metadata": {},
   "source": [
    "Load images"
   ]
  },
  {
   "cell_type": "code",
   "execution_count": 1,
   "metadata": {},
   "outputs": [
    {
     "name": "stderr",
     "output_type": "stream",
     "text": [
      "2024-05-25 14:47:37.929690: I tensorflow/core/platform/cpu_feature_guard.cc:182] This TensorFlow binary is optimized to use available CPU instructions in performance-critical operations.\n",
      "To enable the following instructions: SSE4.1 SSE4.2 AVX AVX2 FMA, in other operations, rebuild TensorFlow with the appropriate compiler flags.\n"
     ]
    }
   ],
   "source": [
    "import tensorflow as tf\n",
    "from tensorflow.keras.preprocessing.image import ImageDataGenerator"
   ]
  },
  {
   "cell_type": "code",
   "execution_count": 2,
   "metadata": {},
   "outputs": [],
   "source": [
    "# load the directory from the .env-file (US_IMAGES_PATH='path/to/the/images/folder')\n",
    "import os\n",
    "from dotenv import load_dotenv\n",
    "load_dotenv()\n",
    "us_dir = os.getenv('US_IMAGES_PATH')\n"
   ]
  },
  {
   "cell_type": "code",
   "execution_count": null,
   "metadata": {},
   "outputs": [],
   "source": [
    "# paper authors resized to 400 × 400 px2 using zero padding when needed"
   ]
  },
  {
   "cell_type": "markdown",
   "metadata": {},
   "source": [
    "Split into train & test images"
   ]
  },
  {
   "cell_type": "code",
   "execution_count": null,
   "metadata": {},
   "outputs": [],
   "source": [
    "from sklearn.model_selection import train_test_split\n",
    "x_train, x_test, y_train, y_test = train_test_split(rpa_features_transformed, rpa_targets_transformed, test_size = 0.2)"
   ]
  },
  {
   "cell_type": "code",
   "execution_count": null,
   "metadata": {},
   "outputs": [],
   "source": [
    "# from https://msalamiitd.medium.com/how-to-pass-image-datasets-to-cnn-models-using-image-data-generations-b2d9497c7a35\n",
    "\n",
    "train_datagen = ImageDataGenerator(\n",
    "    rescale=1./255,\n",
    "    rotation_range=40,\n",
    "    width_shift_range=0.2,\n",
    "    height_shift_range=0.2,\n",
    "    shear_range=0.2,\n",
    "    zoom_range=0.2,\n",
    "    horizontal_flip=True,\n",
    "    fill_mode='nearest'\n",
    ")\n",
    "\n",
    "val_datagen = ImageDataGenerator(rescale=1./255)\n",
    "\n",
    "test_datagen = ImageDataGenerator(rescale=1./255)"
   ]
  }
 ],
 "metadata": {
  "kernelspec": {
   "display_name": "Python 3",
   "language": "python",
   "name": "python3"
  },
  "language_info": {
   "codemirror_mode": {
    "name": "ipython",
    "version": 3
   },
   "file_extension": ".py",
   "mimetype": "text/x-python",
   "name": "python",
   "nbconvert_exporter": "python",
   "pygments_lexer": "ipython3",
   "version": "3.10.14"
  }
 },
 "nbformat": 4,
 "nbformat_minor": 2
}
