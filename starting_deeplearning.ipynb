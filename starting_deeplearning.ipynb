{
 "cells": [
  {
   "cell_type": "markdown",
   "metadata": {},
   "source": [
    "## Install miniconda & mamba"
   ]
  },
  {
   "cell_type": "markdown",
   "metadata": {},
   "source": [
    "To get miniconda on mac using the terminal:\n",
    "\n",
    "\n"
   ]
  },
  {
   "cell_type": "raw",
   "metadata": {},
   "source": [
    "brew install wget\n",
    "mkdir -p ~/miniconda3\n",
    "wget https://repo.anaconda.com/miniconda/Miniconda3-latest-MacOSX-x86_64.sh -O ~/miniconda3/miniconda.sh\n",
    "bash ~/miniconda3/miniconda.sh -b -u -p ~/miniconda3\n",
    "rm -rf ~/miniconda3/miniconda.sh\n",
    "~/miniconda3/bin/conda init bash\n",
    "~/miniconda3/bin/conda init zsh"
   ]
  },
  {
   "cell_type": "markdown",
   "metadata": {},
   "source": [
    "Conda has slow package management, use mamba instead:"
   ]
  },
  {
   "cell_type": "raw",
   "metadata": {},
   "source": [
    "conda install mamba -n base -c conda-forge"
   ]
  },
  {
   "cell_type": "markdown",
   "metadata": {},
   "source": [
    "Also add some package channels to conda (last added channel has highest priority):"
   ]
  },
  {
   "cell_type": "raw",
   "metadata": {},
   "source": [
    "conda config --add channels nvidia\n",
    "conda config --add channels rapidsai\n",
    "conda config --add channels conda-forge #largest and most popular channel"
   ]
  },
  {
   "cell_type": "markdown",
   "metadata": {},
   "source": [
    "## Create environments"
   ]
  },
  {
   "cell_type": "markdown",
   "metadata": {},
   "source": [
    "After installing mamba. Avoid installing in the \"base\" environment, which is the default. To change the default:"
   ]
  },
  {
   "cell_type": "raw",
   "metadata": {
    "vscode": {
     "languageId": "raw"
    }
   },
   "source": [
    "conda config --set auto_activate_base false #start a new session after this command to take effect"
   ]
  },
  {
   "cell_type": "markdown",
   "metadata": {},
   "source": [
    "Create virtual environments with conda. Every env will be created in folder user/miniconda3/envs."
   ]
  },
  {
   "cell_type": "raw",
   "metadata": {},
   "source": [
    "mamba create -n {env-name} # optionally install packages while creating the env by appending them: {package-name1} {package-name2}\n",
    "conda activate {env-name}"
   ]
  },
  {
   "cell_type": "markdown",
   "metadata": {},
   "source": [
    "Other environment commands"
   ]
  },
  {
   "cell_type": "raw",
   "metadata": {},
   "source": [
    "conda deactivate\n",
    "mamba install {package-name} # if you want to install packages to a different env than the active\n",
    "mamba install {package-name}={version} # to install specific version e.g. mamba install python=3.8 pandas\n",
    "conda env list # get all env names\n",
    "mamba uninstall {package-name}\n",
    "mamba env export > {env-export-file-name} # export environment to yaml-file\n",
    "mamba env create -f {env-export-file-name} # create environment from yaml-file"
   ]
  },
  {
   "cell_type": "markdown",
   "metadata": {},
   "source": [
    "Example for env I created:"
   ]
  },
  {
   "cell_type": "raw",
   "metadata": {},
   "source": [
    "mamba create -n first-env python=3.8 pandas tensorflow seaborn scikit-learn"
   ]
  },
  {
   "cell_type": "markdown",
   "metadata": {},
   "source": [
    "pandas is for dataframes, seaborn for graphical stuff, scikit-learn for the sklearn-functions"
   ]
  },
  {
   "cell_type": "markdown",
   "metadata": {},
   "source": [
    "See your current active environment (marked with *):"
   ]
  },
  {
   "cell_type": "code",
   "execution_count": null,
   "metadata": {
    "vscode": {
     "languageId": "bat"
    }
   },
   "outputs": [
    {
     "name": "stdout",
     "output_type": "stream",
     "text": [
      "# conda environments:\n",
      "#\n",
      "                         /Users/fabianburki/Library/r-miniconda\n",
      "                         /Users/fabianburki/Library/r-miniconda/envs/r-reticulate\n",
      "base                     /Users/fabianburki/miniconda3\n",
      "first-env             *  /Users/fabianburki/miniconda3/envs/first-env\n",
      "\n",
      "\n",
      "Note: you may need to restart the kernel to use updated packages.\n"
     ]
    }
   ],
   "source": [
    "conda info --envs"
   ]
  },
  {
   "cell_type": "markdown",
   "metadata": {},
   "source": [
    "## Jupyter notebooks locally"
   ]
  },
  {
   "cell_type": "markdown",
   "metadata": {},
   "source": [
    "To use jupyter notebooks locally:"
   ]
  },
  {
   "cell_type": "raw",
   "metadata": {},
   "source": [
    "pip3 install jupyter # you can also use mamba to install"
   ]
  },
  {
   "cell_type": "markdown",
   "metadata": {},
   "source": [
    "Then cd to directory where you want your notebook and type, which will start a browser session:"
   ]
  },
  {
   "cell_type": "raw",
   "metadata": {},
   "source": [
    "jupyter notebook"
   ]
  },
  {
   "cell_type": "markdown",
   "metadata": {
    "vscode": {
     "languageId": "raw"
    }
   },
   "source": [
    "Or use jupyter-extension in vscode. \\\n",
    "https://marketplace.visualstudio.com/items?itemName=ms-toolsai.jupyter"
   ]
  },
  {
   "cell_type": "markdown",
   "metadata": {},
   "source": [
    "## Start tensorflowing\n",
    "Tensorflow api doc: https://www.tensorflow.org/api_docs/python/tf"
   ]
  },
  {
   "cell_type": "code",
   "execution_count": 1,
   "metadata": {},
   "outputs": [
    {
     "name": "stderr",
     "output_type": "stream",
     "text": [
      "2024-04-04 13:56:40.544350: I tensorflow/core/platform/cpu_feature_guard.cc:193] This TensorFlow binary is optimized with oneAPI Deep Neural Network Library (oneDNN) to use the following CPU instructions in performance-critical operations:  SSE4.1 SSE4.2 AVX AVX2 FMA\n",
      "To enable them in other operations, rebuild TensorFlow with the appropriate compiler flags.\n"
     ]
    },
    {
     "name": "stdout",
     "output_type": "stream",
     "text": [
      "tensorflow version: 2.11.0\n"
     ]
    }
   ],
   "source": [
    "import tensorflow as tf\n",
    "print(('tensorflow version: {0}').format(tf.__version__))"
   ]
  },
  {
   "cell_type": "markdown",
   "metadata": {},
   "source": [
    "### Some functions of tensorflow: creating constants, variables, zero-arrays and math operations"
   ]
  },
  {
   "cell_type": "code",
   "execution_count": 2,
   "metadata": {},
   "outputs": [
    {
     "name": "stderr",
     "output_type": "stream",
     "text": [
      "2024-04-04 13:56:54.981082: I tensorflow/core/platform/cpu_feature_guard.cc:193] This TensorFlow binary is optimized with oneAPI Deep Neural Network Library (oneDNN) to use the following CPU instructions in performance-critical operations:  SSE4.1 SSE4.2 AVX AVX2 FMA\n",
      "To enable them in other operations, rebuild TensorFlow with the appropriate compiler flags.\n"
     ]
    },
    {
     "data": {
      "text/plain": [
       "<tf.Tensor: shape=(2, 2), dtype=int32, numpy=\n",
       "array([[4, 3],\n",
       "       [6, 1]], dtype=int32)>"
      ]
     },
     "execution_count": 2,
     "metadata": {},
     "output_type": "execute_result"
    }
   ],
   "source": [
    "# create constant tensor\n",
    "A = tf.constant([[4,3],[6,1]])\n",
    "A # this works for printing in jupyter notebook"
   ]
  },
  {
   "cell_type": "code",
   "execution_count": 5,
   "metadata": {},
   "outputs": [
    {
     "data": {
      "text/plain": [
       "<tf.Variable 'Variable:0' shape=(2, 3) dtype=int32, numpy=\n",
       "array([[8, 3, 4],\n",
       "       [2, 6, 1]], dtype=int32)>"
      ]
     },
     "execution_count": 5,
     "metadata": {},
     "output_type": "execute_result"
    }
   ],
   "source": [
    "V = tf.Variable([[8,3,4],[2,6,1]])\n",
    "V"
   ]
  },
  {
   "cell_type": "code",
   "execution_count": 6,
   "metadata": {},
   "outputs": [
    {
     "data": {
      "text/plain": [
       "<tf.Tensor: shape=(4, 6), dtype=int32, numpy=\n",
       "array([[0, 0, 0, 0, 0, 0],\n",
       "       [0, 0, 0, 0, 0, 0],\n",
       "       [0, 0, 0, 0, 0, 0],\n",
       "       [0, 0, 0, 0, 0, 0]], dtype=int32)>"
      ]
     },
     "execution_count": 6,
     "metadata": {},
     "output_type": "execute_result"
    }
   ],
   "source": [
    "tensor = tf.zeros(shape=[4,6],dtype=tf.int32)\n",
    "tensor"
   ]
  },
  {
   "cell_type": "markdown",
   "metadata": {},
   "source": [
    "tf uses int32, to control the precision so we get the same results on different plattforms. 0s & 1s are mostly used for masking. Tensors are usually initialized with random numbers."
   ]
  },
  {
   "cell_type": "code",
   "execution_count": 7,
   "metadata": {},
   "outputs": [
    {
     "data": {
      "text/plain": [
       "<tf.Tensor: shape=(2, 2), dtype=int32, numpy=\n",
       "array([[4, 6],\n",
       "       [3, 1]], dtype=int32)>"
      ]
     },
     "execution_count": 7,
     "metadata": {},
     "output_type": "execute_result"
    }
   ],
   "source": [
    "# to flip column and rows\n",
    "a = tf.transpose(A)\n",
    "a"
   ]
  },
  {
   "cell_type": "code",
   "execution_count": 8,
   "metadata": {},
   "outputs": [
    {
     "data": {
      "text/plain": [
       "<tf.Tensor: shape=(2, 3), dtype=int32, numpy=\n",
       "array([[38, 30, 19],\n",
       "       [50, 24, 25]], dtype=int32)>"
      ]
     },
     "execution_count": 8,
     "metadata": {},
     "output_type": "execute_result"
    }
   ],
   "source": [
    "# matrix multiplication\n",
    "AV = tf.matmul(A,V)\n",
    "AV"
   ]
  },
  {
   "cell_type": "markdown",
   "metadata": {},
   "source": [
    "### Preparing for deep learning"
   ]
  },
  {
   "cell_type": "code",
   "execution_count": 2,
   "metadata": {},
   "outputs": [],
   "source": [
    "import datetime, warnings, scipy\n",
    "import pandas as pd # pandas for data frames\n",
    "import numpy as np # numpy for numbers arrays\n",
    "import seaborn as sns # for graphics\n",
    "import matplotlib as mpl\n",
    "import matplotlib.pyplot as plt\n",
    "# params for graphics\n",
    "plt.rcParams[\"patch.force_edgecolor\"]=True\n",
    "plt.style.use('fivethirtyeight')\n",
    "mpl.rc('patch',edgecolor = 'dimgray', linewidth=1)\n",
    "# other stuff happening\n",
    "from IPython.core.interactiveshell import InteractiveShell\n",
    "InteractiveShell.ast_node_interactivity=\"last_expr\"\n",
    "pd.options.display.max_columns=50\n",
    "# for jupyter notebook some matplotlib code is needed\n",
    "%matplotlib inline \n",
    "warnings.filterwarnings(\"ignore\") # don't disable warnings on serious projects"
   ]
  },
  {
   "cell_type": "markdown",
   "metadata": {},
   "source": [
    "### Importing keras and sklearn"
   ]
  },
  {
   "cell_type": "code",
   "execution_count": 3,
   "metadata": {},
   "outputs": [],
   "source": [
    "import math\n",
    "# choose the model\n",
    "from keras.models import Sequential\n",
    "# choose the layers\n",
    "from keras.layers import Dense # uses ReLU per default\n",
    "from keras.layers import LSTM # long short term memory\n",
    "from sklearn.preprocessing import MinMaxScaler, StandardScaler # to preprocess the data\n",
    "from sklearn.metrics import mean_squared_error # to compute the errors"
   ]
  },
  {
   "cell_type": "markdown",
   "metadata": {},
   "source": [
    "Read air quality csv-file:"
   ]
  },
  {
   "cell_type": "code",
   "execution_count": 11,
   "metadata": {},
   "outputs": [
    {
     "data": {
      "text/html": [
       "<div>\n",
       "<style scoped>\n",
       "    .dataframe tbody tr th:only-of-type {\n",
       "        vertical-align: middle;\n",
       "    }\n",
       "\n",
       "    .dataframe tbody tr th {\n",
       "        vertical-align: top;\n",
       "    }\n",
       "\n",
       "    .dataframe thead th {\n",
       "        text-align: right;\n",
       "    }\n",
       "</style>\n",
       "<table border=\"1\" class=\"dataframe\">\n",
       "  <thead>\n",
       "    <tr style=\"text-align: right;\">\n",
       "      <th></th>\n",
       "      <th>No</th>\n",
       "      <th>Profile</th>\n",
       "      <th>Tanggal</th>\n",
       "      <th>Jam</th>\n",
       "      <th>O3</th>\n",
       "      <th>CO</th>\n",
       "      <th>NO2</th>\n",
       "      <th>SO2</th>\n",
       "      <th>NO</th>\n",
       "      <th>CO2</th>\n",
       "      <th>VOC</th>\n",
       "      <th>PM1</th>\n",
       "      <th>PM2.5</th>\n",
       "      <th>PM4</th>\n",
       "      <th>PM10</th>\n",
       "      <th>TSP</th>\n",
       "      <th>TEMP</th>\n",
       "      <th>HUM</th>\n",
       "      <th>WS</th>\n",
       "      <th>WD</th>\n",
       "      <th>ISPU</th>\n",
       "      <th>Status</th>\n",
       "      <th>Unnamed: 22</th>\n",
       "    </tr>\n",
       "  </thead>\n",
       "  <tbody>\n",
       "    <tr>\n",
       "      <th>0</th>\n",
       "      <td>1</td>\n",
       "      <td>BANDUNG</td>\n",
       "      <td>2019-05-19</td>\n",
       "      <td>00:04:19</td>\n",
       "      <td>21.35</td>\n",
       "      <td>0.78</td>\n",
       "      <td>6.77</td>\n",
       "      <td>14.06</td>\n",
       "      <td>26.168</td>\n",
       "      <td>409.86</td>\n",
       "      <td>251.202</td>\n",
       "      <td>0.0</td>\n",
       "      <td>0.0</td>\n",
       "      <td>0.0</td>\n",
       "      <td>2.77</td>\n",
       "      <td>0.0</td>\n",
       "      <td>21.4</td>\n",
       "      <td>100.0</td>\n",
       "      <td>0.600</td>\n",
       "      <td>5</td>\n",
       "      <td>9</td>\n",
       "      <td>BAIK</td>\n",
       "      <td>NaN</td>\n",
       "    </tr>\n",
       "    <tr>\n",
       "      <th>1</th>\n",
       "      <td>2</td>\n",
       "      <td>BANDUNG</td>\n",
       "      <td>2019-05-19</td>\n",
       "      <td>00:15:01</td>\n",
       "      <td>5.93</td>\n",
       "      <td>0.82</td>\n",
       "      <td>14.87</td>\n",
       "      <td>17.23</td>\n",
       "      <td>53.853</td>\n",
       "      <td>394.79</td>\n",
       "      <td>501.356</td>\n",
       "      <td>0.0</td>\n",
       "      <td>0.0</td>\n",
       "      <td>0.0</td>\n",
       "      <td>11.95</td>\n",
       "      <td>0.0</td>\n",
       "      <td>42.6</td>\n",
       "      <td>200.0</td>\n",
       "      <td>0.000</td>\n",
       "      <td>2</td>\n",
       "      <td>12</td>\n",
       "      <td>BAIK</td>\n",
       "      <td>NaN</td>\n",
       "    </tr>\n",
       "    <tr>\n",
       "      <th>2</th>\n",
       "      <td>3</td>\n",
       "      <td>BANDUNG</td>\n",
       "      <td>2019-05-19</td>\n",
       "      <td>00:30:06</td>\n",
       "      <td>6.62</td>\n",
       "      <td>0.63</td>\n",
       "      <td>22.24</td>\n",
       "      <td>2.31</td>\n",
       "      <td>38.304</td>\n",
       "      <td>390.66</td>\n",
       "      <td>753.291</td>\n",
       "      <td>0.0</td>\n",
       "      <td>0.0</td>\n",
       "      <td>0.0</td>\n",
       "      <td>12.71</td>\n",
       "      <td>0.0</td>\n",
       "      <td>63.6</td>\n",
       "      <td>299.2</td>\n",
       "      <td>0.000</td>\n",
       "      <td>2</td>\n",
       "      <td>13</td>\n",
       "      <td>BAIK</td>\n",
       "      <td>NaN</td>\n",
       "    </tr>\n",
       "    <tr>\n",
       "      <th>3</th>\n",
       "      <td>4</td>\n",
       "      <td>BANDUNG</td>\n",
       "      <td>2019-05-19</td>\n",
       "      <td>00:49:19</td>\n",
       "      <td>13.29</td>\n",
       "      <td>0.44</td>\n",
       "      <td>19.00</td>\n",
       "      <td>5.32</td>\n",
       "      <td>18.962</td>\n",
       "      <td>401.23</td>\n",
       "      <td>251.043</td>\n",
       "      <td>0.0</td>\n",
       "      <td>0.0</td>\n",
       "      <td>0.0</td>\n",
       "      <td>1.20</td>\n",
       "      <td>0.0</td>\n",
       "      <td>21.3</td>\n",
       "      <td>88.2</td>\n",
       "      <td>0.525</td>\n",
       "      <td>5</td>\n",
       "      <td>6</td>\n",
       "      <td>BAIK</td>\n",
       "      <td>NaN</td>\n",
       "    </tr>\n",
       "    <tr>\n",
       "      <th>4</th>\n",
       "      <td>5</td>\n",
       "      <td>BANDUNG</td>\n",
       "      <td>2019-05-19</td>\n",
       "      <td>01:04:19</td>\n",
       "      <td>2.44</td>\n",
       "      <td>0.47</td>\n",
       "      <td>26.74</td>\n",
       "      <td>13.61</td>\n",
       "      <td>35.270</td>\n",
       "      <td>381.67</td>\n",
       "      <td>250.471</td>\n",
       "      <td>0.0</td>\n",
       "      <td>0.0</td>\n",
       "      <td>0.0</td>\n",
       "      <td>3.52</td>\n",
       "      <td>0.0</td>\n",
       "      <td>21.3</td>\n",
       "      <td>97.4</td>\n",
       "      <td>0.975</td>\n",
       "      <td>5</td>\n",
       "      <td>9</td>\n",
       "      <td>BAIK</td>\n",
       "      <td>NaN</td>\n",
       "    </tr>\n",
       "  </tbody>\n",
       "</table>\n",
       "</div>"
      ],
      "text/plain": [
       "   No  Profile     Tanggal       Jam     O3    CO    NO2    SO2      NO  \\\n",
       "0   1  BANDUNG  2019-05-19  00:04:19  21.35  0.78   6.77  14.06  26.168   \n",
       "1   2  BANDUNG  2019-05-19  00:15:01   5.93  0.82  14.87  17.23  53.853   \n",
       "2   3  BANDUNG  2019-05-19  00:30:06   6.62  0.63  22.24   2.31  38.304   \n",
       "3   4  BANDUNG  2019-05-19  00:49:19  13.29  0.44  19.00   5.32  18.962   \n",
       "4   5  BANDUNG  2019-05-19  01:04:19   2.44  0.47  26.74  13.61  35.270   \n",
       "\n",
       "      CO2      VOC  PM1  PM2.5  PM4   PM10  TSP  TEMP    HUM     WS  WD  ISPU  \\\n",
       "0  409.86  251.202  0.0    0.0  0.0   2.77  0.0  21.4  100.0  0.600   5     9   \n",
       "1  394.79  501.356  0.0    0.0  0.0  11.95  0.0  42.6  200.0  0.000   2    12   \n",
       "2  390.66  753.291  0.0    0.0  0.0  12.71  0.0  63.6  299.2  0.000   2    13   \n",
       "3  401.23  251.043  0.0    0.0  0.0   1.20  0.0  21.3   88.2  0.525   5     6   \n",
       "4  381.67  250.471  0.0    0.0  0.0   3.52  0.0  21.3   97.4  0.975   5     9   \n",
       "\n",
       "  Status  Unnamed: 22  \n",
       "0   BAIK          NaN  \n",
       "1   BAIK          NaN  \n",
       "2   BAIK          NaN  \n",
       "3   BAIK          NaN  \n",
       "4   BAIK          NaN  "
      ]
     },
     "execution_count": 11,
     "metadata": {},
     "output_type": "execute_result"
    }
   ],
   "source": [
    "df = pd.read_csv('air_quality.csv',sep=' ') # if the csv is in the same directory as the jupyter notebook\n",
    "df.head()"
   ]
  },
  {
   "cell_type": "markdown",
   "metadata": {},
   "source": [
    "### Preprocessing the data"
   ]
  },
  {
   "cell_type": "code",
   "execution_count": 12,
   "metadata": {},
   "outputs": [
    {
     "data": {
      "text/html": [
       "<div>\n",
       "<style scoped>\n",
       "    .dataframe tbody tr th:only-of-type {\n",
       "        vertical-align: middle;\n",
       "    }\n",
       "\n",
       "    .dataframe tbody tr th {\n",
       "        vertical-align: top;\n",
       "    }\n",
       "\n",
       "    .dataframe thead th {\n",
       "        text-align: right;\n",
       "    }\n",
       "</style>\n",
       "<table border=\"1\" class=\"dataframe\">\n",
       "  <thead>\n",
       "    <tr style=\"text-align: right;\">\n",
       "      <th></th>\n",
       "      <th>O3</th>\n",
       "      <th>CO</th>\n",
       "      <th>NO2</th>\n",
       "      <th>SO2</th>\n",
       "      <th>NO</th>\n",
       "      <th>CO2</th>\n",
       "      <th>VOC</th>\n",
       "      <th>PM1</th>\n",
       "      <th>PM2.5</th>\n",
       "      <th>PM4</th>\n",
       "      <th>PM10</th>\n",
       "      <th>TSP</th>\n",
       "      <th>TEMP</th>\n",
       "      <th>HUM</th>\n",
       "      <th>WS</th>\n",
       "      <th>WD</th>\n",
       "      <th>ISPU</th>\n",
       "    </tr>\n",
       "    <tr>\n",
       "      <th>Datetime</th>\n",
       "      <th></th>\n",
       "      <th></th>\n",
       "      <th></th>\n",
       "      <th></th>\n",
       "      <th></th>\n",
       "      <th></th>\n",
       "      <th></th>\n",
       "      <th></th>\n",
       "      <th></th>\n",
       "      <th></th>\n",
       "      <th></th>\n",
       "      <th></th>\n",
       "      <th></th>\n",
       "      <th></th>\n",
       "      <th></th>\n",
       "      <th></th>\n",
       "      <th></th>\n",
       "    </tr>\n",
       "  </thead>\n",
       "  <tbody>\n",
       "    <tr>\n",
       "      <th>2019-05-19 00:00:00</th>\n",
       "      <td>11.797500</td>\n",
       "      <td>0.667500</td>\n",
       "      <td>15.720</td>\n",
       "      <td>9.7300</td>\n",
       "      <td>34.32175</td>\n",
       "      <td>399.135000</td>\n",
       "      <td>439.22300</td>\n",
       "      <td>0.0</td>\n",
       "      <td>0.0</td>\n",
       "      <td>0.0</td>\n",
       "      <td>7.157500</td>\n",
       "      <td>0.0</td>\n",
       "      <td>37.225000</td>\n",
       "      <td>171.850000</td>\n",
       "      <td>0.28125</td>\n",
       "      <td>3.500000</td>\n",
       "      <td>10.000000</td>\n",
       "    </tr>\n",
       "    <tr>\n",
       "      <th>2019-05-19 01:00:00</th>\n",
       "      <td>3.816667</td>\n",
       "      <td>0.373333</td>\n",
       "      <td>22.600</td>\n",
       "      <td>20.0900</td>\n",
       "      <td>39.82100</td>\n",
       "      <td>388.536667</td>\n",
       "      <td>250.39400</td>\n",
       "      <td>0.0</td>\n",
       "      <td>0.0</td>\n",
       "      <td>0.0</td>\n",
       "      <td>3.293333</td>\n",
       "      <td>0.0</td>\n",
       "      <td>20.966667</td>\n",
       "      <td>95.033333</td>\n",
       "      <td>0.67500</td>\n",
       "      <td>4.666667</td>\n",
       "      <td>12.666667</td>\n",
       "    </tr>\n",
       "    <tr>\n",
       "      <th>2019-05-19 02:00:00</th>\n",
       "      <td>6.450000</td>\n",
       "      <td>0.332500</td>\n",
       "      <td>24.130</td>\n",
       "      <td>26.3100</td>\n",
       "      <td>51.29325</td>\n",
       "      <td>396.242500</td>\n",
       "      <td>251.04575</td>\n",
       "      <td>0.0</td>\n",
       "      <td>0.0</td>\n",
       "      <td>0.0</td>\n",
       "      <td>6.487500</td>\n",
       "      <td>0.0</td>\n",
       "      <td>20.150000</td>\n",
       "      <td>97.500000</td>\n",
       "      <td>0.09375</td>\n",
       "      <td>3.750000</td>\n",
       "      <td>16.250000</td>\n",
       "    </tr>\n",
       "    <tr>\n",
       "      <th>2019-05-19 03:00:00</th>\n",
       "      <td>4.740000</td>\n",
       "      <td>0.180000</td>\n",
       "      <td>25.975</td>\n",
       "      <td>24.3900</td>\n",
       "      <td>43.51850</td>\n",
       "      <td>401.355000</td>\n",
       "      <td>252.24875</td>\n",
       "      <td>0.0</td>\n",
       "      <td>0.0</td>\n",
       "      <td>0.0</td>\n",
       "      <td>4.700000</td>\n",
       "      <td>0.0</td>\n",
       "      <td>19.850000</td>\n",
       "      <td>100.000000</td>\n",
       "      <td>0.07500</td>\n",
       "      <td>5.000000</td>\n",
       "      <td>15.000000</td>\n",
       "    </tr>\n",
       "    <tr>\n",
       "      <th>2019-05-19 04:00:00</th>\n",
       "      <td>19.692500</td>\n",
       "      <td>0.202500</td>\n",
       "      <td>20.395</td>\n",
       "      <td>18.6225</td>\n",
       "      <td>53.37925</td>\n",
       "      <td>399.335000</td>\n",
       "      <td>694.23975</td>\n",
       "      <td>0.0</td>\n",
       "      <td>0.0</td>\n",
       "      <td>0.0</td>\n",
       "      <td>5.262500</td>\n",
       "      <td>0.0</td>\n",
       "      <td>53.475000</td>\n",
       "      <td>272.500000</td>\n",
       "      <td>0.18750</td>\n",
       "      <td>5.250000</td>\n",
       "      <td>13.250000</td>\n",
       "    </tr>\n",
       "  </tbody>\n",
       "</table>\n",
       "</div>"
      ],
      "text/plain": [
       "                            O3        CO     NO2      SO2        NO  \\\n",
       "Datetime                                                              \n",
       "2019-05-19 00:00:00  11.797500  0.667500  15.720   9.7300  34.32175   \n",
       "2019-05-19 01:00:00   3.816667  0.373333  22.600  20.0900  39.82100   \n",
       "2019-05-19 02:00:00   6.450000  0.332500  24.130  26.3100  51.29325   \n",
       "2019-05-19 03:00:00   4.740000  0.180000  25.975  24.3900  43.51850   \n",
       "2019-05-19 04:00:00  19.692500  0.202500  20.395  18.6225  53.37925   \n",
       "\n",
       "                            CO2        VOC  PM1  PM2.5  PM4      PM10  TSP  \\\n",
       "Datetime                                                                     \n",
       "2019-05-19 00:00:00  399.135000  439.22300  0.0    0.0  0.0  7.157500  0.0   \n",
       "2019-05-19 01:00:00  388.536667  250.39400  0.0    0.0  0.0  3.293333  0.0   \n",
       "2019-05-19 02:00:00  396.242500  251.04575  0.0    0.0  0.0  6.487500  0.0   \n",
       "2019-05-19 03:00:00  401.355000  252.24875  0.0    0.0  0.0  4.700000  0.0   \n",
       "2019-05-19 04:00:00  399.335000  694.23975  0.0    0.0  0.0  5.262500  0.0   \n",
       "\n",
       "                          TEMP         HUM       WS        WD       ISPU  \n",
       "Datetime                                                                  \n",
       "2019-05-19 00:00:00  37.225000  171.850000  0.28125  3.500000  10.000000  \n",
       "2019-05-19 01:00:00  20.966667   95.033333  0.67500  4.666667  12.666667  \n",
       "2019-05-19 02:00:00  20.150000   97.500000  0.09375  3.750000  16.250000  \n",
       "2019-05-19 03:00:00  19.850000  100.000000  0.07500  5.000000  15.000000  \n",
       "2019-05-19 04:00:00  53.475000  272.500000  0.18750  5.250000  13.250000  "
      ]
     },
     "execution_count": 12,
     "metadata": {},
     "output_type": "execute_result"
    }
   ],
   "source": [
    "# Convert TIME to datetime format:\n",
    "def combine_date(df, tab_name):\n",
    "    list_tab = []\n",
    "    for i in range(df. shape[0]):\n",
    "        list_tab.append(df.loc[i, 'Tanggal'] + 'T' + df.loc[i, tab_name][0:2])\n",
    "    return np.array(list_tab, dtype='datetime64')\n",
    "df['Datetime'] = combine_date(df,'Jam')\n",
    "# Convert into houriy data\n",
    "df = df[['Datetime','O3','CO','NO2','SO2','NO','CO2','VOC','PM1','PM2.5','PM4','PM10','TSP','TEMP','HUM','WS','WD','ISPU']]\n",
    "df2 = df.groupby(['Datetime']).mean()\n",
    "df2.head()"
   ]
  },
  {
   "cell_type": "code",
   "execution_count": 14,
   "metadata": {},
   "outputs": [
    {
     "data": {
      "text/html": [
       "<div>\n",
       "<style scoped>\n",
       "    .dataframe tbody tr th:only-of-type {\n",
       "        vertical-align: middle;\n",
       "    }\n",
       "\n",
       "    .dataframe tbody tr th {\n",
       "        vertical-align: top;\n",
       "    }\n",
       "\n",
       "    .dataframe thead th {\n",
       "        text-align: right;\n",
       "    }\n",
       "</style>\n",
       "<table border=\"1\" class=\"dataframe\">\n",
       "  <thead>\n",
       "    <tr style=\"text-align: right;\">\n",
       "      <th></th>\n",
       "      <th>O3</th>\n",
       "      <th>CO</th>\n",
       "      <th>NO2</th>\n",
       "      <th>SO2</th>\n",
       "      <th>NO</th>\n",
       "      <th>CO2</th>\n",
       "      <th>VOC</th>\n",
       "      <th>PM1</th>\n",
       "      <th>PM2.5</th>\n",
       "      <th>PM4</th>\n",
       "      <th>PM10</th>\n",
       "      <th>TSP</th>\n",
       "      <th>TEMP</th>\n",
       "      <th>HUM</th>\n",
       "      <th>WS</th>\n",
       "      <th>WD</th>\n",
       "      <th>ISPU</th>\n",
       "    </tr>\n",
       "  </thead>\n",
       "  <tbody>\n",
       "    <tr>\n",
       "      <th>count</th>\n",
       "      <td>1737.000000</td>\n",
       "      <td>1737.000000</td>\n",
       "      <td>1737.000000</td>\n",
       "      <td>1737.000000</td>\n",
       "      <td>1737.000000</td>\n",
       "      <td>1737.000000</td>\n",
       "      <td>1737.000000</td>\n",
       "      <td>1737.000000</td>\n",
       "      <td>1737.000000</td>\n",
       "      <td>1737.000000</td>\n",
       "      <td>1737.000000</td>\n",
       "      <td>1737.000000</td>\n",
       "      <td>1737.000000</td>\n",
       "      <td>1737.000000</td>\n",
       "      <td>1737.000000</td>\n",
       "      <td>1737.000000</td>\n",
       "      <td>1737.000000</td>\n",
       "    </tr>\n",
       "    <tr>\n",
       "      <th>mean</th>\n",
       "      <td>8.538909</td>\n",
       "      <td>0.233172</td>\n",
       "      <td>16.681910</td>\n",
       "      <td>12.013894</td>\n",
       "      <td>37.086256</td>\n",
       "      <td>394.616480</td>\n",
       "      <td>260.053778</td>\n",
       "      <td>0.309564</td>\n",
       "      <td>0.383692</td>\n",
       "      <td>0.451982</td>\n",
       "      <td>6.157770</td>\n",
       "      <td>0.562012</td>\n",
       "      <td>25.266942</td>\n",
       "      <td>77.634191</td>\n",
       "      <td>24.291226</td>\n",
       "      <td>7.129031</td>\n",
       "      <td>10.097848</td>\n",
       "    </tr>\n",
       "    <tr>\n",
       "      <th>std</th>\n",
       "      <td>3.997292</td>\n",
       "      <td>0.388102</td>\n",
       "      <td>5.373487</td>\n",
       "      <td>4.411251</td>\n",
       "      <td>12.521778</td>\n",
       "      <td>4.180224</td>\n",
       "      <td>60.773321</td>\n",
       "      <td>2.286104</td>\n",
       "      <td>2.874126</td>\n",
       "      <td>3.378291</td>\n",
       "      <td>4.149511</td>\n",
       "      <td>4.184787</td>\n",
       "      <td>6.707977</td>\n",
       "      <td>29.743129</td>\n",
       "      <td>51.993683</td>\n",
       "      <td>3.523245</td>\n",
       "      <td>5.049788</td>\n",
       "    </tr>\n",
       "    <tr>\n",
       "      <th>min</th>\n",
       "      <td>0.270000</td>\n",
       "      <td>0.010000</td>\n",
       "      <td>2.040000</td>\n",
       "      <td>2.162500</td>\n",
       "      <td>3.128750</td>\n",
       "      <td>380.420000</td>\n",
       "      <td>187.518000</td>\n",
       "      <td>0.000000</td>\n",
       "      <td>0.000000</td>\n",
       "      <td>0.000000</td>\n",
       "      <td>0.885000</td>\n",
       "      <td>0.000000</td>\n",
       "      <td>11.250000</td>\n",
       "      <td>26.866667</td>\n",
       "      <td>0.000000</td>\n",
       "      <td>0.000000</td>\n",
       "      <td>4.250000</td>\n",
       "    </tr>\n",
       "    <tr>\n",
       "      <th>25%</th>\n",
       "      <td>5.881667</td>\n",
       "      <td>0.083333</td>\n",
       "      <td>13.010000</td>\n",
       "      <td>9.015000</td>\n",
       "      <td>28.443500</td>\n",
       "      <td>391.830000</td>\n",
       "      <td>247.798333</td>\n",
       "      <td>0.000000</td>\n",
       "      <td>0.000000</td>\n",
       "      <td>0.000000</td>\n",
       "      <td>4.340000</td>\n",
       "      <td>0.000000</td>\n",
       "      <td>21.266667</td>\n",
       "      <td>57.850000</td>\n",
       "      <td>0.237500</td>\n",
       "      <td>4.666667</td>\n",
       "      <td>8.166667</td>\n",
       "    </tr>\n",
       "    <tr>\n",
       "      <th>50%</th>\n",
       "      <td>7.813333</td>\n",
       "      <td>0.160000</td>\n",
       "      <td>15.916667</td>\n",
       "      <td>11.730000</td>\n",
       "      <td>39.252250</td>\n",
       "      <td>394.602000</td>\n",
       "      <td>250.926250</td>\n",
       "      <td>0.000000</td>\n",
       "      <td>0.000000</td>\n",
       "      <td>0.000000</td>\n",
       "      <td>5.571667</td>\n",
       "      <td>0.000000</td>\n",
       "      <td>24.100000</td>\n",
       "      <td>77.083333</td>\n",
       "      <td>1.312500</td>\n",
       "      <td>5.833333</td>\n",
       "      <td>9.500000</td>\n",
       "    </tr>\n",
       "    <tr>\n",
       "      <th>75%</th>\n",
       "      <td>10.373333</td>\n",
       "      <td>0.296667</td>\n",
       "      <td>19.935000</td>\n",
       "      <td>14.595000</td>\n",
       "      <td>46.015500</td>\n",
       "      <td>397.415000</td>\n",
       "      <td>253.286667</td>\n",
       "      <td>0.000000</td>\n",
       "      <td>0.000000</td>\n",
       "      <td>0.000000</td>\n",
       "      <td>7.090000</td>\n",
       "      <td>0.000000</td>\n",
       "      <td>28.400000</td>\n",
       "      <td>94.066667</td>\n",
       "      <td>5.075000</td>\n",
       "      <td>10.500000</td>\n",
       "      <td>11.000000</td>\n",
       "    </tr>\n",
       "    <tr>\n",
       "      <th>max</th>\n",
       "      <td>33.741667</td>\n",
       "      <td>13.950000</td>\n",
       "      <td>99.600000</td>\n",
       "      <td>46.290000</td>\n",
       "      <td>194.554000</td>\n",
       "      <td>408.820000</td>\n",
       "      <td>1240.713500</td>\n",
       "      <td>51.600000</td>\n",
       "      <td>68.700000</td>\n",
       "      <td>79.800000</td>\n",
       "      <td>91.600000</td>\n",
       "      <td>92.900000</td>\n",
       "      <td>124.600000</td>\n",
       "      <td>313.400000</td>\n",
       "      <td>199.200000</td>\n",
       "      <td>15.000000</td>\n",
       "      <td>156.500000</td>\n",
       "    </tr>\n",
       "  </tbody>\n",
       "</table>\n",
       "</div>"
      ],
      "text/plain": [
       "                O3           CO          NO2          SO2           NO  \\\n",
       "count  1737.000000  1737.000000  1737.000000  1737.000000  1737.000000   \n",
       "mean      8.538909     0.233172    16.681910    12.013894    37.086256   \n",
       "std       3.997292     0.388102     5.373487     4.411251    12.521778   \n",
       "min       0.270000     0.010000     2.040000     2.162500     3.128750   \n",
       "25%       5.881667     0.083333    13.010000     9.015000    28.443500   \n",
       "50%       7.813333     0.160000    15.916667    11.730000    39.252250   \n",
       "75%      10.373333     0.296667    19.935000    14.595000    46.015500   \n",
       "max      33.741667    13.950000    99.600000    46.290000   194.554000   \n",
       "\n",
       "               CO2          VOC          PM1        PM2.5          PM4  \\\n",
       "count  1737.000000  1737.000000  1737.000000  1737.000000  1737.000000   \n",
       "mean    394.616480   260.053778     0.309564     0.383692     0.451982   \n",
       "std       4.180224    60.773321     2.286104     2.874126     3.378291   \n",
       "min     380.420000   187.518000     0.000000     0.000000     0.000000   \n",
       "25%     391.830000   247.798333     0.000000     0.000000     0.000000   \n",
       "50%     394.602000   250.926250     0.000000     0.000000     0.000000   \n",
       "75%     397.415000   253.286667     0.000000     0.000000     0.000000   \n",
       "max     408.820000  1240.713500    51.600000    68.700000    79.800000   \n",
       "\n",
       "              PM10          TSP         TEMP          HUM           WS  \\\n",
       "count  1737.000000  1737.000000  1737.000000  1737.000000  1737.000000   \n",
       "mean      6.157770     0.562012    25.266942    77.634191    24.291226   \n",
       "std       4.149511     4.184787     6.707977    29.743129    51.993683   \n",
       "min       0.885000     0.000000    11.250000    26.866667     0.000000   \n",
       "25%       4.340000     0.000000    21.266667    57.850000     0.237500   \n",
       "50%       5.571667     0.000000    24.100000    77.083333     1.312500   \n",
       "75%       7.090000     0.000000    28.400000    94.066667     5.075000   \n",
       "max      91.600000    92.900000   124.600000   313.400000   199.200000   \n",
       "\n",
       "                WD         ISPU  \n",
       "count  1737.000000  1737.000000  \n",
       "mean      7.129031    10.097848  \n",
       "std       3.523245     5.049788  \n",
       "min       0.000000     4.250000  \n",
       "25%       4.666667     8.166667  \n",
       "50%       5.833333     9.500000  \n",
       "75%      10.500000    11.000000  \n",
       "max      15.000000   156.500000  "
      ]
     },
     "execution_count": 14,
     "metadata": {},
     "output_type": "execute_result"
    }
   ],
   "source": [
    "df2.describe()"
   ]
  },
  {
   "cell_type": "code",
   "execution_count": 19,
   "metadata": {},
   "outputs": [
    {
     "name": "stdout",
     "output_type": "stream",
     "text": [
      "\n",
      "Attribute- O3 :\n",
      "Q1 = 5.88\n",
      "Q3 = 10.37\n",
      "min_IQR = -0.86\n",
      "max_IQR = 17.11\n",
      "--> outlier found above = 33.74\n",
      "\n",
      "Attribute- CO :\n",
      "Q1 = 0.08\n",
      "Q3 = 0.30\n",
      "min_IQR = -0.24\n",
      "max_IQR = 0.62\n",
      "--> outlier found above = 13.95\n",
      "\n",
      "Attribute- NO2 :\n",
      "Q1 = 13.01\n",
      "Q3 = 19.93\n",
      "min_IQR = 2.62\n",
      "max_IQR = 30.32\n",
      "--> outlier found below = 2.04\n",
      "--> outlier found above = 99.60\n",
      "\n",
      "Attribute- SO2 :\n",
      "Q1 = 8.99\n",
      "Q3 = 14.57\n",
      "min_IQR = 0.63\n",
      "max_IQR = 22.93\n",
      "--> outlier found above = 46.29\n",
      "\n",
      "Attribute- NO :\n",
      "Q1 = 28.44\n",
      "Q3 = 46.02\n",
      "min_IQR = 2.09\n",
      "max_IQR = 72.37\n",
      "--> outlier found above = 194.55\n",
      "\n",
      "Attribute- CO2 :\n",
      "Q1 = 391.84\n",
      "Q3 = 397.40\n",
      "min_IQR = 383.49\n",
      "max_IQR = 405.75\n",
      "--> outlier found below = 380.42\n",
      "--> outlier found above = 408.82\n",
      "\n",
      "Attribute- VOC :\n",
      "Q1 = 247.81\n",
      "Q3 = 253.30\n",
      "min_IQR = 239.57\n",
      "max_IQR = 261.53\n",
      "--> outlier found below = 187.52\n",
      "--> outlier found above = 1240.71\n",
      "\n",
      "Attribute- PM1 :\n",
      "Q1 = 0.00\n",
      "Q3 = 0.00\n",
      "min_IQR = 0.00\n",
      "max_IQR = 0.00\n",
      "--> outlier found above = 51.60\n",
      "\n",
      "Attribute- PM2.5 :\n",
      "Q1 = 0.00\n",
      "Q3 = 0.00\n",
      "min_IQR = 0.00\n",
      "max_IQR = 0.00\n",
      "--> outlier found above = 68.70\n",
      "\n",
      "Attribute- PM4 :\n",
      "Q1 = 0.00\n",
      "Q3 = 0.00\n",
      "min_IQR = 0.00\n",
      "max_IQR = 0.00\n",
      "--> outlier found above = 79.80\n",
      "\n",
      "Attribute- PM10 :\n",
      "Q1 = 4.34\n",
      "Q3 = 7.09\n",
      "min_IQR = 0.22\n",
      "max_IQR = 11.21\n",
      "--> outlier found above = 91.60\n",
      "\n",
      "Attribute- TSP :\n",
      "Q1 = 0.00\n",
      "Q3 = 0.00\n",
      "min_IQR = 0.00\n",
      "max_IQR = 0.00\n",
      "--> outlier found above = 92.90\n",
      "\n",
      "Attribute- TEMP :\n",
      "Q1 = 21.30\n",
      "Q3 = 28.42\n",
      "min_IQR = 10.62\n",
      "max_IQR = 39.09\n",
      "--> outlier found above = 124.60\n",
      "\n",
      "Attribute- HUM :\n",
      "Q1 = 57.80\n",
      "Q3 = 94.03\n",
      "min_IQR = 3.45\n",
      "max_IQR = 148.38\n",
      "--> outlier found above = 313.40\n",
      "\n",
      "Attribute- WS :\n",
      "Q1 = 0.24\n",
      "Q3 = 4.96\n",
      "min_IQR = -6.85\n",
      "max_IQR = 12.05\n",
      "--> outlier found above = 199.20\n",
      "\n",
      "Attribute- WD :\n",
      "Q1 = 4.67\n",
      "Q3 = 10.60\n",
      "min_IQR = -4.23\n",
      "max_IQR = 19.50\n",
      "\n",
      "Attribute- ISPU :\n",
      "Q1 = 8.17\n",
      "Q3 = 11.00\n",
      "min_IQR = 3.92\n",
      "max_IQR = 15.25\n",
      "--> outlier found above = 156.50\n"
     ]
    }
   ],
   "source": [
    "# Calculate quantile for each variable\n",
    "def calculate_quantile (i, df2):\n",
    "    Q1 = df2[[i]].quantile(0.25)[0]\n",
    "    Q3 = df2[[i]].quantile(0.75)[0]\n",
    "    IQR = Q3 - Q1\n",
    "    min = df2[[i]].min()[0]\n",
    "    max = df2[[i]].max()[0]\n",
    "    min_IQR = Q1 - 1.5*IQR\n",
    "    max_IQR = Q3 + 1.5*IQR\n",
    "    return Q1,Q3,min,max,min_IQR,max_IQR\n",
    "\n",
    "# delete first and Last rows to avoid missing value extrapolation\n",
    "df2. drop(index=[df2.index[0],df2.index[df2.shape[0]-1]],inplace=True)\n",
    "# find and interpolate the outliers\n",
    "for i in df2.columns:\n",
    "    print('\\nAttribute-',i,':')\n",
    "    Q1, Q3, min, max, min_IQR, max_IQR = calculate_quantile(i, df2)\n",
    "    print ('Q1 = %.2f' % Q1)\n",
    "    print('Q3 = %.2f' % Q3)\n",
    "    print('min_IQR = %.2f' % min_IQR)\n",
    "    print('max_IQR = %.2f' % max_IQR)\n",
    "    if(min < min_IQR):\n",
    "        print('--> outlier found below = %.2f' % min)\n",
    "    if(max > max_IQR):\n",
    "        print('--> outlier found above = %.2f' % max)\n"
   ]
  },
  {
   "cell_type": "code",
   "execution_count": 20,
   "metadata": {},
   "outputs": [
    {
     "name": "stdout",
     "output_type": "stream",
     "text": [
      "######## Outliers have been interpolated #######\n"
     ]
    }
   ],
   "source": [
    "# getting rid of outliers\n",
    "def convert_nan (x, max_IQR=max_IQR, min_IQR=min_IQR):\n",
    "    if ((x > max_IQR) | (x < min_IQR)):\n",
    "        x = np.nan\n",
    "    else:\n",
    "        x=x\n",
    "    return x\n",
    "def convert_nan_HUM (x, max_IQR=100.0, min_IQR=min_IQR):\n",
    "    if ((x > max_IQR) | (x < min_IQR)):\n",
    "        x = np.nan\n",
    "    else:\n",
    "        x=x\n",
    "\n",
    "if (i=='HUM'):\n",
    "    df2[i] = df2[i].map(convert_nan_HUM)\n",
    "    df2[i] = df2[i].interpolate (method='linear') # give outliers new values by interpolation\n",
    "if (i !='HUM'):\n",
    "    df2[i] = df2[i].map(convert_nan)\n",
    "    df2[i]=df2[i].interpolate(method='linear') # give outliers new values by interpolation\n",
    "if (len(df2[df2[i].isnull()][i]) == 0):\n",
    "    print('######## Outliers have been interpolated (been given new values) #######')"
   ]
  },
  {
   "cell_type": "code",
   "execution_count": 21,
   "metadata": {},
   "outputs": [
    {
     "data": {
      "text/plain": [
       "(1729, 1)"
      ]
     },
     "execution_count": 21,
     "metadata": {},
     "output_type": "execute_result"
    }
   ],
   "source": [
    "# Log transformation to deal with skewed data (domain-specific knowledge to do that)\n",
    "dataset = np.log1p(df2[['TEMP']].values)\n",
    "dataset.shape"
   ]
  },
  {
   "cell_type": "code",
   "execution_count": 24,
   "metadata": {},
   "outputs": [
    {
     "data": {
      "text/plain": [
       "<Figure size 1200x500 with 0 Axes>"
      ]
     },
     "metadata": {},
     "output_type": "display_data"
    },
    {
     "data": {
      "image/png": "[encoded data removed]",
      "text/plain": [
       "<Figure size 640x480 with 2 Axes>"
      ]
     },
     "metadata": {},
     "output_type": "display_data"
    }
   ],
   "source": [
    "# Create new dataframe to compare the original vs Log transform data\n",
    "dist_df = pd.DataFrame ({'TEMP': df2['TEMP'].values,'log_TEMP' : dataset[:,0]})\n",
    "\n",
    "# Histogram plot original vs Log transform data\n",
    "plt.figure(figsize=(12,5))\n",
    "dist_df.hist();"
   ]
  },
  {
   "cell_type": "code",
   "execution_count": 25,
   "metadata": {},
   "outputs": [
    {
     "name": "stdout",
     "output_type": "stream",
     "text": [
      "1296 433\n"
     ]
    }
   ],
   "source": [
    "# Split the dataset into train and test sets\n",
    "train_size = int(len(dataset) * 0.75)\n",
    "test_size = len(dataset) - train_size\n",
    "train, test = dataset[0:train_size,:], dataset[train_size:len(dataset),:]\n",
    "print(len(train), len(test))"
   ]
  },
  {
   "cell_type": "code",
   "execution_count": 28,
   "metadata": {},
   "outputs": [
    {
     "name": "stdout",
     "output_type": "stream",
     "text": [
      "Shape of trainX : (1294, 1)\n",
      "Shape of trainY : (1294,)\n",
      "Shape of testX : (431, 1)\n",
      "Shape of testY : (431,)\n"
     ]
    }
   ],
   "source": [
    "# Convert an array of values into a dataset matrix\n",
    "def create_dataset(dataset, look_back=1):\n",
    "    dataX, dataY = [], []\n",
    "    for i in range(len(dataset)-look_back-1):\n",
    "        a = dataset[i:(i+look_back), 0]\n",
    "        dataX.append(a)\n",
    "        dataY. append(dataset[i + look_back, 0])\n",
    "    return np.array(dataX), np.array(dataY)\n",
    "\n",
    "# Reshape train and test data\n",
    "look_back = 1\n",
    "trainX, trainY = create_dataset(train, look_back)\n",
    "testX, testY = create_dataset(test, look_back)\n",
    "\n",
    "print ('Shape of trainX :', trainX.shape)\n",
    "print ('Shape of trainY :', trainY.shape)\n",
    "print ('Shape of testX :', testX.shape)\n",
    "print ('Shape of testY :', testY.shape)"
   ]
  },
  {
   "cell_type": "code",
   "execution_count": 5,
   "metadata": {},
   "outputs": [],
   "source": [
    "# march22_session\n",
    "from sklearn.datasets import fetch_openml\n",
    "from sklearn.metrics import accuracy_score,classification_report\n",
    "from sklearn.neighbors import KNeighborsClassifier\n",
    "import numpy as np\n",
    "from sklearn import svm\n",
    "mnist = fetch_openml('mnist_784')"
   ]
  }
 ],
 "metadata": {
  "kernelspec": {
   "display_name": "Python 3 (ipykernel)",
   "language": "python",
   "name": "python3"
  },
  "language_info": {
   "codemirror_mode": {
    "name": "ipython",
    "version": 3
   },
   "file_extension": ".py",
   "mimetype": "text/x-python",
   "name": "python",
   "nbconvert_exporter": "python",
   "pygments_lexer": "ipython3",
   "version": "3.8.18"
  }
 },
 "nbformat": 4,
 "nbformat_minor": 4
}
